{
 "cells": [
  {
   "cell_type": "code",
   "execution_count": 1,
   "id": "de28ebb4",
   "metadata": {
    "_cell_guid": "b1076dfc-b9ad-4769-8c92-a6c4dae69d19",
    "_uuid": "8f2839f25d086af736a60e9eeb907d3b93b6e0e5",
    "execution": {
     "iopub.execute_input": "2022-08-04T17:01:04.996476Z",
     "iopub.status.busy": "2022-08-04T17:01:04.995763Z",
     "iopub.status.idle": "2022-08-04T17:01:05.005191Z",
     "shell.execute_reply": "2022-08-04T17:01:05.005728Z",
     "shell.execute_reply.started": "2022-08-04T16:47:23.159328Z"
    },
    "papermill": {
     "duration": 0.034838,
     "end_time": "2022-08-04T17:01:05.006079",
     "exception": false,
     "start_time": "2022-08-04T17:01:04.971241",
     "status": "completed"
    },
    "tags": []
   },
   "outputs": [
    {
     "name": "stdout",
     "output_type": "stream",
     "text": [
      "/kaggle/input/sentiment-labelled-sentences-data-set/amazon_cells_labelled.txt\n",
      "/kaggle/input/sentiment-labelled-sentences-data-set/imdb_labelled.txt\n",
      "/kaggle/input/sentiment-labelled-sentences-data-set/yelp_labelled.txt\n"
     ]
    }
   ],
   "source": [
    "# This Python 3 environment comes with many helpful analytics libraries installed\n",
    "# It is defined by the kaggle/python Docker image: https://github.com/kaggle/docker-python\n",
    "# For example, here's several helpful packages to load\n",
    "\n",
    "import numpy as np # linear algebra\n",
    "import pandas as pd # data processing, CSV file I/O (e.g. pd.read_csv)\n",
    "\n",
    "# Input data files are available in the read-only \"../input/\" directory\n",
    "# For example, running this (by clicking run or pressing Shift+Enter) will list all files under the input directory\n",
    "\n",
    "import os\n",
    "for dirname, _, filenames in os.walk('/kaggle/input'):\n",
    "    for filename in filenames:\n",
    "        print(os.path.join(dirname, filename))\n",
    "\n",
    "# You can write up to 20GB to the current directory (/kaggle/working/) that gets preserved as output when you create a version using \"Save & Run All\" \n",
    "# You can also write temporary files to /kaggle/temp/, but they won't be saved outside of the current session"
   ]
  },
  {
   "cell_type": "code",
   "execution_count": 2,
   "id": "aadb51ac",
   "metadata": {
    "execution": {
     "iopub.execute_input": "2022-08-04T17:01:05.050185Z",
     "iopub.status.busy": "2022-08-04T17:01:05.049428Z",
     "iopub.status.idle": "2022-08-04T17:01:15.873559Z",
     "shell.execute_reply": "2022-08-04T17:01:15.874267Z",
     "shell.execute_reply.started": "2022-08-04T16:47:23.391520Z"
    },
    "papermill": {
     "duration": 10.854808,
     "end_time": "2022-08-04T17:01:15.874473",
     "exception": false,
     "start_time": "2022-08-04T17:01:05.019665",
     "status": "completed"
    },
    "tags": []
   },
   "outputs": [],
   "source": [
    "%%capture\n",
    "!pip install contractions"
   ]
  },
  {
   "cell_type": "code",
   "execution_count": 3,
   "id": "35083c8a",
   "metadata": {
    "execution": {
     "iopub.execute_input": "2022-08-04T17:01:15.912003Z",
     "iopub.status.busy": "2022-08-04T17:01:15.910831Z",
     "iopub.status.idle": "2022-08-04T17:01:18.152554Z",
     "shell.execute_reply": "2022-08-04T17:01:18.151772Z",
     "shell.execute_reply.started": "2022-08-04T16:47:33.358683Z"
    },
    "papermill": {
     "duration": 2.26557,
     "end_time": "2022-08-04T17:01:18.152832",
     "exception": false,
     "start_time": "2022-08-04T17:01:15.887262",
     "status": "completed"
    },
    "tags": []
   },
   "outputs": [],
   "source": [
    "import nltk\n",
    "import string\n",
    "import random\n",
    "import re\n",
    "import contractions\n",
    "import warnings\n",
    "\n",
    "import matplotlib.pyplot as plt\n",
    "import seaborn as sns\n",
    "import sklearn\n",
    "from sklearn.feature_extraction import text as text_learn\n",
    "from sklearn.model_selection import train_test_split, GridSearchCV\n",
    "from sklearn.pipeline import Pipeline\n",
    "from sklearn import metrics, naive_bayes\n",
    "from sklearn import ensemble, linear_model, tree, decomposition\n",
    "from nltk.corpus import stopwords\n",
    "from nltk.tokenize import word_tokenize\n",
    "from nltk.stem import WordNetLemmatizer\n",
    "\n",
    "fig_size = plt.rcParams['figure.figsize']\n",
    "eng_stopwords = set(stopwords.words('english'))\n",
    "warnings.filterwarnings('ignore')\n",
    "\n",
    "%matplotlib inline"
   ]
  },
  {
   "cell_type": "code",
   "execution_count": 4,
   "id": "5eb0380e",
   "metadata": {
    "execution": {
     "iopub.execute_input": "2022-08-04T17:01:18.184825Z",
     "iopub.status.busy": "2022-08-04T17:01:18.184086Z",
     "iopub.status.idle": "2022-08-04T17:01:18.189584Z",
     "shell.execute_reply": "2022-08-04T17:01:18.188890Z",
     "shell.execute_reply.started": "2022-08-04T16:47:44.146095Z"
    },
    "papermill": {
     "duration": 0.02462,
     "end_time": "2022-08-04T17:01:18.189736",
     "exception": false,
     "start_time": "2022-08-04T17:01:18.165116",
     "status": "completed"
    },
    "tags": []
   },
   "outputs": [],
   "source": [
    "def process(text:str):\n",
    "    text = contractions.fix(text)\n",
    "    text = text.translate(str.maketrans({key: f\" {key} \" for key in string.punctuation}))\n",
    "    text = text.translate(str.maketrans('', '', string.punctuation))\n",
    "    text = text.lower()\n",
    "    text = text.split()\n",
    "    lemmatizer = WordNetLemmatizer()\n",
    "    lemmatized_words = [lemmatizer.lemmatize(word) for word in text]\n",
    "    text = \" \".join(lemmatized_words)\n",
    "\n",
    "    return text"
   ]
  },
  {
   "cell_type": "code",
   "execution_count": 5,
   "id": "b8eb0376",
   "metadata": {
    "execution": {
     "iopub.execute_input": "2022-08-04T17:01:18.221104Z",
     "iopub.status.busy": "2022-08-04T17:01:18.220099Z",
     "iopub.status.idle": "2022-08-04T17:01:18.278870Z",
     "shell.execute_reply": "2022-08-04T17:01:18.278340Z",
     "shell.execute_reply.started": "2022-08-04T16:47:44.154472Z"
    },
    "papermill": {
     "duration": 0.076983,
     "end_time": "2022-08-04T17:01:18.279032",
     "exception": false,
     "start_time": "2022-08-04T17:01:18.202049",
     "status": "completed"
    },
    "tags": []
   },
   "outputs": [
    {
     "data": {
      "text/html": [
       "<div>\n",
       "<style scoped>\n",
       "    .dataframe tbody tr th:only-of-type {\n",
       "        vertical-align: middle;\n",
       "    }\n",
       "\n",
       "    .dataframe tbody tr th {\n",
       "        vertical-align: top;\n",
       "    }\n",
       "\n",
       "    .dataframe thead th {\n",
       "        text-align: right;\n",
       "    }\n",
       "</style>\n",
       "<table border=\"1\" class=\"dataframe\">\n",
       "  <thead>\n",
       "    <tr style=\"text-align: right;\">\n",
       "      <th></th>\n",
       "      <th>Sentence</th>\n",
       "      <th>Sentiment</th>\n",
       "    </tr>\n",
       "  </thead>\n",
       "  <tbody>\n",
       "    <tr>\n",
       "      <th>0</th>\n",
       "      <td>So there is no way for me to plug it in here i...</td>\n",
       "      <td>0</td>\n",
       "    </tr>\n",
       "    <tr>\n",
       "      <th>1</th>\n",
       "      <td>Good case, Excellent value.</td>\n",
       "      <td>1</td>\n",
       "    </tr>\n",
       "    <tr>\n",
       "      <th>2</th>\n",
       "      <td>Great for the jawbone.</td>\n",
       "      <td>1</td>\n",
       "    </tr>\n",
       "    <tr>\n",
       "      <th>3</th>\n",
       "      <td>Tied to charger for conversations lasting more...</td>\n",
       "      <td>0</td>\n",
       "    </tr>\n",
       "    <tr>\n",
       "      <th>4</th>\n",
       "      <td>The mic is great.</td>\n",
       "      <td>1</td>\n",
       "    </tr>\n",
       "    <tr>\n",
       "      <th>...</th>\n",
       "      <td>...</td>\n",
       "      <td>...</td>\n",
       "    </tr>\n",
       "    <tr>\n",
       "      <th>2743</th>\n",
       "      <td>I think food should have flavor and texture an...</td>\n",
       "      <td>0</td>\n",
       "    </tr>\n",
       "    <tr>\n",
       "      <th>2744</th>\n",
       "      <td>Appetite instantly gone.</td>\n",
       "      <td>0</td>\n",
       "    </tr>\n",
       "    <tr>\n",
       "      <th>2745</th>\n",
       "      <td>Overall I was not impressed and would not go b...</td>\n",
       "      <td>0</td>\n",
       "    </tr>\n",
       "    <tr>\n",
       "      <th>2746</th>\n",
       "      <td>The whole experience was underwhelming, and I ...</td>\n",
       "      <td>0</td>\n",
       "    </tr>\n",
       "    <tr>\n",
       "      <th>2747</th>\n",
       "      <td>Then, as if I hadn't wasted enough of my life ...</td>\n",
       "      <td>0</td>\n",
       "    </tr>\n",
       "  </tbody>\n",
       "</table>\n",
       "<p>2748 rows × 2 columns</p>\n",
       "</div>"
      ],
      "text/plain": [
       "                                               Sentence  Sentiment\n",
       "0     So there is no way for me to plug it in here i...          0\n",
       "1                           Good case, Excellent value.          1\n",
       "2                                Great for the jawbone.          1\n",
       "3     Tied to charger for conversations lasting more...          0\n",
       "4                                     The mic is great.          1\n",
       "...                                                 ...        ...\n",
       "2743  I think food should have flavor and texture an...          0\n",
       "2744                           Appetite instantly gone.          0\n",
       "2745  Overall I was not impressed and would not go b...          0\n",
       "2746  The whole experience was underwhelming, and I ...          0\n",
       "2747  Then, as if I hadn't wasted enough of my life ...          0\n",
       "\n",
       "[2748 rows x 2 columns]"
      ]
     },
     "execution_count": 5,
     "metadata": {},
     "output_type": "execute_result"
    }
   ],
   "source": [
    "df_list = [pd.read_csv(os.path.join(dirname, filename), sep='\\t', header=None, names=[\"Sentence\", \"Sentiment\"]) for filename in filenames]\n",
    "df = pd.concat(df_list, ignore_index=True)\n",
    "df"
   ]
  },
  {
   "cell_type": "code",
   "execution_count": 6,
   "id": "c57c6325",
   "metadata": {
    "execution": {
     "iopub.execute_input": "2022-08-04T17:01:18.312590Z",
     "iopub.status.busy": "2022-08-04T17:01:18.311725Z",
     "iopub.status.idle": "2022-08-04T17:01:20.677990Z",
     "shell.execute_reply": "2022-08-04T17:01:20.678575Z",
     "shell.execute_reply.started": "2022-08-04T16:47:44.248880Z"
    },
    "papermill": {
     "duration": 2.38687,
     "end_time": "2022-08-04T17:01:20.678774",
     "exception": false,
     "start_time": "2022-08-04T17:01:18.291904",
     "status": "completed"
    },
    "tags": []
   },
   "outputs": [
    {
     "data": {
      "text/html": [
       "<div>\n",
       "<style scoped>\n",
       "    .dataframe tbody tr th:only-of-type {\n",
       "        vertical-align: middle;\n",
       "    }\n",
       "\n",
       "    .dataframe tbody tr th {\n",
       "        vertical-align: top;\n",
       "    }\n",
       "\n",
       "    .dataframe thead th {\n",
       "        text-align: right;\n",
       "    }\n",
       "</style>\n",
       "<table border=\"1\" class=\"dataframe\">\n",
       "  <thead>\n",
       "    <tr style=\"text-align: right;\">\n",
       "      <th></th>\n",
       "      <th>Sentence</th>\n",
       "      <th>Sentiment</th>\n",
       "      <th>processed_sentence</th>\n",
       "    </tr>\n",
       "  </thead>\n",
       "  <tbody>\n",
       "    <tr>\n",
       "      <th>0</th>\n",
       "      <td>So there is no way for me to plug it in here i...</td>\n",
       "      <td>0</td>\n",
       "      <td>so there is no way for me to plug it in here i...</td>\n",
       "    </tr>\n",
       "    <tr>\n",
       "      <th>1</th>\n",
       "      <td>Good case, Excellent value.</td>\n",
       "      <td>1</td>\n",
       "      <td>good case excellent value</td>\n",
       "    </tr>\n",
       "    <tr>\n",
       "      <th>2</th>\n",
       "      <td>Great for the jawbone.</td>\n",
       "      <td>1</td>\n",
       "      <td>great for the jawbone</td>\n",
       "    </tr>\n",
       "    <tr>\n",
       "      <th>3</th>\n",
       "      <td>Tied to charger for conversations lasting more...</td>\n",
       "      <td>0</td>\n",
       "      <td>tied to charger for conversation lasting more ...</td>\n",
       "    </tr>\n",
       "    <tr>\n",
       "      <th>4</th>\n",
       "      <td>The mic is great.</td>\n",
       "      <td>1</td>\n",
       "      <td>the mic is great</td>\n",
       "    </tr>\n",
       "    <tr>\n",
       "      <th>...</th>\n",
       "      <td>...</td>\n",
       "      <td>...</td>\n",
       "      <td>...</td>\n",
       "    </tr>\n",
       "    <tr>\n",
       "      <th>2743</th>\n",
       "      <td>I think food should have flavor and texture an...</td>\n",
       "      <td>0</td>\n",
       "      <td>i think food should have flavor and texture an...</td>\n",
       "    </tr>\n",
       "    <tr>\n",
       "      <th>2744</th>\n",
       "      <td>Appetite instantly gone.</td>\n",
       "      <td>0</td>\n",
       "      <td>appetite instantly gone</td>\n",
       "    </tr>\n",
       "    <tr>\n",
       "      <th>2745</th>\n",
       "      <td>Overall I was not impressed and would not go b...</td>\n",
       "      <td>0</td>\n",
       "      <td>overall i wa not impressed and would not go back</td>\n",
       "    </tr>\n",
       "    <tr>\n",
       "      <th>2746</th>\n",
       "      <td>The whole experience was underwhelming, and I ...</td>\n",
       "      <td>0</td>\n",
       "      <td>the whole experience wa underwhelming and i th...</td>\n",
       "    </tr>\n",
       "    <tr>\n",
       "      <th>2747</th>\n",
       "      <td>Then, as if I hadn't wasted enough of my life ...</td>\n",
       "      <td>0</td>\n",
       "      <td>then a if i had not wasted enough of my life t...</td>\n",
       "    </tr>\n",
       "  </tbody>\n",
       "</table>\n",
       "<p>2748 rows × 3 columns</p>\n",
       "</div>"
      ],
      "text/plain": [
       "                                               Sentence  Sentiment  \\\n",
       "0     So there is no way for me to plug it in here i...          0   \n",
       "1                           Good case, Excellent value.          1   \n",
       "2                                Great for the jawbone.          1   \n",
       "3     Tied to charger for conversations lasting more...          0   \n",
       "4                                     The mic is great.          1   \n",
       "...                                                 ...        ...   \n",
       "2743  I think food should have flavor and texture an...          0   \n",
       "2744                           Appetite instantly gone.          0   \n",
       "2745  Overall I was not impressed and would not go b...          0   \n",
       "2746  The whole experience was underwhelming, and I ...          0   \n",
       "2747  Then, as if I hadn't wasted enough of my life ...          0   \n",
       "\n",
       "                                     processed_sentence  \n",
       "0     so there is no way for me to plug it in here i...  \n",
       "1                             good case excellent value  \n",
       "2                                 great for the jawbone  \n",
       "3     tied to charger for conversation lasting more ...  \n",
       "4                                      the mic is great  \n",
       "...                                                 ...  \n",
       "2743  i think food should have flavor and texture an...  \n",
       "2744                            appetite instantly gone  \n",
       "2745   overall i wa not impressed and would not go back  \n",
       "2746  the whole experience wa underwhelming and i th...  \n",
       "2747  then a if i had not wasted enough of my life t...  \n",
       "\n",
       "[2748 rows x 3 columns]"
      ]
     },
     "execution_count": 6,
     "metadata": {},
     "output_type": "execute_result"
    }
   ],
   "source": [
    "df[\"processed_sentence\"] = df.Sentence.apply(process)\n",
    "df"
   ]
  },
  {
   "cell_type": "code",
   "execution_count": 7,
   "id": "e879dce9",
   "metadata": {
    "execution": {
     "iopub.execute_input": "2022-08-04T17:01:20.716274Z",
     "iopub.status.busy": "2022-08-04T17:01:20.715493Z",
     "iopub.status.idle": "2022-08-04T17:01:20.723478Z",
     "shell.execute_reply": "2022-08-04T17:01:20.724161Z",
     "shell.execute_reply.started": "2022-08-04T16:47:46.884971Z"
    },
    "papermill": {
     "duration": 0.030684,
     "end_time": "2022-08-04T17:01:20.724365",
     "exception": false,
     "start_time": "2022-08-04T17:01:20.693681",
     "status": "completed"
    },
    "tags": []
   },
   "outputs": [],
   "source": [
    "df_train, df_val = train_test_split(df[[\"processed_sentence\", \"Sentiment\"]], stratify=df.Sentiment, test_size=0.2)"
   ]
  },
  {
   "cell_type": "code",
   "execution_count": 8,
   "id": "2d49a357",
   "metadata": {
    "execution": {
     "iopub.execute_input": "2022-08-04T17:01:20.755338Z",
     "iopub.status.busy": "2022-08-04T17:01:20.754321Z",
     "iopub.status.idle": "2022-08-04T17:01:21.016684Z",
     "shell.execute_reply": "2022-08-04T17:01:21.017309Z",
     "shell.execute_reply.started": "2022-08-04T16:47:46.903231Z"
    },
    "papermill": {
     "duration": 0.279283,
     "end_time": "2022-08-04T17:01:21.017506",
     "exception": false,
     "start_time": "2022-08-04T17:01:20.738223",
     "status": "completed"
    },
    "tags": []
   },
   "outputs": [
    {
     "data": {
      "image/png": "[encoded data removed]",
      "text/plain": [
       "<Figure size 864x288 with 2 Axes>"
      ]
     },
     "metadata": {
      "needs_background": "light"
     },
     "output_type": "display_data"
    }
   ],
   "source": [
    "fig, ax = plt.subplots(1, 2, figsize=(fig_size[0] * 2, fig_size[1] * 1))\n",
    "_ = sns.countplot(df_train.Sentiment, ax=ax[0])\n",
    "_ = sns.countplot(df_val.Sentiment, ax=ax[1])"
   ]
  },
  {
   "cell_type": "code",
   "execution_count": 9,
   "id": "d41f46ea",
   "metadata": {
    "execution": {
     "iopub.execute_input": "2022-08-04T17:01:21.052653Z",
     "iopub.status.busy": "2022-08-04T17:01:21.051948Z",
     "iopub.status.idle": "2022-08-04T17:06:18.012696Z",
     "shell.execute_reply": "2022-08-04T17:06:18.014002Z",
     "shell.execute_reply.started": "2022-08-04T16:47:47.159069Z"
    },
    "papermill": {
     "duration": 296.982552,
     "end_time": "2022-08-04T17:06:18.014415",
     "exception": false,
     "start_time": "2022-08-04T17:01:21.031863",
     "status": "completed"
    },
    "tags": []
   },
   "outputs": [
    {
     "data": {
      "text/plain": [
       "GridSearchCV(estimator=Pipeline(steps=[('tfidf', TfidfVectorizer()),\n",
       "                                       ('logistic_regression',\n",
       "                                        LogisticRegression(max_iter=250))]),\n",
       "             param_grid={'logistic_regression__C': [0.25, 0.32022167244106814,\n",
       "                                                    0.410167678003819,\n",
       "                                                    0.5253783193266097,\n",
       "                                                    0.6729500963161781,\n",
       "                                                    0.8619728212469778,\n",
       "                                                    1.1040895136738123,\n",
       "                                                    1.4142135623730951,\n",
       "                                                    1.8114473285278134,\n",
       "                                                    2.320258772320326,\n",
       "                                                    2.971988578...\n",
       "                                                    3.806780612042479,\n",
       "                                                    4.8760546168179015,\n",
       "                                                    6.245673457245682, 8.0,\n",
       "                                                    0.01, 0.022758459260747887,\n",
       "                                                    0.05179474679231213,\n",
       "                                                    0.11787686347935872,\n",
       "                                                    0.2682695795279726,\n",
       "                                                    0.6105402296585329,\n",
       "                                                    1.3894954943731375,\n",
       "                                                    3.1622776601683795,\n",
       "                                                    7.196856730011521,\n",
       "                                                    16.378937069540648,\n",
       "                                                    37.27593720314942,\n",
       "                                                    84.83428982440725,\n",
       "                                                    193.06977288832496,\n",
       "                                                    439.3970560760795, 1000.0],\n",
       "                         'tfidf__ngram_range': [(1, 1), (1, 2), (2, 2),\n",
       "                                                (1, 3)]})"
      ]
     },
     "execution_count": 9,
     "metadata": {},
     "output_type": "execute_result"
    }
   ],
   "source": [
    "tfpipe = Pipeline([\n",
    "    ('tfidf', text_learn.TfidfVectorizer()),\n",
    "    ('logistic_regression', linear_model.LogisticRegression(max_iter=250))\n",
    "])\n",
    "\n",
    "param_grid = {\n",
    "    'logistic_regression__C': np.logspace(-2, 3, base=2, num=15).tolist() + np.logspace(-2, 3, base=10, num=15).tolist(),\n",
    "    'tfidf__ngram_range': [(1, 1), (1, 2), (2, 2), (1, 3)]\n",
    "}\n",
    "\n",
    "model_grid = GridSearchCV(tfpipe, param_grid)\n",
    "model_grid.fit(df_train.processed_sentence, df_train.Sentiment)"
   ]
  },
  {
   "cell_type": "code",
   "execution_count": 10,
   "id": "59880937",
   "metadata": {
    "execution": {
     "iopub.execute_input": "2022-08-04T17:06:18.075177Z",
     "iopub.status.busy": "2022-08-04T17:06:18.074072Z",
     "iopub.status.idle": "2022-08-04T17:06:18.078348Z",
     "shell.execute_reply": "2022-08-04T17:06:18.078979Z",
     "shell.execute_reply.started": "2022-08-04T16:52:26.665003Z"
    },
    "papermill": {
     "duration": 0.028325,
     "end_time": "2022-08-04T17:06:18.079200",
     "exception": false,
     "start_time": "2022-08-04T17:06:18.050875",
     "status": "completed"
    },
    "tags": []
   },
   "outputs": [
    {
     "data": {
      "text/plain": [
       "{'logistic_regression__C': 1000.0, 'tfidf__ngram_range': (1, 3)}"
      ]
     },
     "execution_count": 10,
     "metadata": {},
     "output_type": "execute_result"
    }
   ],
   "source": [
    "best_model_tf = model_grid.best_estimator_\n",
    "model_grid.best_params_"
   ]
  },
  {
   "cell_type": "code",
   "execution_count": 11,
   "id": "0b4b6bcb",
   "metadata": {
    "execution": {
     "iopub.execute_input": "2022-08-04T17:06:18.148434Z",
     "iopub.status.busy": "2022-08-04T17:06:18.131272Z",
     "iopub.status.idle": "2022-08-04T17:06:20.131598Z",
     "shell.execute_reply": "2022-08-04T17:06:20.131000Z",
     "shell.execute_reply.started": "2022-08-04T16:52:26.682283Z"
    },
    "papermill": {
     "duration": 2.035952,
     "end_time": "2022-08-04T17:06:20.131909",
     "exception": false,
     "start_time": "2022-08-04T17:06:18.095957",
     "status": "completed"
    },
    "tags": []
   },
   "outputs": [
    {
     "name": "stdout",
     "output_type": "stream",
     "text": [
      "Accuracy: 85.27%\n",
      "Precision: 0.853\n",
      "Recall: 0.856\n",
      "F1 Score: 0.854\n",
      "AUC: 0.928\n"
     ]
    },
    {
     "data": {
      "image/png": "[encoded data removed]",
      "text/plain": [
       "<Figure size 1296x432 with 3 Axes>"
      ]
     },
     "metadata": {
      "needs_background": "light"
     },
     "output_type": "display_data"
    }
   ],
   "source": [
    "y_true = df_val.Sentiment.values\n",
    "y_pred = best_model_tf.predict(df_val.processed_sentence.values)\n",
    "y_pred_proba = best_model_tf.predict_proba(df_val.processed_sentence.values)[:, 1]\n",
    "\n",
    "# compute metrics on validation set\n",
    "accuracy = (y_pred == y_true).sum() / df_val.shape[0]\n",
    "conf_matrix = metrics.confusion_matrix(y_true, y_pred)\n",
    "precision = metrics.precision_score(y_true, y_pred)\n",
    "recall = metrics.recall_score(y_true, y_pred)\n",
    "f1_score = metrics.f1_score(y_true, y_pred)\n",
    "fpr, tpr, thresholds = metrics.roc_curve(y_true, y_pred_proba)\n",
    "auc_score = metrics.auc(fpr, tpr)\n",
    "\n",
    "print(f\"Accuracy: {accuracy * 100:.2f}%\")\n",
    "print(f\"Precision: {precision:.3f}\")\n",
    "print(f\"Recall: {recall:.3f}\")\n",
    "print(f\"F1 Score: {f1_score:.3f}\")\n",
    "print(f\"AUC: {auc_score:.3f}\")\n",
    "\n",
    "nrows = 1\n",
    "ncols = 2\n",
    "fig, ax = plt.subplots(nrows, ncols, figsize=(fig_size[0] * 1.5 * ncols, fig_size[1] * 1.5 * nrows))\n",
    "_ = sns.heatmap(conf_matrix, annot=True, fmt='d', ax=ax[0])\n",
    "_ = ax[0].set_xticklabels([\"negative\", \"positive\"], fontsize=13)\n",
    "_ = ax[0].set_yticklabels([\"negative\", \"positive\"], fontsize=13)\n",
    "_ = ax[0].set_xlabel(\"Predicted Labels\", fontsize=15)\n",
    "_ = ax[0].set_ylabel(\"Actual Labels\", fontsize=15)\n",
    "_ = sns.lineplot(fpr, tpr, ax=ax[1], label=f\"AUC: {auc_score:.3f}\")\n",
    "_ = ax[1].set_xlabel(\"False Positive Rate\", fontsize=13)\n",
    "_ = ax[1].set_ylabel(\"True Positive Rate\", fontsize=13)\n",
    "_ = plt.tight_layout()"
   ]
  },
  {
   "cell_type": "code",
   "execution_count": 12,
   "id": "09708621",
   "metadata": {
    "execution": {
     "iopub.execute_input": "2022-08-04T17:06:20.179898Z",
     "iopub.status.busy": "2022-08-04T17:06:20.179160Z",
     "iopub.status.idle": "2022-08-04T17:12:34.465096Z",
     "shell.execute_reply": "2022-08-04T17:12:34.466243Z",
     "shell.execute_reply.started": "2022-08-04T16:52:28.788496Z"
    },
    "papermill": {
     "duration": 374.315242,
     "end_time": "2022-08-04T17:12:34.466601",
     "exception": false,
     "start_time": "2022-08-04T17:06:20.151359",
     "status": "completed"
    },
    "tags": []
   },
   "outputs": [
    {
     "data": {
      "text/plain": [
       "GridSearchCV(estimator=Pipeline(steps=[('bow', CountVectorizer()),\n",
       "                                       ('logistic_regression',\n",
       "                                        LogisticRegression(max_iter=250))]),\n",
       "             param_grid={'bow__ngram_range': [(1, 1), (1, 2), (2, 2), (1, 3)],\n",
       "                         'logistic_regression__C': [0.25, 0.32022167244106814,\n",
       "                                                    0.410167678003819,\n",
       "                                                    0.5253783193266097,\n",
       "                                                    0.6729500963161781,\n",
       "                                                    0.8619728212469778,\n",
       "                                                    1.1040895136738123,\n",
       "                                                    1.4142135623730951,\n",
       "                                                    1.811...\n",
       "                                                    2.320258772320326,\n",
       "                                                    2.9719885782738973,\n",
       "                                                    3.806780612042479,\n",
       "                                                    4.8760546168179015,\n",
       "                                                    6.245673457245682, 8.0,\n",
       "                                                    0.01, 0.022758459260747887,\n",
       "                                                    0.05179474679231213,\n",
       "                                                    0.11787686347935872,\n",
       "                                                    0.2682695795279726,\n",
       "                                                    0.6105402296585329,\n",
       "                                                    1.3894954943731375,\n",
       "                                                    3.1622776601683795,\n",
       "                                                    7.196856730011521,\n",
       "                                                    16.378937069540648,\n",
       "                                                    37.27593720314942,\n",
       "                                                    84.83428982440725,\n",
       "                                                    193.06977288832496,\n",
       "                                                    439.3970560760795,\n",
       "                                                    1000.0]})"
      ]
     },
     "execution_count": 12,
     "metadata": {},
     "output_type": "execute_result"
    }
   ],
   "source": [
    "pipe = Pipeline([\n",
    "    ('bow', text_learn.CountVectorizer()),\n",
    "    ('logistic_regression', linear_model.LogisticRegression(max_iter=250))\n",
    "])\n",
    "\n",
    "param_grid = {\n",
    "    'logistic_regression__C': np.logspace(-2, 3, base=2, num=15).tolist() + np.logspace(-2, 3, base=10, num=15).tolist(),\n",
    "    'bow__ngram_range': [(1, 1), (1, 2), (2, 2), (1, 3)]\n",
    "}\n",
    "\n",
    "model_grid = GridSearchCV(pipe, param_grid)\n",
    "model_grid.fit(df_train.processed_sentence, df_train.Sentiment)"
   ]
  },
  {
   "cell_type": "code",
   "execution_count": 13,
   "id": "6e4c8575",
   "metadata": {
    "execution": {
     "iopub.execute_input": "2022-08-04T17:12:34.533800Z",
     "iopub.status.busy": "2022-08-04T17:12:34.532739Z",
     "iopub.status.idle": "2022-08-04T17:12:34.537431Z",
     "shell.execute_reply": "2022-08-04T17:12:34.536919Z",
     "shell.execute_reply.started": "2022-08-04T16:58:05.814946Z"
    },
    "papermill": {
     "duration": 0.027768,
     "end_time": "2022-08-04T17:12:34.537592",
     "exception": false,
     "start_time": "2022-08-04T17:12:34.509824",
     "status": "completed"
    },
    "tags": []
   },
   "outputs": [
    {
     "data": {
      "text/plain": [
       "{'bow__ngram_range': (1, 2), 'logistic_regression__C': 1000.0}"
      ]
     },
     "execution_count": 13,
     "metadata": {},
     "output_type": "execute_result"
    }
   ],
   "source": [
    "best_model = model_grid.best_estimator_\n",
    "model_grid.best_params_"
   ]
  },
  {
   "cell_type": "code",
   "execution_count": 14,
   "id": "ed80e9a9",
   "metadata": {
    "execution": {
     "iopub.execute_input": "2022-08-04T17:12:34.592112Z",
     "iopub.status.busy": "2022-08-04T17:12:34.586692Z",
     "iopub.status.idle": "2022-08-04T17:12:36.398455Z",
     "shell.execute_reply": "2022-08-04T17:12:36.397750Z",
     "shell.execute_reply.started": "2022-08-04T16:58:05.826856Z"
    },
    "papermill": {
     "duration": 1.842893,
     "end_time": "2022-08-04T17:12:36.398612",
     "exception": false,
     "start_time": "2022-08-04T17:12:34.555719",
     "status": "completed"
    },
    "tags": []
   },
   "outputs": [
    {
     "name": "stdout",
     "output_type": "stream",
     "text": [
      "Accuracy: 85.27%\n",
      "Precision: 0.855\n",
      "Recall: 0.852\n",
      "F1 Score: 0.854\n",
      "AUC: 0.916\n"
     ]
    },
    {
     "data": {
      "image/png": "[encoded data removed]",
      "text/plain": [
       "<Figure size 1296x432 with 3 Axes>"
      ]
     },
     "metadata": {
      "needs_background": "light"
     },
     "output_type": "display_data"
    }
   ],
   "source": [
    "y_true = df_val.Sentiment.values\n",
    "y_pred = best_model.predict(df_val.processed_sentence.values)\n",
    "y_pred_proba = best_model.predict_proba(df_val.processed_sentence.values)[:, 1]\n",
    "\n",
    "# compute metrics on validation set\n",
    "accuracy = (y_pred == y_true).sum() / df_val.shape[0]\n",
    "conf_matrix = metrics.confusion_matrix(y_true, y_pred)\n",
    "precision = metrics.precision_score(y_true, y_pred)\n",
    "recall = metrics.recall_score(y_true, y_pred)\n",
    "f1_score = metrics.f1_score(y_true, y_pred)\n",
    "fpr, tpr, thresholds = metrics.roc_curve(y_true, y_pred_proba)\n",
    "auc_score = metrics.auc(fpr, tpr)\n",
    "\n",
    "print(f\"Accuracy: {accuracy * 100:.2f}%\")\n",
    "print(f\"Precision: {precision:.3f}\")\n",
    "print(f\"Recall: {recall:.3f}\")\n",
    "print(f\"F1 Score: {f1_score:.3f}\")\n",
    "print(f\"AUC: {auc_score:.3f}\")\n",
    "\n",
    "nrows = 1\n",
    "ncols = 2\n",
    "fig, ax = plt.subplots(nrows, ncols, figsize=(fig_size[0] * 1.5 * ncols, fig_size[1] * 1.5 * nrows))\n",
    "_ = sns.heatmap(conf_matrix, annot=True, fmt='d', ax=ax[0])\n",
    "_ = ax[0].set_xticklabels([\"negative\", \"positive\"], fontsize=13)\n",
    "_ = ax[0].set_yticklabels([\"negative\", \"positive\"], fontsize=13)\n",
    "_ = ax[0].set_xlabel(\"Predicted Labels\", fontsize=15)\n",
    "_ = ax[0].set_ylabel(\"Actual Labels\", fontsize=15)\n",
    "_ = sns.lineplot(fpr, tpr, ax=ax[1], label=f\"AUC: {auc_score:.3f}\")\n",
    "_ = ax[1].set_xlabel(\"False Positive Rate\", fontsize=13)\n",
    "_ = ax[1].set_ylabel(\"True Positive Rate\", fontsize=13)\n",
    "_ = plt.tight_layout()"
   ]
  }
 ],
 "metadata": {
  "kernelspec": {
   "display_name": "Python 3",
   "language": "python",
   "name": "python3"
  },
  "language_info": {
   "codemirror_mode": {
    "name": "ipython",
    "version": 3
   },
   "file_extension": ".py",
   "mimetype": "text/x-python",
   "name": "python",
   "nbconvert_exporter": "python",
   "pygments_lexer": "ipython3",
   "version": "3.7.10"
  },
  "papermill": {
   "default_parameters": {},
   "duration": 702.244346,
   "end_time": "2022-08-04T17:12:38.295134",
   "environment_variables": {},
   "exception": null,
   "input_path": "__notebook__.ipynb",
   "output_path": "__notebook__.ipynb",
   "parameters": {},
   "start_time": "2022-08-04T17:00:56.050788",
   "version": "2.3.3"
  }
 },
 "nbformat": 4,
 "nbformat_minor": 5
}
