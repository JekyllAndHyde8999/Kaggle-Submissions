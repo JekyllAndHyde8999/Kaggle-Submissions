{
 "cells": [
  {
   "cell_type": "code",
   "execution_count": 1,
   "metadata": {
    "_cell_guid": "b1076dfc-b9ad-4769-8c92-a6c4dae69d19",
    "_uuid": "8f2839f25d086af736a60e9eeb907d3b93b6e0e5",
    "execution": {
     "iopub.execute_input": "2020-09-04T10:59:09.187154Z",
     "iopub.status.busy": "2020-09-04T10:59:09.186294Z",
     "iopub.status.idle": "2020-09-04T10:59:09.194534Z",
     "shell.execute_reply": "2020-09-04T10:59:09.193822Z"
    },
    "papermill": {
     "duration": 0.03158,
     "end_time": "2020-09-04T10:59:09.194681",
     "exception": false,
     "start_time": "2020-09-04T10:59:09.163101",
     "status": "completed"
    },
    "tags": []
   },
   "outputs": [
    {
     "name": "stdout",
     "output_type": "stream",
     "text": [
      "/kaggle/input/titanic/train.csv\n",
      "/kaggle/input/titanic/gender_submission.csv\n",
      "/kaggle/input/titanic/test.csv\n"
     ]
    }
   ],
   "source": [
    "# This Python 3 environment comes with many helpful analytics libraries installed\n",
    "# It is defined by the kaggle/python Docker image: https://github.com/kaggle/docker-python\n",
    "# For example, here's several helpful packages to load\n",
    "\n",
    "import numpy as np # linear algebra\n",
    "import pandas as pd # data processing, CSV file I/O (e.g. pd.read_csv)\n",
    "\n",
    "# Input data files are available in the read-only \"../input/\" directory\n",
    "# For example, running this (by clicking run or pressing Shift+Enter) will list all files under the input directory\n",
    "\n",
    "import os\n",
    "for dirname, _, filenames in os.walk('/kaggle/input'):\n",
    "    for filename in filenames:\n",
    "        print(os.path.join(dirname, filename))\n",
    "\n",
    "# You can write up to 5GB to the current directory (/kaggle/working/) that gets preserved as output when you create a version using \"Save & Run All\" \n",
    "# You can also write temporary files to /kaggle/temp/, but they won't be saved outside of the current session"
   ]
  },
  {
   "cell_type": "code",
   "execution_count": 2,
   "metadata": {
    "execution": {
     "iopub.execute_input": "2020-09-04T10:59:09.235514Z",
     "iopub.status.busy": "2020-09-04T10:59:09.234569Z",
     "iopub.status.idle": "2020-09-04T10:59:10.593146Z",
     "shell.execute_reply": "2020-09-04T10:59:10.592152Z"
    },
    "papermill": {
     "duration": 1.382021,
     "end_time": "2020-09-04T10:59:10.593303",
     "exception": false,
     "start_time": "2020-09-04T10:59:09.211282",
     "status": "completed"
    },
    "tags": []
   },
   "outputs": [],
   "source": [
    "import pickle\n",
    "import seaborn as sns\n",
    "import matplotlib.pyplot as plt\n",
    "import matplotlib.gridspec as gridspec\n",
    "\n",
    "from sklearn import tree, metrics\n",
    "\n",
    "sns.set_style('whitegrid')\n",
    "fig_size = plt.rcParams['figure.figsize']\n",
    "\n",
    "%matplotlib inline"
   ]
  },
  {
   "cell_type": "markdown",
   "execution_count": null,
   "metadata": {
    "papermill": {
     "duration": 0.013479,
     "end_time": "2020-09-04T10:59:10.621200",
     "exception": false,
     "start_time": "2020-09-04T10:59:10.607721",
     "status": "completed"
    },
    "tags": []
   },
   "source": [
    "Boolean masks"
   ]
  },
  {
   "cell_type": "code",
   "execution_count": 3,
   "metadata": {
    "execution": {
     "iopub.execute_input": "2020-09-04T10:59:10.665979Z",
     "iopub.status.busy": "2020-09-04T10:59:10.665092Z",
     "iopub.status.idle": "2020-09-04T10:59:10.668667Z",
     "shell.execute_reply": "2020-09-04T10:59:10.668022Z"
    },
    "papermill": {
     "duration": 0.033438,
     "end_time": "2020-09-04T10:59:10.668821",
     "exception": false,
     "start_time": "2020-09-04T10:59:10.635383",
     "status": "completed"
    },
    "tags": []
   },
   "outputs": [],
   "source": [
    "class Mask:\n",
    "    def __init__(self, df):\n",
    "        self.df = df\n",
    "    \n",
    "    @property\n",
    "    def SURVIVED_MASK(self):\n",
    "        return self.df.Survived == 1\n",
    "    \n",
    "    @property\n",
    "    def NOT_SURVIVED_MASK(self):\n",
    "        return self.df.Survived == 0\n",
    "    \n",
    "    @property\n",
    "    def CHILDREN_MASK(self):\n",
    "        return self.df.Age <= 15\n",
    "    \n",
    "    @property\n",
    "    def ADULT_MASK(self):\n",
    "        return np.logical_and(self.df.Age <= 45, self.df.Age > 15)\n",
    "    \n",
    "    @property\n",
    "    def SENIOR_ADULT_MASK(self):\n",
    "        return 45 < self.df.Age\n",
    "    \n",
    "    @property\n",
    "    def MALE_MASK(self):\n",
    "        return self.df.Sex == 'male'\n",
    "    \n",
    "    @property\n",
    "    def FEMALE_MASK(self):\n",
    "        return self.df.Sex == 'female'\n",
    "    \n",
    "    @property\n",
    "    def FIRST_CLASS_MASK(self):\n",
    "        return self.df.Pclass == 1\n",
    "    \n",
    "    @property\n",
    "    def SECOND_CLASS_MASK(self):\n",
    "        return self.df.Pclass == 2\n",
    "    \n",
    "    @property\n",
    "    def THIRD_CLASS_MASK(self):\n",
    "        return self.df.Pclass == 3"
   ]
  },
  {
   "cell_type": "markdown",
   "execution_count": null,
   "metadata": {
    "papermill": {
     "duration": 0.014459,
     "end_time": "2020-09-04T10:59:10.697556",
     "exception": false,
     "start_time": "2020-09-04T10:59:10.683097",
     "status": "completed"
    },
    "tags": []
   },
   "source": [
    "Helper functions"
   ]
  },
  {
   "cell_type": "code",
   "execution_count": 4,
   "metadata": {
    "execution": {
     "iopub.execute_input": "2020-09-04T10:59:10.736454Z",
     "iopub.status.busy": "2020-09-04T10:59:10.735524Z",
     "iopub.status.idle": "2020-09-04T10:59:10.738232Z",
     "shell.execute_reply": "2020-09-04T10:59:10.738854Z"
    },
    "papermill": {
     "duration": 0.027148,
     "end_time": "2020-09-04T10:59:10.739039",
     "exception": false,
     "start_time": "2020-09-04T10:59:10.711891",
     "status": "completed"
    },
    "tags": []
   },
   "outputs": [],
   "source": [
    "def label_age_group(x: float) -> str:\n",
    "    if x <= 15:\n",
    "        return \"Child\"\n",
    "    if x < 45:\n",
    "        return \"Adult\"\n",
    "    return \"SeniorAdult\"\n",
    "\n",
    "\n",
    "def preprocess_data(df: pd.DataFrame) -> pd.DataFrame:\n",
    "    # filling age missing values with median\n",
    "    df['Age'] = df.Age.fillna(df.Age.median())\n",
    "    \n",
    "    # grouping age values\n",
    "    df['AgeGroup'] = df.Age.apply(label_age_group)\n",
    "\n",
    "    return df"
   ]
  },
  {
   "cell_type": "code",
   "execution_count": 5,
   "metadata": {
    "_cell_guid": "79c7e3d0-c299-4dcb-8224-4455121ee9b0",
    "_uuid": "d629ff2d2480ee46fbb7e2d37f6b5fab8052498a",
    "execution": {
     "iopub.execute_input": "2020-09-04T10:59:10.776149Z",
     "iopub.status.busy": "2020-09-04T10:59:10.775308Z",
     "iopub.status.idle": "2020-09-04T10:59:10.778272Z",
     "shell.execute_reply": "2020-09-04T10:59:10.777631Z"
    },
    "papermill": {
     "duration": 0.023577,
     "end_time": "2020-09-04T10:59:10.778435",
     "exception": false,
     "start_time": "2020-09-04T10:59:10.754858",
     "status": "completed"
    },
    "tags": []
   },
   "outputs": [],
   "source": [
    "TRAIN_FILE = \"/kaggle/input/titanic/train.csv\"\n",
    "TEST_FILE = \"/kaggle/input/titanic/test.csv\"\n",
    "SUBMISSION_FILE = \"/kaggle/input/titanic/gender_submission.csv\""
   ]
  },
  {
   "cell_type": "code",
   "execution_count": 6,
   "metadata": {
    "execution": {
     "iopub.execute_input": "2020-09-04T10:59:10.817853Z",
     "iopub.status.busy": "2020-09-04T10:59:10.817027Z",
     "iopub.status.idle": "2020-09-04T10:59:10.886478Z",
     "shell.execute_reply": "2020-09-04T10:59:10.887083Z"
    },
    "papermill": {
     "duration": 0.094395,
     "end_time": "2020-09-04T10:59:10.887265",
     "exception": false,
     "start_time": "2020-09-04T10:59:10.792870",
     "status": "completed"
    },
    "tags": []
   },
   "outputs": [
    {
     "name": "stdout",
     "output_type": "stream",
     "text": [
      "<class 'pandas.core.frame.DataFrame'>\n",
      "RangeIndex: 891 entries, 0 to 890\n",
      "Data columns (total 10 columns):\n",
      " #   Column       Non-Null Count  Dtype  \n",
      "---  ------       --------------  -----  \n",
      " 0   PassengerId  891 non-null    int64  \n",
      " 1   Survived     891 non-null    int64  \n",
      " 2   Pclass       891 non-null    int64  \n",
      " 3   Name         891 non-null    object \n",
      " 4   Sex          891 non-null    object \n",
      " 5   Age          714 non-null    float64\n",
      " 6   SibSp        891 non-null    int64  \n",
      " 7   Parch        891 non-null    int64  \n",
      " 8   Ticket       891 non-null    object \n",
      " 9   Fare         891 non-null    float64\n",
      "dtypes: float64(2), int64(5), object(3)\n",
      "memory usage: 69.7+ KB\n"
     ]
    },
    {
     "data": {
      "text/html": [
       "<div>\n",
       "<style scoped>\n",
       "    .dataframe tbody tr th:only-of-type {\n",
       "        vertical-align: middle;\n",
       "    }\n",
       "\n",
       "    .dataframe tbody tr th {\n",
       "        vertical-align: top;\n",
       "    }\n",
       "\n",
       "    .dataframe thead th {\n",
       "        text-align: right;\n",
       "    }\n",
       "</style>\n",
       "<table border=\"1\" class=\"dataframe\">\n",
       "  <thead>\n",
       "    <tr style=\"text-align: right;\">\n",
       "      <th></th>\n",
       "      <th>PassengerId</th>\n",
       "      <th>Survived</th>\n",
       "      <th>Pclass</th>\n",
       "      <th>Name</th>\n",
       "      <th>Sex</th>\n",
       "      <th>Age</th>\n",
       "      <th>SibSp</th>\n",
       "      <th>Parch</th>\n",
       "      <th>Ticket</th>\n",
       "      <th>Fare</th>\n",
       "    </tr>\n",
       "  </thead>\n",
       "  <tbody>\n",
       "    <tr>\n",
       "      <th>0</th>\n",
       "      <td>1</td>\n",
       "      <td>0</td>\n",
       "      <td>3</td>\n",
       "      <td>Braund, Mr. Owen Harris</td>\n",
       "      <td>male</td>\n",
       "      <td>22.0</td>\n",
       "      <td>1</td>\n",
       "      <td>0</td>\n",
       "      <td>A/5 21171</td>\n",
       "      <td>7.2500</td>\n",
       "    </tr>\n",
       "    <tr>\n",
       "      <th>1</th>\n",
       "      <td>2</td>\n",
       "      <td>1</td>\n",
       "      <td>1</td>\n",
       "      <td>Cumings, Mrs. John Bradley (Florence Briggs Th...</td>\n",
       "      <td>female</td>\n",
       "      <td>38.0</td>\n",
       "      <td>1</td>\n",
       "      <td>0</td>\n",
       "      <td>PC 17599</td>\n",
       "      <td>71.2833</td>\n",
       "    </tr>\n",
       "    <tr>\n",
       "      <th>2</th>\n",
       "      <td>3</td>\n",
       "      <td>1</td>\n",
       "      <td>3</td>\n",
       "      <td>Heikkinen, Miss. Laina</td>\n",
       "      <td>female</td>\n",
       "      <td>26.0</td>\n",
       "      <td>0</td>\n",
       "      <td>0</td>\n",
       "      <td>STON/O2. 3101282</td>\n",
       "      <td>7.9250</td>\n",
       "    </tr>\n",
       "    <tr>\n",
       "      <th>3</th>\n",
       "      <td>4</td>\n",
       "      <td>1</td>\n",
       "      <td>1</td>\n",
       "      <td>Futrelle, Mrs. Jacques Heath (Lily May Peel)</td>\n",
       "      <td>female</td>\n",
       "      <td>35.0</td>\n",
       "      <td>1</td>\n",
       "      <td>0</td>\n",
       "      <td>113803</td>\n",
       "      <td>53.1000</td>\n",
       "    </tr>\n",
       "    <tr>\n",
       "      <th>4</th>\n",
       "      <td>5</td>\n",
       "      <td>0</td>\n",
       "      <td>3</td>\n",
       "      <td>Allen, Mr. William Henry</td>\n",
       "      <td>male</td>\n",
       "      <td>35.0</td>\n",
       "      <td>0</td>\n",
       "      <td>0</td>\n",
       "      <td>373450</td>\n",
       "      <td>8.0500</td>\n",
       "    </tr>\n",
       "  </tbody>\n",
       "</table>\n",
       "</div>"
      ],
      "text/plain": [
       "   PassengerId  Survived  Pclass  \\\n",
       "0            1         0       3   \n",
       "1            2         1       1   \n",
       "2            3         1       3   \n",
       "3            4         1       1   \n",
       "4            5         0       3   \n",
       "\n",
       "                                                Name     Sex   Age  SibSp  \\\n",
       "0                            Braund, Mr. Owen Harris    male  22.0      1   \n",
       "1  Cumings, Mrs. John Bradley (Florence Briggs Th...  female  38.0      1   \n",
       "2                             Heikkinen, Miss. Laina  female  26.0      0   \n",
       "3       Futrelle, Mrs. Jacques Heath (Lily May Peel)  female  35.0      1   \n",
       "4                           Allen, Mr. William Henry    male  35.0      0   \n",
       "\n",
       "   Parch            Ticket     Fare  \n",
       "0      0         A/5 21171   7.2500  \n",
       "1      0          PC 17599  71.2833  \n",
       "2      0  STON/O2. 3101282   7.9250  \n",
       "3      0            113803  53.1000  \n",
       "4      0            373450   8.0500  "
      ]
     },
     "execution_count": 6,
     "metadata": {},
     "output_type": "execute_result"
    }
   ],
   "source": [
    "train_df = pd.read_csv(TRAIN_FILE).drop([\"Cabin\", \"Embarked\"], axis=1)\n",
    "train_df.info()\n",
    "train_df.head()"
   ]
  },
  {
   "cell_type": "code",
   "execution_count": 7,
   "metadata": {
    "execution": {
     "iopub.execute_input": "2020-09-04T10:59:10.924258Z",
     "iopub.status.busy": "2020-09-04T10:59:10.923395Z",
     "iopub.status.idle": "2020-09-04T10:59:10.926997Z",
     "shell.execute_reply": "2020-09-04T10:59:10.926313Z"
    },
    "papermill": {
     "duration": 0.025827,
     "end_time": "2020-09-04T10:59:10.927148",
     "exception": false,
     "start_time": "2020-09-04T10:59:10.901321",
     "status": "completed"
    },
    "tags": []
   },
   "outputs": [],
   "source": [
    "# Preprocessing\n",
    "train_df = preprocess_data(train_df)\n",
    "train_mask = Mask(train_df)"
   ]
  },
  {
   "cell_type": "markdown",
   "execution_count": null,
   "metadata": {
    "papermill": {
     "duration": 0.013947,
     "end_time": "2020-09-04T10:59:10.955170",
     "exception": false,
     "start_time": "2020-09-04T10:59:10.941223",
     "status": "completed"
    },
    "tags": []
   },
   "source": [
    "# It's EDA time..."
   ]
  },
  {
   "cell_type": "markdown",
   "execution_count": null,
   "metadata": {
    "papermill": {
     "duration": 0.013677,
     "end_time": "2020-09-04T10:59:10.983440",
     "exception": false,
     "start_time": "2020-09-04T10:59:10.969763",
     "status": "completed"
    },
    "tags": []
   },
   "source": [
    "### How does survivability depend on Pclass?"
   ]
  },
  {
   "cell_type": "code",
   "execution_count": 8,
   "metadata": {
    "execution": {
     "iopub.execute_input": "2020-09-04T10:59:11.021185Z",
     "iopub.status.busy": "2020-09-04T10:59:11.020437Z",
     "iopub.status.idle": "2020-09-04T10:59:11.512623Z",
     "shell.execute_reply": "2020-09-04T10:59:11.513565Z"
    },
    "papermill": {
     "duration": 0.516211,
     "end_time": "2020-09-04T10:59:11.513812",
     "exception": false,
     "start_time": "2020-09-04T10:59:10.997601",
     "status": "completed"
    },
    "tags": []
   },
   "outputs": [
    {
     "data": {
      "image/png": "[encoded data removed]",
      "text/plain": [
       "<Figure size 1080x360 with 2 Axes>"
      ]
     },
     "metadata": {
      "needs_background": "light"
     },
     "output_type": "display_data"
    }
   ],
   "source": [
    "nrows=1\n",
    "ncols = 2\n",
    "column = \"Pclass\"\n",
    "fig, ax = plt.subplots(nrows, ncols, figsize=(fig_size[0] * ncols * 1.25, fig_size[1] * nrows * 1.25))\n",
    "_ = sns.countplot(x=column, data=train_df, ax=ax[0])\n",
    "_ = sns.countplot(x=column, hue=\"Survived\", data=train_df, ax=ax[1])\n",
    "_ = plt.tight_layout()"
   ]
  },
  {
   "cell_type": "markdown",
   "execution_count": null,
   "metadata": {
    "papermill": {
     "duration": 0.019508,
     "end_time": "2020-09-04T10:59:11.554573",
     "exception": false,
     "start_time": "2020-09-04T10:59:11.535065",
     "status": "completed"
    },
    "tags": []
   },
   "source": [
    "We see that there are way more 3rd class passengers than 1st or 2nd class. But when it separated according to the Survived label, it is clear that 1st class was given more priority over 2nd and 3rd classes to escort out of the crash.\n",
    "\n",
    "\n",
    "<!-- We see that most of the 1st class passengers survived. On the contrary, a handful of the 3rd class passengers survived. Since, there is a clear dependence of Survival probability on the Pclass, Pclass can be considered as a feature.<br>\n",
    "<br>\n",
    "Relationship:<br>\n",
    "Higher the class of the passenger, higher the probability of survival -->"
   ]
  },
  {
   "cell_type": "markdown",
   "execution_count": null,
   "metadata": {
    "papermill": {
     "duration": 0.015635,
     "end_time": "2020-09-04T10:59:11.585605",
     "exception": false,
     "start_time": "2020-09-04T10:59:11.569970",
     "status": "completed"
    },
    "tags": []
   },
   "source": [
    "### How does survivability depend on Gender?"
   ]
  },
  {
   "cell_type": "code",
   "execution_count": 9,
   "metadata": {
    "execution": {
     "iopub.execute_input": "2020-09-04T10:59:11.640032Z",
     "iopub.status.busy": "2020-09-04T10:59:11.639090Z",
     "iopub.status.idle": "2020-09-04T10:59:12.054820Z",
     "shell.execute_reply": "2020-09-04T10:59:12.054136Z"
    },
    "papermill": {
     "duration": 0.449628,
     "end_time": "2020-09-04T10:59:12.054986",
     "exception": false,
     "start_time": "2020-09-04T10:59:11.605358",
     "status": "completed"
    },
    "tags": []
   },
   "outputs": [
    {
     "data": {
      "image/png": "[encoded data removed]",
      "text/plain": [
       "<Figure size 1080x360 with 2 Axes>"
      ]
     },
     "metadata": {
      "needs_background": "light"
     },
     "output_type": "display_data"
    }
   ],
   "source": [
    "nrows=1\n",
    "ncols = 2\n",
    "column = \"Sex\"\n",
    "fig, ax = plt.subplots(nrows, ncols, figsize=(fig_size[0] * ncols * 1.25, fig_size[1] * nrows * 1.25))\n",
    "_ = sns.countplot(x=column, data=train_df, ax=ax[0])\n",
    "_ = sns.countplot(x=column, hue=\"Survived\", data=train_df, ax=ax[1])\n",
    "_ = plt.tight_layout()"
   ]
  },
  {
   "cell_type": "markdown",
   "execution_count": null,
   "metadata": {
    "papermill": {
     "duration": 0.015018,
     "end_time": "2020-09-04T10:59:12.085654",
     "exception": false,
     "start_time": "2020-09-04T10:59:12.070636",
     "status": "completed"
    },
    "tags": []
   },
   "source": [
    "We see a similar relationship as with Pclass. The women were given higher priority to escort to safety than the men. This clear influence that the variable has over the target label Survived helps us decide whether or not this variable should be considered as a feature."
   ]
  },
  {
   "cell_type": "markdown",
   "execution_count": null,
   "metadata": {
    "papermill": {
     "duration": 0.014857,
     "end_time": "2020-09-04T10:59:12.116155",
     "exception": false,
     "start_time": "2020-09-04T10:59:12.101298",
     "status": "completed"
    },
    "tags": []
   },
   "source": [
    "### How does survivability depend on Age?"
   ]
  },
  {
   "cell_type": "code",
   "execution_count": 10,
   "metadata": {
    "execution": {
     "iopub.execute_input": "2020-09-04T10:59:12.285075Z",
     "iopub.status.busy": "2020-09-04T10:59:12.156235Z",
     "iopub.status.idle": "2020-09-04T10:59:13.694503Z",
     "shell.execute_reply": "2020-09-04T10:59:13.695086Z"
    },
    "papermill": {
     "duration": 1.563689,
     "end_time": "2020-09-04T10:59:13.695261",
     "exception": false,
     "start_time": "2020-09-04T10:59:12.131572",
     "status": "completed"
    },
    "tags": []
   },
   "outputs": [
    {
     "data": {
      "image/png": "[encoded data removed]",
      "text/plain": [
       "<Figure size 864x432 with 3 Axes>"
      ]
     },
     "metadata": {
      "needs_background": "light"
     },
     "output_type": "display_data"
    }
   ],
   "source": [
    "fig = plt.figure(figsize=(fig_size[0] * 2, fig_size[1] * 1.5))\n",
    "\n",
    "gs0 = gridspec.GridSpec(1, 2, figure=fig)\n",
    "ax0 = fig.add_subplot(gs0[0, 0])\n",
    "gs01 = gs0[0, 1].subgridspec(2, 1)\n",
    "ax1 = fig.add_subplot(gs01[0, 0])\n",
    "ax2 = fig.add_subplot(gs01[1, 0])\n",
    "\n",
    "_ = sns.distplot(train_df.Age, ax=ax0, kde=False)\n",
    "_ = ax0.set_xlabel(\"Age\")\n",
    "_ = sns.distplot(train_df.loc[train_mask.SURVIVED_MASK].Age, ax=ax1, label='survived', kde=False, color='green')\n",
    "_ = sns.distplot(train_df.loc[train_mask.NOT_SURVIVED_MASK].Age, ax=ax2, label='not survived', kde=False, color='red')\n",
    "_ = ax1.legend()\n",
    "_ = ax2.legend()\n",
    "_ = plt.tight_layout()"
   ]
  },
  {
   "cell_type": "markdown",
   "execution_count": null,
   "metadata": {
    "papermill": {
     "duration": 0.014798,
     "end_time": "2020-09-04T10:59:13.725446",
     "exception": false,
     "start_time": "2020-09-04T10:59:13.710648",
     "status": "completed"
    },
    "tags": []
   },
   "source": [
    "The left half is the distribution of all the values in the `Age` column. The right half has two distplots of those who survived and those who did not.\n",
    "\n",
    "We can divide the values of the `Age` column into three buckets:\n",
    "1. Children (Age <= 15)\n",
    "2. Adults (15 < Age <= 40)\n",
    "3. Senior Adults (Age > 40)\n",
    "\n",
    "We see that most of the children survived than the adults and senior adults.\n",
    "\n",
    "\n",
    "To make visualisation easier, I will label each row with one of \"Child\", \"Adult\", \"SeniorAdult\" depending on their age."
   ]
  },
  {
   "cell_type": "code",
   "execution_count": 11,
   "metadata": {
    "execution": {
     "iopub.execute_input": "2020-09-04T10:59:13.772615Z",
     "iopub.status.busy": "2020-09-04T10:59:13.769546Z",
     "iopub.status.idle": "2020-09-04T10:59:14.172629Z",
     "shell.execute_reply": "2020-09-04T10:59:14.173301Z"
    },
    "papermill": {
     "duration": 0.433163,
     "end_time": "2020-09-04T10:59:14.173548",
     "exception": false,
     "start_time": "2020-09-04T10:59:13.740385",
     "status": "completed"
    },
    "tags": []
   },
   "outputs": [
    {
     "data": {
      "image/png": "[encoded data removed]",
      "text/plain": [
       "<Figure size 1080x360 with 2 Axes>"
      ]
     },
     "metadata": {
      "needs_background": "light"
     },
     "output_type": "display_data"
    }
   ],
   "source": [
    "nrows=1\n",
    "ncols = 2\n",
    "fig, ax = plt.subplots(nrows, ncols, figsize=(fig_size[0] * ncols * 1.25, fig_size[1] * nrows * 1.25))\n",
    "_ = sns.countplot(x=\"AgeGroup\", data=train_df, ax=ax[0])\n",
    "_ = sns.countplot(x=\"AgeGroup\", data=train_df, hue=train_df.Survived, ax=ax[1])\n",
    "_ = plt.tight_layout()"
   ]
  },
  {
   "cell_type": "code",
   "execution_count": 12,
   "metadata": {
    "execution": {
     "iopub.execute_input": "2020-09-04T10:59:14.227428Z",
     "iopub.status.busy": "2020-09-04T10:59:14.226015Z",
     "iopub.status.idle": "2020-09-04T10:59:14.231863Z",
     "shell.execute_reply": "2020-09-04T10:59:14.231170Z"
    },
    "papermill": {
     "duration": 0.041739,
     "end_time": "2020-09-04T10:59:14.232044",
     "exception": false,
     "start_time": "2020-09-04T10:59:14.190305",
     "status": "completed"
    },
    "tags": []
   },
   "outputs": [
    {
     "name": "stdout",
     "output_type": "stream",
     "text": [
      "Children that survived = 49\n",
      "Children that did not survive = 34\n",
      "\n",
      "Adults that survived = 255\n",
      "Adults that did not survive = 450\n",
      "\n",
      "Senior adults that survived = 38\n",
      "Senior adults that did not survive = 65\n"
     ]
    }
   ],
   "source": [
    "print(f\"Children that survived = {train_df.loc[np.logical_and(train_mask.SURVIVED_MASK, train_mask.CHILDREN_MASK)].shape[0]}\")\n",
    "print(f\"Children that did not survive = {train_df.loc[np.logical_and(train_mask.NOT_SURVIVED_MASK, train_mask.CHILDREN_MASK)].shape[0]}\")\n",
    "print()\n",
    "print(f\"Adults that survived = {train_df.loc[np.logical_and(train_mask.SURVIVED_MASK, train_mask.ADULT_MASK)].shape[0]}\")\n",
    "print(f\"Adults that did not survive = {train_df.loc[np.logical_and(train_mask.NOT_SURVIVED_MASK, train_mask.ADULT_MASK)].shape[0]}\")\n",
    "print()\n",
    "print(f\"Senior adults that survived = {train_df.loc[np.logical_and(train_mask.SURVIVED_MASK, train_mask.SENIOR_ADULT_MASK)].shape[0]}\")\n",
    "print(f\"Senior adults that did not survive = {train_df.loc[np.logical_and(train_mask.NOT_SURVIVED_MASK, train_mask.SENIOR_ADULT_MASK)].shape[0]}\")"
   ]
  },
  {
   "cell_type": "code",
   "execution_count": 13,
   "metadata": {
    "execution": {
     "iopub.execute_input": "2020-09-04T10:59:14.289254Z",
     "iopub.status.busy": "2020-09-04T10:59:14.288366Z",
     "iopub.status.idle": "2020-09-04T10:59:15.783053Z",
     "shell.execute_reply": "2020-09-04T10:59:15.782293Z"
    },
    "papermill": {
     "duration": 1.534485,
     "end_time": "2020-09-04T10:59:15.783209",
     "exception": false,
     "start_time": "2020-09-04T10:59:14.248724",
     "status": "completed"
    },
    "tags": []
   },
   "outputs": [
    {
     "data": {
      "image/png": "[encoded data removed]",
      "text/plain": [
       "<Figure size 864x432 with 3 Axes>"
      ]
     },
     "metadata": {
      "needs_background": "light"
     },
     "output_type": "display_data"
    }
   ],
   "source": [
    "fig = plt.figure(figsize=(fig_size[0] * 2, fig_size[1] * 1.5))\n",
    "\n",
    "gs0 = gridspec.GridSpec(1, 2, figure=fig)\n",
    "ax0 = fig.add_subplot(gs0[0, 0])\n",
    "gs01 = gs0[0, 1].subgridspec(2, 1)\n",
    "ax1 = fig.add_subplot(gs01[0, 0])\n",
    "ax2 = fig.add_subplot(gs01[1, 0])\n",
    "\n",
    "_ = sns.distplot(train_df.Fare.values, ax=ax0, kde=False)\n",
    "_ = ax0.set_xlabel(\"Fare\")\n",
    "_ = sns.distplot(train_df.loc[train_mask.SURVIVED_MASK].Fare, ax=ax1, label='survived', kde=False, color='green')\n",
    "_ = sns.distplot(train_df.loc[train_mask.NOT_SURVIVED_MASK].Fare, ax=ax2, label='not survived', kde=False, color='red')\n",
    "_ = ax1.legend()\n",
    "_ = ax2.legend()\n",
    "_ = plt.tight_layout()"
   ]
  },
  {
   "cell_type": "markdown",
   "execution_count": null,
   "metadata": {
    "papermill": {
     "duration": 0.01637,
     "end_time": "2020-09-04T10:59:15.816873",
     "exception": false,
     "start_time": "2020-09-04T10:59:15.800503",
     "status": "completed"
    },
    "tags": []
   },
   "source": [
    "Not much can be understood from this plot other than that the passengers with expensive tickets survived.<br>\n",
    "This is probably because First class tickets are more expensive, and we know that First class passengers were given more priority in escaping to safety.\n",
    "\n",
    "We can verify this by plotting the Fare values of each Pclass separately."
   ]
  },
  {
   "cell_type": "markdown",
   "execution_count": null,
   "metadata": {
    "papermill": {
     "duration": 0.016422,
     "end_time": "2020-09-04T10:59:15.850276",
     "exception": false,
     "start_time": "2020-09-04T10:59:15.833854",
     "status": "completed"
    },
    "tags": []
   },
   "source": [
    "#### Plotting Fare values for each Pclass"
   ]
  },
  {
   "cell_type": "code",
   "execution_count": 14,
   "metadata": {
    "execution": {
     "iopub.execute_input": "2020-09-04T10:59:15.912058Z",
     "iopub.status.busy": "2020-09-04T10:59:15.910918Z",
     "iopub.status.idle": "2020-09-04T10:59:18.476352Z",
     "shell.execute_reply": "2020-09-04T10:59:18.475662Z"
    },
    "papermill": {
     "duration": 2.609551,
     "end_time": "2020-09-04T10:59:18.476518",
     "exception": false,
     "start_time": "2020-09-04T10:59:15.866967",
     "status": "completed"
    },
    "tags": []
   },
   "outputs": [
    {
     "data": {
      "image/png": "[encoded data removed]",
      "text/plain": [
       "<Figure size 1296x576 with 6 Axes>"
      ]
     },
     "metadata": {
      "needs_background": "light"
     },
     "output_type": "display_data"
    }
   ],
   "source": [
    "nrows = 2\n",
    "ncols = 3\n",
    "fig, ax = plt.subplots(nrows, ncols, figsize=(fig_size[0] * ncols, fig_size[1] * nrows))\n",
    "_ = sns.distplot(train_df.loc[np.logical_and(train_mask.FIRST_CLASS_MASK, train_mask.SURVIVED_MASK)].Fare, kde=False, ax=ax[0, 0])\n",
    "_ = sns.distplot(train_df.loc[np.logical_and(train_mask.SECOND_CLASS_MASK, train_mask.SURVIVED_MASK)].Fare, kde=False, ax=ax[0, 1], color='orange')\n",
    "_ = sns.distplot(train_df.loc[np.logical_and(train_mask.THIRD_CLASS_MASK, train_mask.SURVIVED_MASK)].Fare, kde=False, ax=ax[0, 2], color='green')\n",
    "_ = sns.distplot(train_df.loc[np.logical_and(train_mask.FIRST_CLASS_MASK, train_mask.NOT_SURVIVED_MASK)].Fare, kde=False, ax=ax[1, 0])\n",
    "_ = sns.distplot(train_df.loc[np.logical_and(train_mask.SECOND_CLASS_MASK, train_mask.NOT_SURVIVED_MASK)].Fare, kde=False, ax=ax[1, 1], color='orange')\n",
    "_ = sns.distplot(train_df.loc[np.logical_and(train_mask.THIRD_CLASS_MASK, train_mask.NOT_SURVIVED_MASK)].Fare, kde=False, ax=ax[1, 2], color='green')\n",
    "_ = ax[0, 0].set_xlabel(\"\")\n",
    "_ = ax[0, 1].set_xlabel(\"\")\n",
    "_ = ax[0, 2].set_xlabel(\"\")\n",
    "_ = ax[1, 0].set_xlabel(\"First Class Fare\", fontsize=13)\n",
    "_ = ax[1, 1].set_xlabel(\"Second Class Fare\", fontsize=13)\n",
    "_ = ax[1, 2].set_xlabel(\"Third Class Fare\", fontsize=13)\n",
    "_ = ax[0, 0].set_ylabel(\"Survived\", fontsize=13)\n",
    "_ = ax[1, 0].set_ylabel(\"Not Survived\", fontsize=13)\n",
    "\n",
    "_ = plt.tight_layout()"
   ]
  },
  {
   "cell_type": "markdown",
   "execution_count": null,
   "metadata": {
    "papermill": {
     "duration": 0.017074,
     "end_time": "2020-09-04T10:59:18.511010",
     "exception": false,
     "start_time": "2020-09-04T10:59:18.493936",
     "status": "completed"
    },
    "tags": []
   },
   "source": [
    "By plotting the distribution of the Class-wise Fare for Survived and Not Survived passengers, we see that in the case of First Class, the passengers with the most expensive tickets survived, meaning they were given priority in escaping to safety."
   ]
  },
  {
   "cell_type": "markdown",
   "execution_count": null,
   "metadata": {
    "papermill": {
     "duration": 0.017054,
     "end_time": "2020-09-04T10:59:18.545323",
     "exception": false,
     "start_time": "2020-09-04T10:59:18.528269",
     "status": "completed"
    },
    "tags": []
   },
   "source": [
    "# Building the model"
   ]
  },
  {
   "cell_type": "markdown",
   "execution_count": null,
   "metadata": {
    "papermill": {
     "duration": 0.017013,
     "end_time": "2020-09-04T10:59:18.579385",
     "exception": false,
     "start_time": "2020-09-04T10:59:18.562372",
     "status": "completed"
    },
    "tags": []
   },
   "source": [
    "## Data Preparation\n",
    "Before building the model, we must prepare the data to feed into the model."
   ]
  },
  {
   "cell_type": "code",
   "execution_count": 15,
   "metadata": {
    "execution": {
     "iopub.execute_input": "2020-09-04T10:59:18.630748Z",
     "iopub.status.busy": "2020-09-04T10:59:18.629569Z",
     "iopub.status.idle": "2020-09-04T10:59:18.635057Z",
     "shell.execute_reply": "2020-09-04T10:59:18.634285Z"
    },
    "papermill": {
     "duration": 0.038689,
     "end_time": "2020-09-04T10:59:18.635198",
     "exception": false,
     "start_time": "2020-09-04T10:59:18.596509",
     "status": "completed"
    },
    "tags": []
   },
   "outputs": [],
   "source": [
    "# Gathering\n",
    "input_cols = [\"Pclass\", \"Sex\", \"AgeGroup\", \"Fare\"]\n",
    "target_cols = [\"Survived\"]\n",
    "\n",
    "input_data = train_df.loc[:, input_cols]\n",
    "target_data = train_df.loc[:, target_cols].values\n",
    "\n",
    "input_data = pd.get_dummies(input_data)\n",
    "input_dummies = input_data.values"
   ]
  },
  {
   "cell_type": "markdown",
   "execution_count": null,
   "metadata": {
    "papermill": {
     "duration": 0.016885,
     "end_time": "2020-09-04T10:59:18.669344",
     "exception": false,
     "start_time": "2020-09-04T10:59:18.652459",
     "status": "completed"
    },
    "tags": []
   },
   "source": [
    "## Training the model"
   ]
  },
  {
   "cell_type": "code",
   "execution_count": 16,
   "metadata": {
    "execution": {
     "iopub.execute_input": "2020-09-04T10:59:18.712322Z",
     "iopub.status.busy": "2020-09-04T10:59:18.711483Z",
     "iopub.status.idle": "2020-09-04T10:59:18.719109Z",
     "shell.execute_reply": "2020-09-04T10:59:18.718309Z"
    },
    "papermill": {
     "duration": 0.032714,
     "end_time": "2020-09-04T10:59:18.719258",
     "exception": false,
     "start_time": "2020-09-04T10:59:18.686544",
     "status": "completed"
    },
    "tags": []
   },
   "outputs": [],
   "source": [
    "# Intialize the classifier\n",
    "dtc = tree.DecisionTreeClassifier()\n",
    "\n",
    "# Train the classifier with our training data\n",
    "dtc = dtc.fit(input_dummies, target_data)\n",
    "\n",
    "# Save the model in a pickle file\n",
    "with open('titanic_decision_tree_model.pkl', mode='wb') as f:\n",
    "    pickle.dump(dtc, f)"
   ]
  },
  {
   "cell_type": "markdown",
   "execution_count": null,
   "metadata": {
    "papermill": {
     "duration": 0.017222,
     "end_time": "2020-09-04T10:59:18.754028",
     "exception": false,
     "start_time": "2020-09-04T10:59:18.736806",
     "status": "completed"
    },
    "tags": []
   },
   "source": [
    "### Evaluating the performance of the model"
   ]
  },
  {
   "cell_type": "code",
   "execution_count": 17,
   "metadata": {
    "execution": {
     "iopub.execute_input": "2020-09-04T10:59:18.804151Z",
     "iopub.status.busy": "2020-09-04T10:59:18.803021Z",
     "iopub.status.idle": "2020-09-04T10:59:19.061179Z",
     "shell.execute_reply": "2020-09-04T10:59:19.060436Z"
    },
    "papermill": {
     "duration": 0.289808,
     "end_time": "2020-09-04T10:59:19.061314",
     "exception": false,
     "start_time": "2020-09-04T10:59:18.771506",
     "status": "completed"
    },
    "tags": []
   },
   "outputs": [
    {
     "name": "stdout",
     "output_type": "stream",
     "text": [
      "Accuracy: 92.26%\n",
      "Precision: 0.94\n",
      "Recall: 0.85\n",
      "F1-Score: 0.89\n"
     ]
    },
    {
     "data": {
      "image/png": "[encoded data removed]",
      "text/plain": [
       "<Figure size 648x432 with 2 Axes>"
      ]
     },
     "metadata": {
      "needs_background": "light"
     },
     "output_type": "display_data"
    }
   ],
   "source": [
    "y_pred = dtc.predict(input_dummies)\n",
    "y_true = np.squeeze(target_data.T)\n",
    "\n",
    "accuracy = sum(y_pred == y_true) / y_pred.shape[0]\n",
    "conf_matrix = metrics.confusion_matrix(y_true, y_pred)\n",
    "precision = metrics.precision_score(y_true, y_pred)\n",
    "recall = metrics.recall_score(y_true, y_pred)\n",
    "f1 = metrics.f1_score(y_true, y_pred)\n",
    "\n",
    "print(f\"Accuracy: {accuracy * 100:.2f}%\")\n",
    "print(f\"Precision: {precision:.2f}\")\n",
    "print(f\"Recall: {recall:.2f}\")\n",
    "print(f\"F1-Score: {f1:.2f}\")\n",
    "\n",
    "scale = 1.5\n",
    "_ = plt.figure(figsize=(fig_size[0] * scale, fig_size[1] * scale))\n",
    "ax = sns.heatmap(conf_matrix, annot=True, fmt='d')\n",
    "_ = ax.set_xticklabels([\"Not Survived\", \"Survived\"], fontsize=13)\n",
    "_ = ax.set_yticklabels([\"Not Survived\", \"Survived\"], fontsize=13)\n",
    "_ = ax.set_xlabel(\"Predicted Labels\", fontsize=15)\n",
    "_ = ax.set_ylabel(\"Actual Labels\", fontsize=15)"
   ]
  },
  {
   "cell_type": "markdown",
   "execution_count": null,
   "metadata": {
    "papermill": {
     "duration": 0.018774,
     "end_time": "2020-09-04T10:59:19.097782",
     "exception": false,
     "start_time": "2020-09-04T10:59:19.079008",
     "status": "completed"
    },
    "tags": []
   },
   "source": [
    "A text representation of the tree model"
   ]
  },
  {
   "cell_type": "code",
   "execution_count": 18,
   "metadata": {
    "execution": {
     "iopub.execute_input": "2020-09-04T10:59:19.145682Z",
     "iopub.status.busy": "2020-09-04T10:59:19.144583Z",
     "iopub.status.idle": "2020-09-04T10:59:19.156232Z",
     "shell.execute_reply": "2020-09-04T10:59:19.155313Z"
    },
    "papermill": {
     "duration": 0.040622,
     "end_time": "2020-09-04T10:59:19.156452",
     "exception": false,
     "start_time": "2020-09-04T10:59:19.115830",
     "status": "completed"
    },
    "tags": []
   },
   "outputs": [
    {
     "name": "stdout",
     "output_type": "stream",
     "text": [
      "|--- Sex_male <= 0.50\n",
      "|   |--- Pclass <= 2.50\n",
      "|   |   |--- Fare <= 28.86\n",
      "|   |   |   |--- Fare <= 28.23\n",
      "|   |   |   |   |--- Fare <= 26.12\n",
      "|   |   |   |   |   |--- AgeGroup_Child <= 0.50\n",
      "|   |   |   |   |   |   |--- Fare <= 25.96\n",
      "|   |   |   |   |   |   |   |--- Fare <= 22.00\n",
      "|   |   |   |   |   |   |   |   |--- Fare <= 20.25\n",
      "|   |   |   |   |   |   |   |   |   |--- Fare <= 13.25\n",
      "|   |   |   |   |   |   |   |   |   |   |--- AgeGroup_SeniorAdult <= 0.50\n",
      "|   |   |   |   |   |   |   |   |   |   |   |--- truncated branch of depth 2\n",
      "|   |   |   |   |   |   |   |   |   |   |--- AgeGroup_SeniorAdult >  0.50\n",
      "|   |   |   |   |   |   |   |   |   |   |   |--- class: 1\n",
      "|   |   |   |   |   |   |   |   |   |--- Fare >  13.25\n",
      "|   |   |   |   |   |   |   |   |   |   |--- class: 1\n",
      "|   |   |   |   |   |   |   |   |--- Fare >  20.25\n",
      "|   |   |   |   |   |   |   |   |   |--- class: 1\n",
      "|   |   |   |   |   |   |   |--- Fare >  22.00\n",
      "|   |   |   |   |   |   |   |   |--- class: 1\n",
      "|   |   |   |   |   |   |--- Fare >  25.96\n",
      "|   |   |   |   |   |   |   |--- AgeGroup_Adult <= 0.50\n",
      "|   |   |   |   |   |   |   |   |--- class: 1\n",
      "|   |   |   |   |   |   |   |--- AgeGroup_Adult >  0.50\n",
      "|   |   |   |   |   |   |   |   |--- class: 1\n",
      "|   |   |   |   |   |--- AgeGroup_Child >  0.50\n",
      "|   |   |   |   |   |   |--- class: 1\n",
      "|   |   |   |   |--- Fare >  26.12\n",
      "|   |   |   |   |   |--- class: 1\n",
      "|   |   |   |--- Fare >  28.23\n",
      "|   |   |   |   |--- class: 0\n",
      "|   |   |--- Fare >  28.86\n",
      "|   |   |   |--- Fare <= 149.04\n",
      "|   |   |   |   |--- class: 1\n",
      "|   |   |   |--- Fare >  149.04\n",
      "|   |   |   |   |--- Fare <= 152.51\n",
      "|   |   |   |   |   |--- AgeGroup_Adult <= 0.50\n",
      "|   |   |   |   |   |   |--- class: 0\n",
      "|   |   |   |   |   |--- AgeGroup_Adult >  0.50\n",
      "|   |   |   |   |   |   |--- class: 0\n",
      "|   |   |   |   |--- Fare >  152.51\n",
      "|   |   |   |   |   |--- class: 1\n",
      "|   |--- Pclass >  2.50\n",
      "|   |   |--- Fare <= 23.35\n",
      "|   |   |   |--- Fare <= 7.89\n",
      "|   |   |   |   |--- AgeGroup_SeniorAdult <= 0.50\n",
      "|   |   |   |   |   |--- Fare <= 6.99\n",
      "|   |   |   |   |   |   |--- class: 0\n",
      "|   |   |   |   |   |--- Fare >  6.99\n",
      "|   |   |   |   |   |   |--- Fare <= 7.52\n",
      "|   |   |   |   |   |   |   |--- class: 1\n",
      "|   |   |   |   |   |   |--- Fare >  7.52\n",
      "|   |   |   |   |   |   |   |--- AgeGroup_Adult <= 0.50\n",
      "|   |   |   |   |   |   |   |   |--- class: 0\n",
      "|   |   |   |   |   |   |   |--- AgeGroup_Adult >  0.50\n",
      "|   |   |   |   |   |   |   |   |--- Fare <= 7.64\n",
      "|   |   |   |   |   |   |   |   |   |--- Fare <= 7.59\n",
      "|   |   |   |   |   |   |   |   |   |   |--- class: 0\n",
      "|   |   |   |   |   |   |   |   |   |--- Fare >  7.59\n",
      "|   |   |   |   |   |   |   |   |   |   |--- class: 0\n",
      "|   |   |   |   |   |   |   |   |--- Fare >  7.64\n",
      "|   |   |   |   |   |   |   |   |   |--- Fare <= 7.74\n",
      "|   |   |   |   |   |   |   |   |   |   |--- class: 1\n",
      "|   |   |   |   |   |   |   |   |   |--- Fare >  7.74\n",
      "|   |   |   |   |   |   |   |   |   |   |--- Fare <= 7.78\n",
      "|   |   |   |   |   |   |   |   |   |   |   |--- truncated branch of depth 2\n",
      "|   |   |   |   |   |   |   |   |   |   |--- Fare >  7.78\n",
      "|   |   |   |   |   |   |   |   |   |   |   |--- truncated branch of depth 3\n",
      "|   |   |   |   |--- AgeGroup_SeniorAdult >  0.50\n",
      "|   |   |   |   |   |--- class: 0\n",
      "|   |   |   |--- Fare >  7.89\n",
      "|   |   |   |   |--- Fare <= 15.37\n",
      "|   |   |   |   |   |--- AgeGroup_Child <= 0.50\n",
      "|   |   |   |   |   |   |--- Fare <= 13.44\n",
      "|   |   |   |   |   |   |   |--- Fare <= 10.82\n",
      "|   |   |   |   |   |   |   |   |--- AgeGroup_Adult <= 0.50\n",
      "|   |   |   |   |   |   |   |   |   |--- class: 1\n",
      "|   |   |   |   |   |   |   |   |--- AgeGroup_Adult >  0.50\n",
      "|   |   |   |   |   |   |   |   |   |--- Fare <= 7.99\n",
      "|   |   |   |   |   |   |   |   |   |   |--- Fare <= 7.91\n",
      "|   |   |   |   |   |   |   |   |   |   |   |--- class: 0\n",
      "|   |   |   |   |   |   |   |   |   |   |--- Fare >  7.91\n",
      "|   |   |   |   |   |   |   |   |   |   |   |--- class: 1\n",
      "|   |   |   |   |   |   |   |   |   |--- Fare >  7.99\n",
      "|   |   |   |   |   |   |   |   |   |   |--- Fare <= 8.67\n",
      "|   |   |   |   |   |   |   |   |   |   |   |--- class: 0\n",
      "|   |   |   |   |   |   |   |   |   |   |--- Fare >  8.67\n",
      "|   |   |   |   |   |   |   |   |   |   |   |--- truncated branch of depth 4\n",
      "|   |   |   |   |   |   |   |--- Fare >  10.82\n",
      "|   |   |   |   |   |   |   |   |--- class: 1\n",
      "|   |   |   |   |   |   |--- Fare >  13.44\n",
      "|   |   |   |   |   |   |   |--- Fare <= 14.87\n",
      "|   |   |   |   |   |   |   |   |--- class: 0\n",
      "|   |   |   |   |   |   |   |--- Fare >  14.87\n",
      "|   |   |   |   |   |   |   |   |--- class: 0\n",
      "|   |   |   |   |   |--- AgeGroup_Child >  0.50\n",
      "|   |   |   |   |   |   |--- Fare <= 13.94\n",
      "|   |   |   |   |   |   |   |--- Fare <= 10.80\n",
      "|   |   |   |   |   |   |   |   |--- Fare <= 9.25\n",
      "|   |   |   |   |   |   |   |   |   |--- class: 1\n",
      "|   |   |   |   |   |   |   |   |--- Fare >  9.25\n",
      "|   |   |   |   |   |   |   |   |   |--- class: 0\n",
      "|   |   |   |   |   |   |   |--- Fare >  10.80\n",
      "|   |   |   |   |   |   |   |   |--- class: 1\n",
      "|   |   |   |   |   |   |--- Fare >  13.94\n",
      "|   |   |   |   |   |   |   |--- Fare <= 14.85\n",
      "|   |   |   |   |   |   |   |   |--- class: 0\n",
      "|   |   |   |   |   |   |   |--- Fare >  14.85\n",
      "|   |   |   |   |   |   |   |   |--- class: 0\n",
      "|   |   |   |   |--- Fare >  15.37\n",
      "|   |   |   |   |   |--- Fare <= 17.60\n",
      "|   |   |   |   |   |   |--- Fare <= 16.40\n",
      "|   |   |   |   |   |   |   |--- Fare <= 15.98\n",
      "|   |   |   |   |   |   |   |   |--- Fare <= 15.62\n",
      "|   |   |   |   |   |   |   |   |   |--- class: 1\n",
      "|   |   |   |   |   |   |   |   |--- Fare >  15.62\n",
      "|   |   |   |   |   |   |   |   |   |--- class: 1\n",
      "|   |   |   |   |   |   |   |--- Fare >  15.98\n",
      "|   |   |   |   |   |   |   |   |--- class: 1\n",
      "|   |   |   |   |   |   |--- Fare >  16.40\n",
      "|   |   |   |   |   |   |   |--- class: 1\n",
      "|   |   |   |   |   |--- Fare >  17.60\n",
      "|   |   |   |   |   |   |--- Fare <= 18.63\n",
      "|   |   |   |   |   |   |   |--- class: 0\n",
      "|   |   |   |   |   |   |--- Fare >  18.63\n",
      "|   |   |   |   |   |   |   |--- Fare <= 19.74\n",
      "|   |   |   |   |   |   |   |   |--- class: 1\n",
      "|   |   |   |   |   |   |   |--- Fare >  19.74\n",
      "|   |   |   |   |   |   |   |   |--- Fare <= 21.55\n",
      "|   |   |   |   |   |   |   |   |   |--- Fare <= 20.80\n",
      "|   |   |   |   |   |   |   |   |   |   |--- Fare <= 20.23\n",
      "|   |   |   |   |   |   |   |   |   |   |   |--- class: 0\n",
      "|   |   |   |   |   |   |   |   |   |   |--- Fare >  20.23\n",
      "|   |   |   |   |   |   |   |   |   |   |   |--- class: 1\n",
      "|   |   |   |   |   |   |   |   |   |--- Fare >  20.80\n",
      "|   |   |   |   |   |   |   |   |   |   |--- class: 0\n",
      "|   |   |   |   |   |   |   |   |--- Fare >  21.55\n",
      "|   |   |   |   |   |   |   |   |   |--- class: 1\n",
      "|   |   |--- Fare >  23.35\n",
      "|   |   |   |--- Fare <= 32.88\n",
      "|   |   |   |   |--- Fare <= 31.33\n",
      "|   |   |   |   |   |--- Fare <= 24.81\n",
      "|   |   |   |   |   |   |--- AgeGroup_Adult <= 0.50\n",
      "|   |   |   |   |   |   |   |--- class: 0\n",
      "|   |   |   |   |   |   |--- AgeGroup_Adult >  0.50\n",
      "|   |   |   |   |   |   |   |--- Fare <= 23.80\n",
      "|   |   |   |   |   |   |   |   |--- class: 0\n",
      "|   |   |   |   |   |   |   |--- Fare >  23.80\n",
      "|   |   |   |   |   |   |   |   |--- class: 0\n",
      "|   |   |   |   |   |--- Fare >  24.81\n",
      "|   |   |   |   |   |   |--- class: 0\n",
      "|   |   |   |   |--- Fare >  31.33\n",
      "|   |   |   |   |   |--- class: 1\n",
      "|   |   |   |--- Fare >  32.88\n",
      "|   |   |   |   |--- class: 0\n",
      "|--- Sex_male >  0.50\n",
      "|   |--- Fare <= 26.27\n",
      "|   |   |--- AgeGroup_Child <= 0.50\n",
      "|   |   |   |--- Fare <= 7.91\n",
      "|   |   |   |   |--- Fare <= 7.86\n",
      "|   |   |   |   |   |--- Fare <= 7.76\n",
      "|   |   |   |   |   |   |--- Pclass <= 2.50\n",
      "|   |   |   |   |   |   |   |--- class: 0\n",
      "|   |   |   |   |   |   |--- Pclass >  2.50\n",
      "|   |   |   |   |   |   |   |--- Fare <= 7.24\n",
      "|   |   |   |   |   |   |   |   |--- Fare <= 7.13\n",
      "|   |   |   |   |   |   |   |   |   |--- Fare <= 2.01\n",
      "|   |   |   |   |   |   |   |   |   |   |--- AgeGroup_Adult <= 0.50\n",
      "|   |   |   |   |   |   |   |   |   |   |   |--- class: 0\n",
      "|   |   |   |   |   |   |   |   |   |   |--- AgeGroup_Adult >  0.50\n",
      "|   |   |   |   |   |   |   |   |   |   |   |--- class: 0\n",
      "|   |   |   |   |   |   |   |   |   |--- Fare >  2.01\n",
      "|   |   |   |   |   |   |   |   |   |   |--- Fare <= 7.01\n",
      "|   |   |   |   |   |   |   |   |   |   |   |--- truncated branch of depth 3\n",
      "|   |   |   |   |   |   |   |   |   |   |--- Fare >  7.01\n",
      "|   |   |   |   |   |   |   |   |   |   |   |--- class: 0\n",
      "|   |   |   |   |   |   |   |   |--- Fare >  7.13\n",
      "|   |   |   |   |   |   |   |   |   |--- Fare <= 7.18\n",
      "|   |   |   |   |   |   |   |   |   |   |--- class: 1\n",
      "|   |   |   |   |   |   |   |   |   |--- Fare >  7.18\n",
      "|   |   |   |   |   |   |   |   |   |   |--- Fare <= 7.23\n",
      "|   |   |   |   |   |   |   |   |   |   |   |--- truncated branch of depth 2\n",
      "|   |   |   |   |   |   |   |   |   |   |--- Fare >  7.23\n",
      "|   |   |   |   |   |   |   |   |   |   |   |--- class: 0\n",
      "|   |   |   |   |   |   |   |--- Fare >  7.24\n",
      "|   |   |   |   |   |   |   |   |--- Fare <= 7.75\n",
      "|   |   |   |   |   |   |   |   |   |--- class: 0\n",
      "|   |   |   |   |   |   |   |   |--- Fare >  7.75\n",
      "|   |   |   |   |   |   |   |   |   |--- AgeGroup_SeniorAdult <= 0.50\n",
      "|   |   |   |   |   |   |   |   |   |   |--- class: 0\n",
      "|   |   |   |   |   |   |   |   |   |--- AgeGroup_SeniorAdult >  0.50\n",
      "|   |   |   |   |   |   |   |   |   |   |--- class: 0\n",
      "|   |   |   |   |   |--- Fare >  7.76\n",
      "|   |   |   |   |   |   |--- Fare <= 7.80\n",
      "|   |   |   |   |   |   |   |--- Fare <= 7.79\n",
      "|   |   |   |   |   |   |   |   |--- AgeGroup_SeniorAdult <= 0.50\n",
      "|   |   |   |   |   |   |   |   |   |--- class: 0\n",
      "|   |   |   |   |   |   |   |   |--- AgeGroup_SeniorAdult >  0.50\n",
      "|   |   |   |   |   |   |   |   |   |--- class: 0\n",
      "|   |   |   |   |   |   |   |--- Fare >  7.79\n",
      "|   |   |   |   |   |   |   |   |--- class: 0\n",
      "|   |   |   |   |   |   |--- Fare >  7.80\n",
      "|   |   |   |   |   |   |   |--- Fare <= 7.84\n",
      "|   |   |   |   |   |   |   |   |--- class: 0\n",
      "|   |   |   |   |   |   |   |--- Fare >  7.84\n",
      "|   |   |   |   |   |   |   |   |--- AgeGroup_Adult <= 0.50\n",
      "|   |   |   |   |   |   |   |   |   |--- class: 0\n",
      "|   |   |   |   |   |   |   |   |--- AgeGroup_Adult >  0.50\n",
      "|   |   |   |   |   |   |   |   |   |--- class: 0\n",
      "|   |   |   |   |--- Fare >  7.86\n",
      "|   |   |   |   |   |--- Fare <= 7.89\n",
      "|   |   |   |   |   |   |--- class: 0\n",
      "|   |   |   |   |   |--- Fare >  7.89\n",
      "|   |   |   |   |   |   |--- class: 0\n",
      "|   |   |   |--- Fare >  7.91\n",
      "|   |   |   |   |--- Fare <= 7.99\n",
      "|   |   |   |   |   |--- class: 0\n",
      "|   |   |   |   |--- Fare >  7.99\n",
      "|   |   |   |   |   |--- Fare <= 23.35\n",
      "|   |   |   |   |   |   |--- Fare <= 22.89\n",
      "|   |   |   |   |   |   |   |--- Fare <= 19.38\n",
      "|   |   |   |   |   |   |   |   |--- Fare <= 18.39\n",
      "|   |   |   |   |   |   |   |   |   |--- Fare <= 15.80\n",
      "|   |   |   |   |   |   |   |   |   |   |--- Fare <= 15.65\n",
      "|   |   |   |   |   |   |   |   |   |   |   |--- truncated branch of depth 11\n",
      "|   |   |   |   |   |   |   |   |   |   |--- Fare >  15.65\n",
      "|   |   |   |   |   |   |   |   |   |   |   |--- class: 1\n",
      "|   |   |   |   |   |   |   |   |   |--- Fare >  15.80\n",
      "|   |   |   |   |   |   |   |   |   |   |--- class: 0\n",
      "|   |   |   |   |   |   |   |   |--- Fare >  18.39\n",
      "|   |   |   |   |   |   |   |   |   |--- class: 1\n",
      "|   |   |   |   |   |   |   |--- Fare >  19.38\n",
      "|   |   |   |   |   |   |   |   |--- class: 0\n",
      "|   |   |   |   |   |   |--- Fare >  22.89\n",
      "|   |   |   |   |   |   |   |--- class: 1\n",
      "|   |   |   |   |   |--- Fare >  23.35\n",
      "|   |   |   |   |   |   |--- Fare <= 25.96\n",
      "|   |   |   |   |   |   |   |--- class: 0\n",
      "|   |   |   |   |   |   |--- Fare >  25.96\n",
      "|   |   |   |   |   |   |   |--- AgeGroup_Adult <= 0.50\n",
      "|   |   |   |   |   |   |   |   |--- class: 0\n",
      "|   |   |   |   |   |   |   |--- AgeGroup_Adult >  0.50\n",
      "|   |   |   |   |   |   |   |   |--- Fare <= 26.12\n",
      "|   |   |   |   |   |   |   |   |   |--- Pclass <= 1.50\n",
      "|   |   |   |   |   |   |   |   |   |   |--- class: 0\n",
      "|   |   |   |   |   |   |   |   |   |--- Pclass >  1.50\n",
      "|   |   |   |   |   |   |   |   |   |   |--- class: 0\n",
      "|   |   |   |   |   |   |   |   |--- Fare >  26.12\n",
      "|   |   |   |   |   |   |   |   |   |--- class: 0\n",
      "|   |   |--- AgeGroup_Child >  0.50\n",
      "|   |   |   |--- Fare <= 7.87\n",
      "|   |   |   |   |--- class: 0\n",
      "|   |   |   |--- Fare >  7.87\n",
      "|   |   |   |   |--- Fare <= 18.77\n",
      "|   |   |   |   |   |--- class: 1\n",
      "|   |   |   |   |--- Fare >  18.77\n",
      "|   |   |   |   |   |--- Fare <= 19.66\n",
      "|   |   |   |   |   |   |--- class: 0\n",
      "|   |   |   |   |   |--- Fare >  19.66\n",
      "|   |   |   |   |   |   |--- Fare <= 20.83\n",
      "|   |   |   |   |   |   |   |--- class: 1\n",
      "|   |   |   |   |   |   |--- Fare >  20.83\n",
      "|   |   |   |   |   |   |   |--- Pclass <= 2.50\n",
      "|   |   |   |   |   |   |   |   |--- class: 1\n",
      "|   |   |   |   |   |   |   |--- Pclass >  2.50\n",
      "|   |   |   |   |   |   |   |   |--- class: 0\n",
      "|   |--- Fare >  26.27\n",
      "|   |   |--- Fare <= 26.47\n",
      "|   |   |   |--- class: 1\n",
      "|   |   |--- Fare >  26.47\n",
      "|   |   |   |--- Pclass <= 1.50\n",
      "|   |   |   |   |--- AgeGroup_Child <= 0.50\n",
      "|   |   |   |   |   |--- Fare <= 387.66\n",
      "|   |   |   |   |   |   |--- Fare <= 134.64\n",
      "|   |   |   |   |   |   |   |--- Fare <= 116.64\n",
      "|   |   |   |   |   |   |   |   |--- AgeGroup_Adult <= 0.50\n",
      "|   |   |   |   |   |   |   |   |   |--- Fare <= 97.76\n",
      "|   |   |   |   |   |   |   |   |   |   |--- Fare <= 86.29\n",
      "|   |   |   |   |   |   |   |   |   |   |   |--- truncated branch of depth 10\n",
      "|   |   |   |   |   |   |   |   |   |   |--- Fare >  86.29\n",
      "|   |   |   |   |   |   |   |   |   |   |   |--- class: 1\n",
      "|   |   |   |   |   |   |   |   |   |--- Fare >  97.76\n",
      "|   |   |   |   |   |   |   |   |   |   |--- class: 0\n",
      "|   |   |   |   |   |   |   |   |--- AgeGroup_Adult >  0.50\n",
      "|   |   |   |   |   |   |   |   |   |--- Fare <= 27.14\n",
      "|   |   |   |   |   |   |   |   |   |   |--- class: 1\n",
      "|   |   |   |   |   |   |   |   |   |--- Fare >  27.14\n",
      "|   |   |   |   |   |   |   |   |   |   |--- Fare <= 28.73\n",
      "|   |   |   |   |   |   |   |   |   |   |   |--- class: 0\n",
      "|   |   |   |   |   |   |   |   |   |   |--- Fare >  28.73\n",
      "|   |   |   |   |   |   |   |   |   |   |   |--- truncated branch of depth 8\n",
      "|   |   |   |   |   |   |   |--- Fare >  116.64\n",
      "|   |   |   |   |   |   |   |   |--- class: 1\n",
      "|   |   |   |   |   |   |--- Fare >  134.64\n",
      "|   |   |   |   |   |   |   |--- class: 0\n",
      "|   |   |   |   |   |--- Fare >  387.66\n",
      "|   |   |   |   |   |   |--- class: 1\n",
      "|   |   |   |   |--- AgeGroup_Child >  0.50\n",
      "|   |   |   |   |   |--- class: 1\n",
      "|   |   |   |--- Pclass >  1.50\n",
      "|   |   |   |   |--- Fare <= 63.02\n",
      "|   |   |   |   |   |--- Fare <= 51.70\n",
      "|   |   |   |   |   |   |--- Pclass <= 2.50\n",
      "|   |   |   |   |   |   |   |--- AgeGroup_Child <= 0.50\n",
      "|   |   |   |   |   |   |   |   |--- class: 0\n",
      "|   |   |   |   |   |   |   |--- AgeGroup_Child >  0.50\n",
      "|   |   |   |   |   |   |   |   |--- class: 1\n",
      "|   |   |   |   |   |   |--- Pclass >  2.50\n",
      "|   |   |   |   |   |   |   |--- Fare <= 32.88\n",
      "|   |   |   |   |   |   |   |   |--- Fare <= 31.33\n",
      "|   |   |   |   |   |   |   |   |   |--- class: 0\n",
      "|   |   |   |   |   |   |   |   |--- Fare >  31.33\n",
      "|   |   |   |   |   |   |   |   |   |--- class: 0\n",
      "|   |   |   |   |   |   |   |--- Fare >  32.88\n",
      "|   |   |   |   |   |   |   |   |--- class: 0\n",
      "|   |   |   |   |   |--- Fare >  51.70\n",
      "|   |   |   |   |   |   |--- class: 1\n",
      "|   |   |   |   |--- Fare >  63.02\n",
      "|   |   |   |   |   |--- class: 0\n",
      "\n"
     ]
    }
   ],
   "source": [
    "tree_text = tree.export_text(dtc, feature_names=list(input_data.columns))\n",
    "print(tree_text)\n",
    "with open(\"titanic_decision_tree_text.log\", mode='w') as f:\n",
    "    f.write(tree_text)"
   ]
  },
  {
   "cell_type": "code",
   "execution_count": 19,
   "metadata": {
    "execution": {
     "iopub.execute_input": "2020-09-04T10:59:19.202377Z",
     "iopub.status.busy": "2020-09-04T10:59:19.201379Z",
     "iopub.status.idle": "2020-09-04T10:59:19.854179Z",
     "shell.execute_reply": "2020-09-04T10:59:19.853272Z"
    },
    "papermill": {
     "duration": 0.679355,
     "end_time": "2020-09-04T10:59:19.854335",
     "exception": false,
     "start_time": "2020-09-04T10:59:19.174980",
     "status": "completed"
    },
    "tags": []
   },
   "outputs": [],
   "source": [
    "# scale = 2.5\n",
    "# fig = plt.figure(figsize=(fig_size[0] * scale, fig_size[1] * scale))\n",
    "\n",
    "# _ = tree.plot_tree(dtc, filled=True)\n",
    "import graphviz\n",
    "dot = tree.export_graphviz(dtc, out_file=None, filled=True, feature_names=list(input_data.columns), class_names=[\"Not Survived\", \"Survived\"])\n",
    "graph = graphviz.Source(dot, format='svg')\n",
    "_ = graph.render('titanic_decision_tree_graphviz')"
   ]
  },
  {
   "cell_type": "markdown",
   "execution_count": null,
   "metadata": {
    "papermill": {
     "duration": 0.018418,
     "end_time": "2020-09-04T10:59:19.891527",
     "exception": false,
     "start_time": "2020-09-04T10:59:19.873109",
     "status": "completed"
    },
    "tags": []
   },
   "source": [
    "*The depth of the tree is 21, which makes it difficult to render in the notebook.*"
   ]
  },
  {
   "cell_type": "markdown",
   "execution_count": null,
   "metadata": {
    "papermill": {
     "duration": 0.017954,
     "end_time": "2020-09-04T10:59:19.927842",
     "exception": false,
     "start_time": "2020-09-04T10:59:19.909888",
     "status": "completed"
    },
    "tags": []
   },
   "source": [
    "# Predicting on the test data set"
   ]
  },
  {
   "cell_type": "code",
   "execution_count": 20,
   "metadata": {
    "execution": {
     "iopub.execute_input": "2020-09-04T10:59:19.975545Z",
     "iopub.status.busy": "2020-09-04T10:59:19.974693Z",
     "iopub.status.idle": "2020-09-04T10:59:20.011777Z",
     "shell.execute_reply": "2020-09-04T10:59:20.010938Z"
    },
    "papermill": {
     "duration": 0.065687,
     "end_time": "2020-09-04T10:59:20.011933",
     "exception": false,
     "start_time": "2020-09-04T10:59:19.946246",
     "status": "completed"
    },
    "tags": []
   },
   "outputs": [
    {
     "name": "stdout",
     "output_type": "stream",
     "text": [
      "<class 'pandas.core.frame.DataFrame'>\n",
      "RangeIndex: 418 entries, 0 to 417\n",
      "Data columns (total 9 columns):\n",
      " #   Column       Non-Null Count  Dtype  \n",
      "---  ------       --------------  -----  \n",
      " 0   PassengerId  418 non-null    int64  \n",
      " 1   Pclass       418 non-null    int64  \n",
      " 2   Name         418 non-null    object \n",
      " 3   Sex          418 non-null    object \n",
      " 4   Age          332 non-null    float64\n",
      " 5   SibSp        418 non-null    int64  \n",
      " 6   Parch        418 non-null    int64  \n",
      " 7   Ticket       418 non-null    object \n",
      " 8   Fare         417 non-null    float64\n",
      "dtypes: float64(2), int64(4), object(3)\n",
      "memory usage: 29.5+ KB\n"
     ]
    },
    {
     "data": {
      "text/html": [
       "<div>\n",
       "<style scoped>\n",
       "    .dataframe tbody tr th:only-of-type {\n",
       "        vertical-align: middle;\n",
       "    }\n",
       "\n",
       "    .dataframe tbody tr th {\n",
       "        vertical-align: top;\n",
       "    }\n",
       "\n",
       "    .dataframe thead th {\n",
       "        text-align: right;\n",
       "    }\n",
       "</style>\n",
       "<table border=\"1\" class=\"dataframe\">\n",
       "  <thead>\n",
       "    <tr style=\"text-align: right;\">\n",
       "      <th></th>\n",
       "      <th>PassengerId</th>\n",
       "      <th>Pclass</th>\n",
       "      <th>Name</th>\n",
       "      <th>Sex</th>\n",
       "      <th>Age</th>\n",
       "      <th>SibSp</th>\n",
       "      <th>Parch</th>\n",
       "      <th>Ticket</th>\n",
       "      <th>Fare</th>\n",
       "    </tr>\n",
       "  </thead>\n",
       "  <tbody>\n",
       "    <tr>\n",
       "      <th>0</th>\n",
       "      <td>892</td>\n",
       "      <td>3</td>\n",
       "      <td>Kelly, Mr. James</td>\n",
       "      <td>male</td>\n",
       "      <td>34.5</td>\n",
       "      <td>0</td>\n",
       "      <td>0</td>\n",
       "      <td>330911</td>\n",
       "      <td>7.8292</td>\n",
       "    </tr>\n",
       "    <tr>\n",
       "      <th>1</th>\n",
       "      <td>893</td>\n",
       "      <td>3</td>\n",
       "      <td>Wilkes, Mrs. James (Ellen Needs)</td>\n",
       "      <td>female</td>\n",
       "      <td>47.0</td>\n",
       "      <td>1</td>\n",
       "      <td>0</td>\n",
       "      <td>363272</td>\n",
       "      <td>7.0000</td>\n",
       "    </tr>\n",
       "    <tr>\n",
       "      <th>2</th>\n",
       "      <td>894</td>\n",
       "      <td>2</td>\n",
       "      <td>Myles, Mr. Thomas Francis</td>\n",
       "      <td>male</td>\n",
       "      <td>62.0</td>\n",
       "      <td>0</td>\n",
       "      <td>0</td>\n",
       "      <td>240276</td>\n",
       "      <td>9.6875</td>\n",
       "    </tr>\n",
       "    <tr>\n",
       "      <th>3</th>\n",
       "      <td>895</td>\n",
       "      <td>3</td>\n",
       "      <td>Wirz, Mr. Albert</td>\n",
       "      <td>male</td>\n",
       "      <td>27.0</td>\n",
       "      <td>0</td>\n",
       "      <td>0</td>\n",
       "      <td>315154</td>\n",
       "      <td>8.6625</td>\n",
       "    </tr>\n",
       "    <tr>\n",
       "      <th>4</th>\n",
       "      <td>896</td>\n",
       "      <td>3</td>\n",
       "      <td>Hirvonen, Mrs. Alexander (Helga E Lindqvist)</td>\n",
       "      <td>female</td>\n",
       "      <td>22.0</td>\n",
       "      <td>1</td>\n",
       "      <td>1</td>\n",
       "      <td>3101298</td>\n",
       "      <td>12.2875</td>\n",
       "    </tr>\n",
       "  </tbody>\n",
       "</table>\n",
       "</div>"
      ],
      "text/plain": [
       "   PassengerId  Pclass                                          Name     Sex  \\\n",
       "0          892       3                              Kelly, Mr. James    male   \n",
       "1          893       3              Wilkes, Mrs. James (Ellen Needs)  female   \n",
       "2          894       2                     Myles, Mr. Thomas Francis    male   \n",
       "3          895       3                              Wirz, Mr. Albert    male   \n",
       "4          896       3  Hirvonen, Mrs. Alexander (Helga E Lindqvist)  female   \n",
       "\n",
       "    Age  SibSp  Parch   Ticket     Fare  \n",
       "0  34.5      0      0   330911   7.8292  \n",
       "1  47.0      1      0   363272   7.0000  \n",
       "2  62.0      0      0   240276   9.6875  \n",
       "3  27.0      0      0   315154   8.6625  \n",
       "4  22.0      1      1  3101298  12.2875  "
      ]
     },
     "execution_count": 20,
     "metadata": {},
     "output_type": "execute_result"
    }
   ],
   "source": [
    "test_df = pd.read_csv(TEST_FILE).drop([\"Cabin\", \"Embarked\"], axis=1)\n",
    "test_df.info()\n",
    "test_df.head()"
   ]
  },
  {
   "cell_type": "markdown",
   "execution_count": null,
   "metadata": {
    "papermill": {
     "duration": 0.018622,
     "end_time": "2020-09-04T10:59:20.049699",
     "exception": false,
     "start_time": "2020-09-04T10:59:20.031077",
     "status": "completed"
    },
    "tags": []
   },
   "source": [
    "Preprocess data"
   ]
  },
  {
   "cell_type": "code",
   "execution_count": 21,
   "metadata": {
    "execution": {
     "iopub.execute_input": "2020-09-04T10:59:20.106636Z",
     "iopub.status.busy": "2020-09-04T10:59:20.105598Z",
     "iopub.status.idle": "2020-09-04T10:59:20.109987Z",
     "shell.execute_reply": "2020-09-04T10:59:20.110730Z"
    },
    "papermill": {
     "duration": 0.042267,
     "end_time": "2020-09-04T10:59:20.110914",
     "exception": false,
     "start_time": "2020-09-04T10:59:20.068647",
     "status": "completed"
    },
    "tags": []
   },
   "outputs": [
    {
     "name": "stdout",
     "output_type": "stream",
     "text": [
      "<class 'pandas.core.frame.DataFrame'>\n",
      "RangeIndex: 418 entries, 0 to 417\n",
      "Data columns (total 10 columns):\n",
      " #   Column       Non-Null Count  Dtype  \n",
      "---  ------       --------------  -----  \n",
      " 0   PassengerId  418 non-null    int64  \n",
      " 1   Pclass       418 non-null    int64  \n",
      " 2   Name         418 non-null    object \n",
      " 3   Sex          418 non-null    object \n",
      " 4   Age          418 non-null    float64\n",
      " 5   SibSp        418 non-null    int64  \n",
      " 6   Parch        418 non-null    int64  \n",
      " 7   Ticket       418 non-null    object \n",
      " 8   Fare         417 non-null    float64\n",
      " 9   AgeGroup     418 non-null    object \n",
      "dtypes: float64(2), int64(4), object(4)\n",
      "memory usage: 32.8+ KB\n"
     ]
    }
   ],
   "source": [
    "test_df = preprocess_data(test_df)\n",
    "test_mask = Mask(test_df)\n",
    "test_df.info()"
   ]
  },
  {
   "cell_type": "markdown",
   "execution_count": null,
   "metadata": {
    "papermill": {
     "duration": 0.018505,
     "end_time": "2020-09-04T10:59:20.148313",
     "exception": false,
     "start_time": "2020-09-04T10:59:20.129808",
     "status": "completed"
    },
    "tags": []
   },
   "source": [
    "We see that Fare still has a missing value.\n",
    "\n",
    "I'll fill this in with the average value of the Pclass it belongs to."
   ]
  },
  {
   "cell_type": "code",
   "execution_count": 22,
   "metadata": {
    "execution": {
     "iopub.execute_input": "2020-09-04T10:59:20.200040Z",
     "iopub.status.busy": "2020-09-04T10:59:20.199139Z",
     "iopub.status.idle": "2020-09-04T10:59:20.210578Z",
     "shell.execute_reply": "2020-09-04T10:59:20.209911Z"
    },
    "papermill": {
     "duration": 0.042824,
     "end_time": "2020-09-04T10:59:20.210717",
     "exception": false,
     "start_time": "2020-09-04T10:59:20.167893",
     "status": "completed"
    },
    "tags": []
   },
   "outputs": [
    {
     "data": {
      "text/html": [
       "<div>\n",
       "<style scoped>\n",
       "    .dataframe tbody tr th:only-of-type {\n",
       "        vertical-align: middle;\n",
       "    }\n",
       "\n",
       "    .dataframe tbody tr th {\n",
       "        vertical-align: top;\n",
       "    }\n",
       "\n",
       "    .dataframe thead th {\n",
       "        text-align: right;\n",
       "    }\n",
       "</style>\n",
       "<table border=\"1\" class=\"dataframe\">\n",
       "  <thead>\n",
       "    <tr style=\"text-align: right;\">\n",
       "      <th></th>\n",
       "      <th>PassengerId</th>\n",
       "      <th>Pclass</th>\n",
       "      <th>Name</th>\n",
       "      <th>Sex</th>\n",
       "      <th>Age</th>\n",
       "      <th>SibSp</th>\n",
       "      <th>Parch</th>\n",
       "      <th>Ticket</th>\n",
       "      <th>Fare</th>\n",
       "      <th>AgeGroup</th>\n",
       "    </tr>\n",
       "  </thead>\n",
       "  <tbody>\n",
       "    <tr>\n",
       "      <th>152</th>\n",
       "      <td>1044</td>\n",
       "      <td>3</td>\n",
       "      <td>Storey, Mr. Thomas</td>\n",
       "      <td>male</td>\n",
       "      <td>60.5</td>\n",
       "      <td>0</td>\n",
       "      <td>0</td>\n",
       "      <td>3701</td>\n",
       "      <td>NaN</td>\n",
       "      <td>SeniorAdult</td>\n",
       "    </tr>\n",
       "  </tbody>\n",
       "</table>\n",
       "</div>"
      ],
      "text/plain": [
       "     PassengerId  Pclass                Name   Sex   Age  SibSp  Parch Ticket  \\\n",
       "152         1044       3  Storey, Mr. Thomas  male  60.5      0      0   3701   \n",
       "\n",
       "     Fare     AgeGroup  \n",
       "152   NaN  SeniorAdult  "
      ]
     },
     "execution_count": 22,
     "metadata": {},
     "output_type": "execute_result"
    }
   ],
   "source": [
    "test_df.loc[test_df.Fare.isnull(), :]"
   ]
  },
  {
   "cell_type": "markdown",
   "execution_count": null,
   "metadata": {
    "papermill": {
     "duration": 0.019655,
     "end_time": "2020-09-04T10:59:20.249939",
     "exception": false,
     "start_time": "2020-09-04T10:59:20.230284",
     "status": "completed"
    },
    "tags": []
   },
   "source": [
    "The missing value for Fare is from Pclass 3, so I'll fill it with the average fare of Pclass 3."
   ]
  },
  {
   "cell_type": "code",
   "execution_count": 23,
   "metadata": {
    "execution": {
     "iopub.execute_input": "2020-09-04T10:59:20.307703Z",
     "iopub.status.busy": "2020-09-04T10:59:20.306555Z",
     "iopub.status.idle": "2020-09-04T10:59:20.310491Z",
     "shell.execute_reply": "2020-09-04T10:59:20.311104Z"
    },
    "papermill": {
     "duration": 0.041643,
     "end_time": "2020-09-04T10:59:20.311286",
     "exception": false,
     "start_time": "2020-09-04T10:59:20.269643",
     "status": "completed"
    },
    "tags": []
   },
   "outputs": [
    {
     "name": "stdout",
     "output_type": "stream",
     "text": [
      "<class 'pandas.core.frame.DataFrame'>\n",
      "RangeIndex: 418 entries, 0 to 417\n",
      "Data columns (total 10 columns):\n",
      " #   Column       Non-Null Count  Dtype  \n",
      "---  ------       --------------  -----  \n",
      " 0   PassengerId  418 non-null    int64  \n",
      " 1   Pclass       418 non-null    int64  \n",
      " 2   Name         418 non-null    object \n",
      " 3   Sex          418 non-null    object \n",
      " 4   Age          418 non-null    float64\n",
      " 5   SibSp        418 non-null    int64  \n",
      " 6   Parch        418 non-null    int64  \n",
      " 7   Ticket       418 non-null    object \n",
      " 8   Fare         418 non-null    float64\n",
      " 9   AgeGroup     418 non-null    object \n",
      "dtypes: float64(2), int64(4), object(4)\n",
      "memory usage: 32.8+ KB\n"
     ]
    }
   ],
   "source": [
    "test_df.loc[test_df.Fare.isnull(), \"Fare\"] = test_df.loc[test_mask.THIRD_CLASS_MASK].Fare.mean()\n",
    "test_df.info()"
   ]
  },
  {
   "cell_type": "markdown",
   "execution_count": null,
   "metadata": {
    "papermill": {
     "duration": 0.019256,
     "end_time": "2020-09-04T10:59:20.349889",
     "exception": false,
     "start_time": "2020-09-04T10:59:20.330633",
     "status": "completed"
    },
    "tags": []
   },
   "source": [
    "Gather the input data to feed into the model"
   ]
  },
  {
   "cell_type": "code",
   "execution_count": 24,
   "metadata": {
    "execution": {
     "iopub.execute_input": "2020-09-04T10:59:20.405813Z",
     "iopub.status.busy": "2020-09-04T10:59:20.397037Z",
     "iopub.status.idle": "2020-09-04T10:59:20.425128Z",
     "shell.execute_reply": "2020-09-04T10:59:20.424443Z"
    },
    "papermill": {
     "duration": 0.055843,
     "end_time": "2020-09-04T10:59:20.425271",
     "exception": false,
     "start_time": "2020-09-04T10:59:20.369428",
     "status": "completed"
    },
    "tags": []
   },
   "outputs": [
    {
     "data": {
      "text/html": [
       "<div>\n",
       "<style scoped>\n",
       "    .dataframe tbody tr th:only-of-type {\n",
       "        vertical-align: middle;\n",
       "    }\n",
       "\n",
       "    .dataframe tbody tr th {\n",
       "        vertical-align: top;\n",
       "    }\n",
       "\n",
       "    .dataframe thead th {\n",
       "        text-align: right;\n",
       "    }\n",
       "</style>\n",
       "<table border=\"1\" class=\"dataframe\">\n",
       "  <thead>\n",
       "    <tr style=\"text-align: right;\">\n",
       "      <th></th>\n",
       "      <th>Pclass</th>\n",
       "      <th>Fare</th>\n",
       "      <th>Sex_female</th>\n",
       "      <th>Sex_male</th>\n",
       "      <th>AgeGroup_Adult</th>\n",
       "      <th>AgeGroup_Child</th>\n",
       "      <th>AgeGroup_SeniorAdult</th>\n",
       "    </tr>\n",
       "  </thead>\n",
       "  <tbody>\n",
       "    <tr>\n",
       "      <th>0</th>\n",
       "      <td>3</td>\n",
       "      <td>7.8292</td>\n",
       "      <td>0</td>\n",
       "      <td>1</td>\n",
       "      <td>1</td>\n",
       "      <td>0</td>\n",
       "      <td>0</td>\n",
       "    </tr>\n",
       "    <tr>\n",
       "      <th>1</th>\n",
       "      <td>3</td>\n",
       "      <td>7.0000</td>\n",
       "      <td>1</td>\n",
       "      <td>0</td>\n",
       "      <td>0</td>\n",
       "      <td>0</td>\n",
       "      <td>1</td>\n",
       "    </tr>\n",
       "    <tr>\n",
       "      <th>2</th>\n",
       "      <td>2</td>\n",
       "      <td>9.6875</td>\n",
       "      <td>0</td>\n",
       "      <td>1</td>\n",
       "      <td>0</td>\n",
       "      <td>0</td>\n",
       "      <td>1</td>\n",
       "    </tr>\n",
       "    <tr>\n",
       "      <th>3</th>\n",
       "      <td>3</td>\n",
       "      <td>8.6625</td>\n",
       "      <td>0</td>\n",
       "      <td>1</td>\n",
       "      <td>1</td>\n",
       "      <td>0</td>\n",
       "      <td>0</td>\n",
       "    </tr>\n",
       "    <tr>\n",
       "      <th>4</th>\n",
       "      <td>3</td>\n",
       "      <td>12.2875</td>\n",
       "      <td>1</td>\n",
       "      <td>0</td>\n",
       "      <td>1</td>\n",
       "      <td>0</td>\n",
       "      <td>0</td>\n",
       "    </tr>\n",
       "    <tr>\n",
       "      <th>...</th>\n",
       "      <td>...</td>\n",
       "      <td>...</td>\n",
       "      <td>...</td>\n",
       "      <td>...</td>\n",
       "      <td>...</td>\n",
       "      <td>...</td>\n",
       "      <td>...</td>\n",
       "    </tr>\n",
       "    <tr>\n",
       "      <th>413</th>\n",
       "      <td>3</td>\n",
       "      <td>8.0500</td>\n",
       "      <td>0</td>\n",
       "      <td>1</td>\n",
       "      <td>1</td>\n",
       "      <td>0</td>\n",
       "      <td>0</td>\n",
       "    </tr>\n",
       "    <tr>\n",
       "      <th>414</th>\n",
       "      <td>1</td>\n",
       "      <td>108.9000</td>\n",
       "      <td>1</td>\n",
       "      <td>0</td>\n",
       "      <td>1</td>\n",
       "      <td>0</td>\n",
       "      <td>0</td>\n",
       "    </tr>\n",
       "    <tr>\n",
       "      <th>415</th>\n",
       "      <td>3</td>\n",
       "      <td>7.2500</td>\n",
       "      <td>0</td>\n",
       "      <td>1</td>\n",
       "      <td>1</td>\n",
       "      <td>0</td>\n",
       "      <td>0</td>\n",
       "    </tr>\n",
       "    <tr>\n",
       "      <th>416</th>\n",
       "      <td>3</td>\n",
       "      <td>8.0500</td>\n",
       "      <td>0</td>\n",
       "      <td>1</td>\n",
       "      <td>1</td>\n",
       "      <td>0</td>\n",
       "      <td>0</td>\n",
       "    </tr>\n",
       "    <tr>\n",
       "      <th>417</th>\n",
       "      <td>3</td>\n",
       "      <td>22.3583</td>\n",
       "      <td>0</td>\n",
       "      <td>1</td>\n",
       "      <td>1</td>\n",
       "      <td>0</td>\n",
       "      <td>0</td>\n",
       "    </tr>\n",
       "  </tbody>\n",
       "</table>\n",
       "<p>418 rows × 7 columns</p>\n",
       "</div>"
      ],
      "text/plain": [
       "     Pclass      Fare  Sex_female  Sex_male  AgeGroup_Adult  AgeGroup_Child  \\\n",
       "0         3    7.8292           0         1               1               0   \n",
       "1         3    7.0000           1         0               0               0   \n",
       "2         2    9.6875           0         1               0               0   \n",
       "3         3    8.6625           0         1               1               0   \n",
       "4         3   12.2875           1         0               1               0   \n",
       "..      ...       ...         ...       ...             ...             ...   \n",
       "413       3    8.0500           0         1               1               0   \n",
       "414       1  108.9000           1         0               1               0   \n",
       "415       3    7.2500           0         1               1               0   \n",
       "416       3    8.0500           0         1               1               0   \n",
       "417       3   22.3583           0         1               1               0   \n",
       "\n",
       "     AgeGroup_SeniorAdult  \n",
       "0                       0  \n",
       "1                       1  \n",
       "2                       1  \n",
       "3                       0  \n",
       "4                       0  \n",
       "..                    ...  \n",
       "413                     0  \n",
       "414                     0  \n",
       "415                     0  \n",
       "416                     0  \n",
       "417                     0  \n",
       "\n",
       "[418 rows x 7 columns]"
      ]
     },
     "execution_count": 24,
     "metadata": {},
     "output_type": "execute_result"
    }
   ],
   "source": [
    "# Gathering\n",
    "test_input_cols = [\"Pclass\", \"Sex\", \"AgeGroup\", \"Fare\"]\n",
    "\n",
    "test_input_data = test_df.loc[:, test_input_cols]\n",
    "\n",
    "test_input_data = pd.get_dummies(test_input_data)\n",
    "test_input_dummies = test_input_data.values\n",
    "test_input_data"
   ]
  },
  {
   "cell_type": "code",
   "execution_count": 25,
   "metadata": {
    "execution": {
     "iopub.execute_input": "2020-09-04T10:59:20.472783Z",
     "iopub.status.busy": "2020-09-04T10:59:20.471930Z",
     "iopub.status.idle": "2020-09-04T10:59:20.475515Z",
     "shell.execute_reply": "2020-09-04T10:59:20.474871Z"
    },
    "papermill": {
     "duration": 0.030187,
     "end_time": "2020-09-04T10:59:20.475654",
     "exception": false,
     "start_time": "2020-09-04T10:59:20.445467",
     "status": "completed"
    },
    "tags": []
   },
   "outputs": [],
   "source": [
    "# Feeding the test data to the model\n",
    "y_pred_test = dtc.predict(test_input_dummies)"
   ]
  },
  {
   "cell_type": "code",
   "execution_count": 26,
   "metadata": {
    "execution": {
     "iopub.execute_input": "2020-09-04T10:59:20.526968Z",
     "iopub.status.busy": "2020-09-04T10:59:20.526090Z",
     "iopub.status.idle": "2020-09-04T10:59:20.864479Z",
     "shell.execute_reply": "2020-09-04T10:59:20.863677Z"
    },
    "papermill": {
     "duration": 0.368743,
     "end_time": "2020-09-04T10:59:20.864652",
     "exception": false,
     "start_time": "2020-09-04T10:59:20.495909",
     "status": "completed"
    },
    "tags": []
   },
   "outputs": [],
   "source": [
    "# Logging the predictions into the submission file\n",
    "submission_df = pd.read_csv(SUBMISSION_FILE)\n",
    "submission_df.Survived = y_pred_test\n",
    "submission_df.set_index(['PassengerId']).to_csv(\"submission.csv\")"
   ]
  }
 ],
 "metadata": {
  "kernelspec": {
   "display_name": "Python 3",
   "language": "python",
   "name": "python3"
  },
  "language_info": {
   "codemirror_mode": {
    "name": "ipython",
    "version": 3
   },
   "file_extension": ".py",
   "mimetype": "text/x-python",
   "name": "python",
   "nbconvert_exporter": "python",
   "pygments_lexer": "ipython3",
   "version": "3.7.6"
  },
  "papermill": {
   "duration": 16.585824,
   "end_time": "2020-09-04T10:59:20.996932",
   "environment_variables": {},
   "exception": null,
   "input_path": "__notebook__.ipynb",
   "output_path": "__notebook__.ipynb",
   "parameters": {},
   "start_time": "2020-09-04T10:59:04.411108",
   "version": "2.1.0"
  }
 },
 "nbformat": 4,
 "nbformat_minor": 4
}
