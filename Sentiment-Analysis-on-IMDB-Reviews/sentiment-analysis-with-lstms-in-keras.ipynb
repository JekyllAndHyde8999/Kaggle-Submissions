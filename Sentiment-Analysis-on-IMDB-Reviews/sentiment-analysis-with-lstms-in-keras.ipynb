{
 "cells": [
  {
   "cell_type": "code",
   "execution_count": 1,
   "metadata": {
    "_cell_guid": "b1076dfc-b9ad-4769-8c92-a6c4dae69d19",
    "_uuid": "8f2839f25d086af736a60e9eeb907d3b93b6e0e5",
    "execution": {
     "iopub.execute_input": "2020-08-26T12:04:14.419663Z",
     "iopub.status.busy": "2020-08-26T12:04:14.419052Z",
     "iopub.status.idle": "2020-08-26T12:04:14.433747Z",
     "shell.execute_reply": "2020-08-26T12:04:14.434355Z"
    },
    "papermill": {
     "duration": 0.028976,
     "end_time": "2020-08-26T12:04:14.434549",
     "exception": false,
     "start_time": "2020-08-26T12:04:14.405573",
     "status": "completed"
    },
    "tags": []
   },
   "outputs": [
    {
     "name": "stdout",
     "output_type": "stream",
     "text": [
      "/kaggle/input/imdb-dataset-of-50k-movie-reviews/IMDB Dataset.csv\n"
     ]
    }
   ],
   "source": [
    "# This Python 3 environment comes with many helpful analytics libraries installed\n",
    "# It is defined by the kaggle/python Docker image: https://github.com/kaggle/docker-python\n",
    "# For example, here's several helpful packages to load\n",
    "\n",
    "import numpy as np # linear algebra\n",
    "import pandas as pd # data processing, CSV file I/O (e.g. pd.read_csv)\n",
    "\n",
    "# Input data files are available in the read-only \"../input/\" directory\n",
    "# For example, running this (by clicking run or pressing Shift+Enter) will list all files under the input directory\n",
    "\n",
    "import os\n",
    "for dirname, _, filenames in os.walk('/kaggle/input'):\n",
    "    for filename in filenames:\n",
    "        print(os.path.join(dirname, filename))\n",
    "\n",
    "# You can write up to 5GB to the current directory (/kaggle/working/) that gets preserved as output when you create a version using \"Save & Run All\" \n",
    "# You can also write temporary files to /kaggle/temp/, but they won't be saved outside of the current session"
   ]
  },
  {
   "cell_type": "code",
   "execution_count": 2,
   "metadata": {
    "execution": {
     "iopub.execute_input": "2020-08-26T12:04:14.466095Z",
     "iopub.status.busy": "2020-08-26T12:04:14.465280Z",
     "iopub.status.idle": "2020-08-26T12:04:22.378526Z",
     "shell.execute_reply": "2020-08-26T12:04:22.377403Z"
    },
    "papermill": {
     "duration": 7.933686,
     "end_time": "2020-08-26T12:04:22.378646",
     "exception": false,
     "start_time": "2020-08-26T12:04:14.444960",
     "status": "completed"
    },
    "tags": []
   },
   "outputs": [],
   "source": [
    "import re\n",
    "import string\n",
    "import matplotlib.pyplot as plt\n",
    "\n",
    "from tensorflow.keras import layers, models, backend as K, optimizers\n",
    "\n",
    "from nltk.corpus import stopwords\n",
    "\n",
    "eng_stopwords = stopwords.words('english')\n",
    "eng_stopwords += [word.title() for word in eng_stopwords]\n",
    "no_punct_table = str.maketrans(dict.fromkeys(string.punctuation)) # translation table to remove punctuation\n",
    "\n",
    "%matplotlib inline"
   ]
  },
  {
   "cell_type": "markdown",
   "execution_count": null,
   "metadata": {
    "papermill": {
     "duration": 0.008987,
     "end_time": "2020-08-26T12:04:22.395353",
     "exception": false,
     "start_time": "2020-08-26T12:04:22.386366",
     "status": "completed"
    },
    "tags": []
   },
   "source": [
    "# Helper Functions"
   ]
  },
  {
   "cell_type": "code",
   "execution_count": 3,
   "metadata": {
    "execution": {
     "iopub.execute_input": "2020-08-26T12:04:22.428313Z",
     "iopub.status.busy": "2020-08-26T12:04:22.423107Z",
     "iopub.status.idle": "2020-08-26T12:04:22.430968Z",
     "shell.execute_reply": "2020-08-26T12:04:22.430406Z"
    },
    "papermill": {
     "duration": 0.028321,
     "end_time": "2020-08-26T12:04:22.431071",
     "exception": false,
     "start_time": "2020-08-26T12:04:22.402750",
     "status": "completed"
    },
    "tags": []
   },
   "outputs": [],
   "source": [
    "def preprocess(x):\n",
    "    x = x.replace(\"<br />\", '')\n",
    "    x = x.translate(no_punct_table)\n",
    "    x = ' '.join(list(filter(lambda y: y not in eng_stopwords, x.split(' '))))\n",
    "    x = re.sub(r'[A-Z][a-z]+', \"<name>\", x)\n",
    "    return x\n",
    "\n",
    "\n",
    "def make_vocab(column):\n",
    "    vocab_ = set()\n",
    "    max_len_ = 0\n",
    "    for sent in column:\n",
    "        vocab_.update(sent.split(' '))\n",
    "        max_len_ = max(max_len_, len(sent.split(' ')))\n",
    "    \n",
    "    vocab_.update(['<PAD>', '<UNK>']) # <PAD> and <UNK> tokens for padding and unknown words found in sentences\n",
    "    \n",
    "    return sorted(vocab_), max_len_\n",
    "\n",
    "\n",
    "def pad_index_closure(mapping, ref_len):\n",
    "    def inner(x):\n",
    "        new_x = [mapping['<PAD>']] * (ref_len - len(x.split(' ')))\n",
    "        \n",
    "        for word in x.split(' '):\n",
    "            try:\n",
    "                new_word = mapping[word]\n",
    "            except:\n",
    "                new_word = mapping['<UNK>']\n",
    "            \n",
    "            new_x.append(new_word)\n",
    "        \n",
    "        return new_x\n",
    "    \n",
    "    return inner\n",
    "\n",
    "\n",
    "def fix_array(arr):\n",
    "    x_ = []\n",
    "    for row in arr:\n",
    "        x_.append(row)\n",
    "\n",
    "    return np.array(x_)"
   ]
  },
  {
   "cell_type": "markdown",
   "execution_count": null,
   "metadata": {
    "papermill": {
     "duration": 0.007184,
     "end_time": "2020-08-26T12:04:22.445798",
     "exception": false,
     "start_time": "2020-08-26T12:04:22.438614",
     "status": "completed"
    },
    "tags": []
   },
   "source": [
    "# Reading the input dataset"
   ]
  },
  {
   "cell_type": "code",
   "execution_count": 4,
   "metadata": {
    "_cell_guid": "79c7e3d0-c299-4dcb-8224-4455121ee9b0",
    "_uuid": "d629ff2d2480ee46fbb7e2d37f6b5fab8052498a",
    "execution": {
     "iopub.execute_input": "2020-08-26T12:04:22.469220Z",
     "iopub.status.busy": "2020-08-26T12:04:22.468630Z",
     "iopub.status.idle": "2020-08-26T12:04:23.024430Z",
     "shell.execute_reply": "2020-08-26T12:04:23.024930Z"
    },
    "papermill": {
     "duration": 0.57176,
     "end_time": "2020-08-26T12:04:23.025085",
     "exception": false,
     "start_time": "2020-08-26T12:04:22.453325",
     "status": "completed"
    },
    "tags": []
   },
   "outputs": [
    {
     "data": {
      "text/html": [
       "<div>\n",
       "<style scoped>\n",
       "    .dataframe tbody tr th:only-of-type {\n",
       "        vertical-align: middle;\n",
       "    }\n",
       "\n",
       "    .dataframe tbody tr th {\n",
       "        vertical-align: top;\n",
       "    }\n",
       "\n",
       "    .dataframe thead th {\n",
       "        text-align: right;\n",
       "    }\n",
       "</style>\n",
       "<table border=\"1\" class=\"dataframe\">\n",
       "  <thead>\n",
       "    <tr style=\"text-align: right;\">\n",
       "      <th></th>\n",
       "      <th>review</th>\n",
       "      <th>sentiment</th>\n",
       "    </tr>\n",
       "  </thead>\n",
       "  <tbody>\n",
       "    <tr>\n",
       "      <th>0</th>\n",
       "      <td>One of the other reviewers has mentioned that ...</td>\n",
       "      <td>positive</td>\n",
       "    </tr>\n",
       "    <tr>\n",
       "      <th>1</th>\n",
       "      <td>A wonderful little production. &lt;br /&gt;&lt;br /&gt;The...</td>\n",
       "      <td>positive</td>\n",
       "    </tr>\n",
       "    <tr>\n",
       "      <th>2</th>\n",
       "      <td>I thought this was a wonderful way to spend ti...</td>\n",
       "      <td>positive</td>\n",
       "    </tr>\n",
       "    <tr>\n",
       "      <th>3</th>\n",
       "      <td>Basically there's a family where a little boy ...</td>\n",
       "      <td>negative</td>\n",
       "    </tr>\n",
       "    <tr>\n",
       "      <th>4</th>\n",
       "      <td>Petter Mattei's \"Love in the Time of Money\" is...</td>\n",
       "      <td>positive</td>\n",
       "    </tr>\n",
       "  </tbody>\n",
       "</table>\n",
       "</div>"
      ],
      "text/plain": [
       "                                              review sentiment\n",
       "0  One of the other reviewers has mentioned that ...  positive\n",
       "1  A wonderful little production. <br /><br />The...  positive\n",
       "2  I thought this was a wonderful way to spend ti...  positive\n",
       "3  Basically there's a family where a little boy ...  negative\n",
       "4  Petter Mattei's \"Love in the Time of Money\" is...  positive"
      ]
     },
     "execution_count": 4,
     "metadata": {},
     "output_type": "execute_result"
    }
   ],
   "source": [
    "df = pd.read_csv('../input/imdb-dataset-of-50k-movie-reviews/IMDB Dataset.csv', header=0)\n",
    "df.head()"
   ]
  },
  {
   "cell_type": "markdown",
   "execution_count": null,
   "metadata": {
    "papermill": {
     "duration": 0.007525,
     "end_time": "2020-08-26T12:04:23.040481",
     "exception": false,
     "start_time": "2020-08-26T12:04:23.032956",
     "status": "completed"
    },
    "tags": []
   },
   "source": [
    "### Relabelling sentiment column\n",
    "Replacing positive with 1 and negative with 0"
   ]
  },
  {
   "cell_type": "code",
   "execution_count": 5,
   "metadata": {
    "execution": {
     "iopub.execute_input": "2020-08-26T12:04:23.070426Z",
     "iopub.status.busy": "2020-08-26T12:04:23.060215Z",
     "iopub.status.idle": "2020-08-26T12:04:23.103592Z",
     "shell.execute_reply": "2020-08-26T12:04:23.103124Z"
    },
    "papermill": {
     "duration": 0.055425,
     "end_time": "2020-08-26T12:04:23.103687",
     "exception": false,
     "start_time": "2020-08-26T12:04:23.048262",
     "status": "completed"
    },
    "tags": []
   },
   "outputs": [
    {
     "data": {
      "text/html": [
       "<div>\n",
       "<style scoped>\n",
       "    .dataframe tbody tr th:only-of-type {\n",
       "        vertical-align: middle;\n",
       "    }\n",
       "\n",
       "    .dataframe tbody tr th {\n",
       "        vertical-align: top;\n",
       "    }\n",
       "\n",
       "    .dataframe thead th {\n",
       "        text-align: right;\n",
       "    }\n",
       "</style>\n",
       "<table border=\"1\" class=\"dataframe\">\n",
       "  <thead>\n",
       "    <tr style=\"text-align: right;\">\n",
       "      <th></th>\n",
       "      <th>review</th>\n",
       "      <th>sentiment</th>\n",
       "    </tr>\n",
       "  </thead>\n",
       "  <tbody>\n",
       "    <tr>\n",
       "      <th>0</th>\n",
       "      <td>One of the other reviewers has mentioned that ...</td>\n",
       "      <td>1</td>\n",
       "    </tr>\n",
       "    <tr>\n",
       "      <th>1</th>\n",
       "      <td>A wonderful little production. &lt;br /&gt;&lt;br /&gt;The...</td>\n",
       "      <td>1</td>\n",
       "    </tr>\n",
       "    <tr>\n",
       "      <th>2</th>\n",
       "      <td>I thought this was a wonderful way to spend ti...</td>\n",
       "      <td>1</td>\n",
       "    </tr>\n",
       "    <tr>\n",
       "      <th>3</th>\n",
       "      <td>Basically there's a family where a little boy ...</td>\n",
       "      <td>0</td>\n",
       "    </tr>\n",
       "    <tr>\n",
       "      <th>4</th>\n",
       "      <td>Petter Mattei's \"Love in the Time of Money\" is...</td>\n",
       "      <td>1</td>\n",
       "    </tr>\n",
       "  </tbody>\n",
       "</table>\n",
       "</div>"
      ],
      "text/plain": [
       "                                              review  sentiment\n",
       "0  One of the other reviewers has mentioned that ...          1\n",
       "1  A wonderful little production. <br /><br />The...          1\n",
       "2  I thought this was a wonderful way to spend ti...          1\n",
       "3  Basically there's a family where a little boy ...          0\n",
       "4  Petter Mattei's \"Love in the Time of Money\" is...          1"
      ]
     },
     "execution_count": 5,
     "metadata": {},
     "output_type": "execute_result"
    }
   ],
   "source": [
    "df.sentiment = df.sentiment.apply(lambda x: 1 if x == 'positive' else 0)\n",
    "df.head()"
   ]
  },
  {
   "cell_type": "markdown",
   "execution_count": null,
   "metadata": {
    "papermill": {
     "duration": 0.007662,
     "end_time": "2020-08-26T12:04:23.119146",
     "exception": false,
     "start_time": "2020-08-26T12:04:23.111484",
     "status": "completed"
    },
    "tags": []
   },
   "source": [
    "### Preprocessing\n",
    "\n",
    "* Remove `<br />` tokens that are present in the text.\n",
    "* Remove punctuation from the text.\n",
    "* Remove stopwords.\n",
    "* Substitute names of people with a special `<name>` token."
   ]
  },
  {
   "cell_type": "code",
   "execution_count": 6,
   "metadata": {
    "execution": {
     "iopub.execute_input": "2020-08-26T12:04:23.166117Z",
     "iopub.status.busy": "2020-08-26T12:04:23.145486Z",
     "iopub.status.idle": "2020-08-26T12:05:07.242219Z",
     "shell.execute_reply": "2020-08-26T12:05:07.243052Z"
    },
    "papermill": {
     "duration": 44.116219,
     "end_time": "2020-08-26T12:05:07.243245",
     "exception": false,
     "start_time": "2020-08-26T12:04:23.127026",
     "status": "completed"
    },
    "tags": []
   },
   "outputs": [
    {
     "name": "stdout",
     "output_type": "stream",
     "text": [
      "Before preprocessing:\n",
      "\n",
      "A wonderful little production. <br /><br />The filming technique is very unassuming- very old-time-BBC fashion and gives a comforting, and sometimes discomforting, sense of realism to the entire piece. <br /><br />The actors are extremely well chosen- Michael Sheen not only \"has got all the polari\" but he has all the voices down pat too! You can truly see the seamless editing guided by the references to Williams' diary entries, not only is it well worth the watching but it is a terrificly written and performed piece. A masterful production about one of the great master's of comedy and his life. <br /><br />The realism really comes home with the little things: the fantasy of the guard which, rather than use the traditional 'dream' techniques remains solid then disappears. It plays on our knowledge and our senses, particularly with the scenes concerning Orton and Halliwell and the sets (particularly of their flat with Halliwell's murals decorating every surface) are terribly well done.\n",
      "\n",
      "============================================================================================================================================\n",
      "\n",
      "After preprocessing:\n",
      "\n",
      "A wonderful little production. <br /><br />The filming technique is very unassuming- very old-time-BBC fashion and gives a comforting, and sometimes discomforting, sense of realism to the entire piece. <br /><br />The actors are extremely well chosen- Michael Sheen not only \"has got all the polari\" but he has all the voices down pat too! You can truly see the seamless editing guided by the references to Williams' diary entries, not only is it well worth the watching but it is a terrificly written and performed piece. A masterful production about one of the great master's of comedy and his life. <br /><br />The realism really comes home with the little things: the fantasy of the guard which, rather than use the traditional 'dream' techniques remains solid then disappears. It plays on our knowledge and our senses, particularly with the scenes concerning Orton and Halliwell and the sets (particularly of their flat with Halliwell's murals decorating every surface) are terribly well done.\n"
     ]
    }
   ],
   "source": [
    "print(\"Before preprocessing:\\n\")\n",
    "print(df.review[1])\n",
    "print()\n",
    "print(\"=\" * 140)\n",
    "df[\"review_preprocessed\"] = df.review.apply(preprocess)\n",
    "\n",
    "print(\"\\nAfter preprocessing:\\n\")\n",
    "print(df.review[1])"
   ]
  },
  {
   "cell_type": "markdown",
   "execution_count": null,
   "metadata": {
    "papermill": {
     "duration": 0.010742,
     "end_time": "2020-08-26T12:05:07.262243",
     "exception": false,
     "start_time": "2020-08-26T12:05:07.251501",
     "status": "completed"
    },
    "tags": []
   },
   "source": [
    "### Building the vocabulary of the dataset.\n",
    "In the below cell, `vocab` is just a set.<br>\n",
    "\n",
    "So, I will make a dictionary that will map each unique token in vocab to an integer.<br>\n",
    "`vocab_itos` maps given integer to a word<br>\n",
    "`vocab_stoi` maps given word to an integer"
   ]
  },
  {
   "cell_type": "code",
   "execution_count": 7,
   "metadata": {
    "execution": {
     "iopub.execute_input": "2020-08-26T12:05:07.295508Z",
     "iopub.status.busy": "2020-08-26T12:05:07.294676Z",
     "iopub.status.idle": "2020-08-26T12:05:08.810360Z",
     "shell.execute_reply": "2020-08-26T12:05:08.809759Z"
    },
    "papermill": {
     "duration": 1.53602,
     "end_time": "2020-08-26T12:05:08.810469",
     "exception": false,
     "start_time": "2020-08-26T12:05:07.274449",
     "status": "completed"
    },
    "tags": []
   },
   "outputs": [],
   "source": [
    "vocab, max_len = make_vocab(df.review_preprocessed)\n",
    "\n",
    "vocab_itos = dict(enumerate(vocab))\n",
    "vocab_stoi = {val: key for key, val in vocab_itos.items()}"
   ]
  },
  {
   "cell_type": "markdown",
   "execution_count": null,
   "metadata": {
    "papermill": {
     "duration": 0.008109,
     "end_time": "2020-08-26T12:05:08.826973",
     "exception": false,
     "start_time": "2020-08-26T12:05:08.818864",
     "status": "completed"
    },
    "tags": []
   },
   "source": [
    "### Converting the sequence of words to a sequence of integers\n",
    "* Padding each sentence to make all the training examples of same length.\n",
    "* Substituting each word for its corresponding integer"
   ]
  },
  {
   "cell_type": "code",
   "execution_count": 8,
   "metadata": {
    "execution": {
     "iopub.execute_input": "2020-08-26T12:05:08.858779Z",
     "iopub.status.busy": "2020-08-26T12:05:08.853618Z",
     "iopub.status.idle": "2020-08-26T12:05:12.462193Z",
     "shell.execute_reply": "2020-08-26T12:05:12.463297Z"
    },
    "papermill": {
     "duration": 3.628469,
     "end_time": "2020-08-26T12:05:12.463493",
     "exception": false,
     "start_time": "2020-08-26T12:05:08.835024",
     "status": "completed"
    },
    "tags": []
   },
   "outputs": [
    {
     "data": {
      "text/html": [
       "<div>\n",
       "<style scoped>\n",
       "    .dataframe tbody tr th:only-of-type {\n",
       "        vertical-align: middle;\n",
       "    }\n",
       "\n",
       "    .dataframe tbody tr th {\n",
       "        vertical-align: top;\n",
       "    }\n",
       "\n",
       "    .dataframe thead th {\n",
       "        text-align: right;\n",
       "    }\n",
       "</style>\n",
       "<table border=\"1\" class=\"dataframe\">\n",
       "  <thead>\n",
       "    <tr style=\"text-align: right;\">\n",
       "      <th></th>\n",
       "      <th>review</th>\n",
       "      <th>sentiment</th>\n",
       "      <th>review_preprocessed</th>\n",
       "      <th>review_indexed</th>\n",
       "    </tr>\n",
       "  </thead>\n",
       "  <tbody>\n",
       "    <tr>\n",
       "      <th>0</th>\n",
       "      <td>One of the other reviewers has mentioned that ...</td>\n",
       "      <td>1</td>\n",
       "      <td>&lt;name&gt; reviewers mentioned watching 1 &lt;name&gt; e...</td>\n",
       "      <td>[3840, 3840, 3840, 3840, 3840, 3840, 3840, 384...</td>\n",
       "    </tr>\n",
       "    <tr>\n",
       "      <th>1</th>\n",
       "      <td>A wonderful little production. &lt;br /&gt;&lt;br /&gt;The...</td>\n",
       "      <td>1</td>\n",
       "      <td>wonderful little production filming technique ...</td>\n",
       "      <td>[3840, 3840, 3840, 3840, 3840, 3840, 3840, 384...</td>\n",
       "    </tr>\n",
       "    <tr>\n",
       "      <th>2</th>\n",
       "      <td>I thought this was a wonderful way to spend ti...</td>\n",
       "      <td>1</td>\n",
       "      <td>thought wonderful way spend time hot summer we...</td>\n",
       "      <td>[3840, 3840, 3840, 3840, 3840, 3840, 3840, 384...</td>\n",
       "    </tr>\n",
       "    <tr>\n",
       "      <th>3</th>\n",
       "      <td>Basically there's a family where a little boy ...</td>\n",
       "      <td>0</td>\n",
       "      <td>&lt;name&gt; theres family little boy &lt;name&gt; thinks ...</td>\n",
       "      <td>[3840, 3840, 3840, 3840, 3840, 3840, 3840, 384...</td>\n",
       "    </tr>\n",
       "    <tr>\n",
       "      <th>4</th>\n",
       "      <td>Petter Mattei's \"Love in the Time of Money\" is...</td>\n",
       "      <td>1</td>\n",
       "      <td>&lt;name&gt; &lt;name&gt; &lt;name&gt; &lt;name&gt; &lt;name&gt; visually st...</td>\n",
       "      <td>[3840, 3840, 3840, 3840, 3840, 3840, 3840, 384...</td>\n",
       "    </tr>\n",
       "  </tbody>\n",
       "</table>\n",
       "</div>"
      ],
      "text/plain": [
       "                                              review  sentiment  \\\n",
       "0  One of the other reviewers has mentioned that ...          1   \n",
       "1  A wonderful little production. <br /><br />The...          1   \n",
       "2  I thought this was a wonderful way to spend ti...          1   \n",
       "3  Basically there's a family where a little boy ...          0   \n",
       "4  Petter Mattei's \"Love in the Time of Money\" is...          1   \n",
       "\n",
       "                                 review_preprocessed  \\\n",
       "0  <name> reviewers mentioned watching 1 <name> e...   \n",
       "1  wonderful little production filming technique ...   \n",
       "2  thought wonderful way spend time hot summer we...   \n",
       "3  <name> theres family little boy <name> thinks ...   \n",
       "4  <name> <name> <name> <name> <name> visually st...   \n",
       "\n",
       "                                      review_indexed  \n",
       "0  [3840, 3840, 3840, 3840, 3840, 3840, 3840, 384...  \n",
       "1  [3840, 3840, 3840, 3840, 3840, 3840, 3840, 384...  \n",
       "2  [3840, 3840, 3840, 3840, 3840, 3840, 3840, 384...  \n",
       "3  [3840, 3840, 3840, 3840, 3840, 3840, 3840, 384...  \n",
       "4  [3840, 3840, 3840, 3840, 3840, 3840, 3840, 384...  "
      ]
     },
     "execution_count": 8,
     "metadata": {},
     "output_type": "execute_result"
    }
   ],
   "source": [
    "df[\"review_indexed\"] = df.review_preprocessed.apply(pad_index_closure(vocab_stoi, max_len))\n",
    "df.head()"
   ]
  },
  {
   "cell_type": "markdown",
   "execution_count": null,
   "metadata": {
    "papermill": {
     "duration": 0.018256,
     "end_time": "2020-08-26T12:05:12.495265",
     "exception": false,
     "start_time": "2020-08-26T12:05:12.477009",
     "status": "completed"
    },
    "tags": []
   },
   "source": [
    "## Get input and output arrays for the model"
   ]
  },
  {
   "cell_type": "code",
   "execution_count": 9,
   "metadata": {
    "execution": {
     "iopub.execute_input": "2020-08-26T12:05:12.535197Z",
     "iopub.status.busy": "2020-08-26T12:05:12.534363Z",
     "iopub.status.idle": "2020-08-26T12:05:26.372028Z",
     "shell.execute_reply": "2020-08-26T12:05:26.371382Z"
    },
    "papermill": {
     "duration": 13.860705,
     "end_time": "2020-08-26T12:05:26.372146",
     "exception": false,
     "start_time": "2020-08-26T12:05:12.511441",
     "status": "completed"
    },
    "tags": []
   },
   "outputs": [],
   "source": [
    "x = df.review_indexed.values\n",
    "y = df.sentiment.values\n",
    "\n",
    "# turn x into numpy array\n",
    "x = fix_array(x)"
   ]
  },
  {
   "cell_type": "markdown",
   "execution_count": null,
   "metadata": {
    "papermill": {
     "duration": 0.008476,
     "end_time": "2020-08-26T12:05:26.389621",
     "exception": false,
     "start_time": "2020-08-26T12:05:26.381145",
     "status": "completed"
    },
    "tags": []
   },
   "source": [
    "# Build and train the model\n",
    "* 1D Convolution\n",
    "* LSTM layer\n",
    "* Dense network\n",
    "* Binary Cross Entropy loss with accuracy metric\n",
    "* Adam optimizer"
   ]
  },
  {
   "cell_type": "code",
   "execution_count": 10,
   "metadata": {
    "execution": {
     "iopub.execute_input": "2020-08-26T12:05:26.416040Z",
     "iopub.status.busy": "2020-08-26T12:05:26.415292Z",
     "iopub.status.idle": "2020-08-26T12:05:26.418661Z",
     "shell.execute_reply": "2020-08-26T12:05:26.418164Z"
    },
    "papermill": {
     "duration": 0.020478,
     "end_time": "2020-08-26T12:05:26.418753",
     "exception": false,
     "start_time": "2020-08-26T12:05:26.398275",
     "status": "completed"
    },
    "tags": []
   },
   "outputs": [],
   "source": [
    "def get_model(input_length, embed_input_dim, embed_dim):\n",
    "    K.clear_session()\n",
    "    X_input =  layers.Input(shape=(input_length,))\n",
    "    \n",
    "    # An embedding layer that returns `embed_dim` sized vectors for each word\n",
    "    X = layers.Embedding(input_dim=embed_input_dim, output_dim=embed_dim, input_length=input_length)(X_input)\n",
    "    \n",
    "    # 1D Conv layer to compute local features for each word\n",
    "    X = layers.Conv1D(filters=10, kernel_size=3)(X)\n",
    "    \n",
    "    # LSTM layers to build a context vector of the input sentence\n",
    "    X = layers.LSTM(X.shape[-1] // 2, return_sequences=True)(X)\n",
    "    X = layers.LSTM(X.shape[-1] // 2)(X)\n",
    "    \n",
    "    # output Dense layer used for classification\n",
    "    X = layers.Dense(1, activation='sigmoid')(X)\n",
    "    \n",
    "    # make the Model instance and return it\n",
    "    return models.Model(inputs=X_input, outputs=X)"
   ]
  },
  {
   "cell_type": "code",
   "execution_count": 11,
   "metadata": {
    "execution": {
     "iopub.execute_input": "2020-08-26T12:05:26.441691Z",
     "iopub.status.busy": "2020-08-26T12:05:26.441117Z",
     "iopub.status.idle": "2020-08-26T13:47:08.262290Z",
     "shell.execute_reply": "2020-08-26T13:47:08.263402Z"
    },
    "papermill": {
     "duration": 6101.836496,
     "end_time": "2020-08-26T13:47:08.263604",
     "exception": false,
     "start_time": "2020-08-26T12:05:26.427108",
     "status": "completed"
    },
    "tags": []
   },
   "outputs": [
    {
     "name": "stdout",
     "output_type": "stream",
     "text": [
      "Epoch 1/12\n",
      "5000/5000 [==============================] - 497s 99ms/step - loss: 0.6922 - accuracy: 0.5814 - val_loss: 0.6909 - val_accuracy: 0.6440\n",
      "Epoch 2/12\n",
      "5000/5000 [==============================] - 494s 99ms/step - loss: 0.6839 - accuracy: 0.6649 - val_loss: 0.6717 - val_accuracy: 0.6749\n",
      "Epoch 3/12\n",
      "5000/5000 [==============================] - 495s 99ms/step - loss: 0.6275 - accuracy: 0.7217 - val_loss: 0.5781 - val_accuracy: 0.7697\n",
      "Epoch 4/12\n",
      "5000/5000 [==============================] - 501s 100ms/step - loss: 0.5389 - accuracy: 0.8199 - val_loss: 0.5232 - val_accuracy: 0.8263\n",
      "Epoch 5/12\n",
      "5000/5000 [==============================] - 502s 100ms/step - loss: 0.4967 - accuracy: 0.8417 - val_loss: 0.4953 - val_accuracy: 0.8263\n",
      "Epoch 6/12\n",
      "5000/5000 [==============================] - 503s 101ms/step - loss: 0.4618 - accuracy: 0.8596 - val_loss: 0.4694 - val_accuracy: 0.8383\n",
      "Epoch 7/12\n",
      "5000/5000 [==============================] - 508s 102ms/step - loss: 0.4308 - accuracy: 0.8720 - val_loss: 0.4492 - val_accuracy: 0.8431\n",
      "Epoch 8/12\n",
      "5000/5000 [==============================] - 511s 102ms/step - loss: 0.4026 - accuracy: 0.8827 - val_loss: 0.4311 - val_accuracy: 0.8466\n",
      "Epoch 9/12\n",
      "5000/5000 [==============================] - 514s 103ms/step - loss: 0.3761 - accuracy: 0.8936 - val_loss: 0.4148 - val_accuracy: 0.8504\n",
      "Epoch 10/12\n",
      "5000/5000 [==============================] - 517s 103ms/step - loss: 0.3510 - accuracy: 0.9028 - val_loss: 0.4025 - val_accuracy: 0.8540\n",
      "Epoch 11/12\n",
      "5000/5000 [==============================] - 522s 104ms/step - loss: 0.3282 - accuracy: 0.9113 - val_loss: 0.3902 - val_accuracy: 0.8560\n",
      "Epoch 12/12\n",
      "5000/5000 [==============================] - 522s 104ms/step - loss: 0.3070 - accuracy: 0.9187 - val_loss: 0.3820 - val_accuracy: 0.8577\n"
     ]
    }
   ],
   "source": [
    "# make an instance of the model\n",
    "model = get_model(x.shape[-1], len(vocab), 25)\n",
    "\n",
    "# compile the model with Adam optimizer and Binary Cross Entropy loss with Accuracy metric\n",
    "model.compile(optimizer=optimizers.Adam(lr=1e-5), loss='binary_crossentropy', metrics=['accuracy'])\n",
    "\n",
    "# Train the model\n",
    "history = model.fit(x, y, epochs=12, batch_size=8, validation_split=0.2).history\n",
    "\n",
    "# Save the model in an h5 file\n",
    "model.save(\"imdb_analyse_sentiment.h5\")"
   ]
  },
  {
   "cell_type": "markdown",
   "execution_count": null,
   "metadata": {
    "papermill": {
     "duration": 3.663383,
     "end_time": "2020-08-26T13:47:15.917141",
     "exception": false,
     "start_time": "2020-08-26T13:47:12.253758",
     "status": "completed"
    },
    "tags": []
   },
   "source": [
    "# Plotting the results"
   ]
  },
  {
   "cell_type": "code",
   "execution_count": 12,
   "metadata": {
    "execution": {
     "iopub.execute_input": "2020-08-26T13:47:23.269224Z",
     "iopub.status.busy": "2020-08-26T13:47:23.268586Z",
     "iopub.status.idle": "2020-08-26T13:47:23.657284Z",
     "shell.execute_reply": "2020-08-26T13:47:23.657764Z"
    },
    "papermill": {
     "duration": 4.100328,
     "end_time": "2020-08-26T13:47:23.657914",
     "exception": false,
     "start_time": "2020-08-26T13:47:19.557586",
     "status": "completed"
    },
    "tags": []
   },
   "outputs": [
    {
     "data": {
      "image/png": "[encoded data removed]",
      "text/plain": [
       "<Figure size 864x288 with 2 Axes>"
      ]
     },
     "metadata": {
      "needs_background": "light"
     },
     "output_type": "display_data"
    }
   ],
   "source": [
    "nrows = 1\n",
    "ncols = 2\n",
    "fig_size = plt.rcParams['figure.figsize']\n",
    "\n",
    "fig, ax = plt.subplots(nrows, ncols, figsize=(fig_size[0] * ncols, fig_size[1] * nrows))\n",
    "\n",
    "_ = ax[0].plot(range(len(history['loss'])), history['loss'], label='Training')\n",
    "if 'val_loss' in history.keys():\n",
    "    _ = ax[0].plot(range(len(history['val_loss'])), history['val_loss'], label='Validation')\n",
    "    _ = ax[0].legend()\n",
    "_ = ax[0].set_title('Loss Curve')\n",
    "\n",
    "_ = ax[1].plot(range(len(history['accuracy'])), history['accuracy'], label='Training')\n",
    "if 'val_accuracy' in history.keys():\n",
    "    _ = ax[1].plot(range(len(history['val_accuracy'])), history['val_accuracy'], label='Validation')\n",
    "    _ = ax[1].legend()\n",
    "_ = ax[1].set_title('Accuracy Curve')"
   ]
  },
  {
   "cell_type": "markdown",
   "execution_count": null,
   "metadata": {
    "papermill": {
     "duration": 3.494046,
     "end_time": "2020-08-26T13:47:30.864552",
     "exception": false,
     "start_time": "2020-08-26T13:47:27.370506",
     "status": "completed"
    },
    "tags": []
   },
   "source": [
    "### Testing the model with randomly sampled examples from the dataset"
   ]
  },
  {
   "cell_type": "code",
   "execution_count": 13,
   "metadata": {
    "execution": {
     "iopub.execute_input": "2020-08-26T13:47:38.187414Z",
     "iopub.status.busy": "2020-08-26T13:47:38.186572Z",
     "iopub.status.idle": "2020-08-26T13:47:45.778030Z",
     "shell.execute_reply": "2020-08-26T13:47:45.778775Z"
    },
    "papermill": {
     "duration": 11.158764,
     "end_time": "2020-08-26T13:47:45.778979",
     "exception": false,
     "start_time": "2020-08-26T13:47:34.620215",
     "status": "completed"
    },
    "tags": []
   },
   "outputs": [
    {
     "name": "stdout",
     "output_type": "stream",
     "text": [
      "Review:\n",
      "When Carol (Vanessa Hidalgo) starts looking into her brother's death, she begins to suspect something more sinister than \"natural causes\". The closer she gets to the truth, the more of a threat she becomes to her sister-in-law, Fiona (Helga Line), and the rest of the local Satanists. They'll do whatever is necessary to put a stop her nosy ways.<br /><br />If you're into sleazy, Satanic-themed movies, Black Candles has a lot to offer. The movie is filled with plenty of nudity and ritualistic soft-core sex. One scene in particular involving a young woman and a goat must be seen to be believed. Unfortunately, all the sleaze in the world can't save Black Candles. Most of the movie is a total bore. Other than the one scene I've already mentioned, the numerous sex scenes aren't shocking and certainly aren't sexy. The acting is spotty at best. Even genre favorite Helga Line gives a disappointing performance. The plot really doesn't matter. Its main function seems to be to hold the string of dull sex scenes together. I'm only familiar with one other movie directed by Jose Ramon Larraz. Compared with his Daughters of Darkness that masterfully mixes eroticism and horror, Black Candles comes off as amateurish. 3/10 is about the best I can do.\n",
      "\n",
      "Ground Truth: negative\n",
      "Predicted negative with 79.21% confidence\n",
      "\n",
      "============================================================================================================================================\n",
      "\n",
      "Review:\n",
      "This is an excellent movie and I wish that they would put it out on DVD for people to purchase. It is difficult to try to catch it on TV all the time. As you do not know when one of the stations will decide to air it. Can someone tell me what file company make it so I can write to them and see if they will release it to the public? I only caught the last hour and a half yesterday and I only got to see it once last year. My sisters and I are all looking for it in every store that sells any videos. John Denver is an excellent singer and actor and the plot line is great. They put out some much older movies and I think that is great but there are quite a few that they have not put out and I think if we could contact the producers and voice our requests we might get some of them put out on DVD.\n",
      "\n",
      "Ground Truth: negative\n",
      "Predicted positive with 87.34% confidence\n",
      "\n",
      "============================================================================================================================================\n",
      "\n",
      "Review:\n",
      "After putting a mummy in a local museum goes through the cat-scan, a metal object in it's brain reacts adversely to the procedure, thus freeing the spirit,or phantom if you will, of the mummy, Belphegor. Due to convenient circumstances, Lisa, who lives close to the museum finds herself possessed by the evil spirit. Soon enough she's stealing the museum's Egyptian treasures out from under their nose. Detective Verlac comes out of retirement to catch the supernatural thief.<br /><br />This is a serviceable enough, if you haven't seen any other incarnations of \"Belphégor\" before. If you have, I recommend skipping this particular version as it can't help but pale in comparison to the others despite the nice locals and scenery.It plays out like a (slightly) higher budgeted Sci-Fi Original film, and I don't really mean that as a compliment.<br /><br />Eye Candy: Sophie Marceau shows ass & side boob <br /><br />My Grade: C- <br /><br />DVD Extras: none\n",
      "\n",
      "Ground Truth: positive\n",
      "Predicted positive with 87.04% confidence\n",
      "\n",
      "============================================================================================================================================\n",
      "\n"
     ]
    }
   ],
   "source": [
    "import random\n",
    "\n",
    "NUM_EXAMPLES = int(0.1 * df.shape[0])\n",
    "sampled_indices = random.sample(range(df.shape[0]), NUM_EXAMPLES)\n",
    "\n",
    "# I have already preprocessed the text and converted them into sequences of integers and put them in a column called `review_indexed`.\n",
    "# So, I'll take the examples from there.\n",
    "\n",
    "# sampling the test examples and the ground truths\n",
    "sampled_examples = fix_array(df.loc[sampled_indices, \"review_indexed\"].values)\n",
    "y_true = df.loc[sampled_indices, \"sentiment\"].values\n",
    "\n",
    "# Feeding the test examples to the models\n",
    "y_pred = np.squeeze(model.predict(sampled_examples))\n",
    "\n",
    "\n",
    "showing_indices = random.sample(range(NUM_EXAMPLES), 3)\n",
    "for index in showing_indices:\n",
    "    print(f\"Review:\\n{df.loc[index, 'review']}\\n\")\n",
    "    print(f\"Ground Truth: {'positive' if y_true[index] else 'negative'}\")\n",
    "    print(f\"Predicted {'positive' if y_pred[index] >= 0.5 else 'negative'} with {(y_pred[index] if y_pred[index] >= 0.5 else 1 - y_pred[index]) * 100:.2f}% confidence\\n\")\n",
    "    print(\"=\" * 140)\n",
    "    print()\n",
    "\n",
    "y_pred = (y_pred >= 0.5).astype(int)"
   ]
  },
  {
   "cell_type": "markdown",
   "execution_count": null,
   "metadata": {
    "papermill": {
     "duration": 3.511008,
     "end_time": "2020-08-26T13:47:52.773331",
     "exception": false,
     "start_time": "2020-08-26T13:47:49.262323",
     "status": "completed"
    },
    "tags": []
   },
   "source": [
    "### Evaluating the performance of the model"
   ]
  },
  {
   "cell_type": "code",
   "execution_count": 14,
   "metadata": {
    "execution": {
     "iopub.execute_input": "2020-08-26T13:48:00.218522Z",
     "iopub.status.busy": "2020-08-26T13:48:00.217734Z",
     "iopub.status.idle": "2020-08-26T13:48:00.615415Z",
     "shell.execute_reply": "2020-08-26T13:48:00.614573Z"
    },
    "papermill": {
     "duration": 4.105634,
     "end_time": "2020-08-26T13:48:00.615563",
     "exception": false,
     "start_time": "2020-08-26T13:47:56.509929",
     "status": "completed"
    },
    "tags": []
   },
   "outputs": [
    {
     "name": "stdout",
     "output_type": "stream",
     "text": [
      "Accuracy: 90.40%\n",
      "Precision: 0.92\n",
      "Recall: 0.89\n",
      "F1 Score: 0.90\n"
     ]
    },
    {
     "data": {
      "image/png": "[encoded data removed]",
      "text/plain": [
       "<Figure size 648x432 with 2 Axes>"
      ]
     },
     "metadata": {
      "needs_background": "light"
     },
     "output_type": "display_data"
    }
   ],
   "source": [
    "import seaborn as sns\n",
    "from sklearn import metrics\n",
    "\n",
    "accuracy = sum(y_true == y_pred) / NUM_EXAMPLES\n",
    "conf_matrix = metrics.confusion_matrix(y_true, y_pred)\n",
    "precision = metrics.precision_score(y_true, y_pred)\n",
    "recall = metrics.recall_score(y_true, y_pred)\n",
    "f1_score = metrics.f1_score(y_true, y_pred)\n",
    "print(f\"Accuracy: {accuracy * 100:.2f}%\")\n",
    "print(f\"Precision: {precision:.2f}\")\n",
    "print(f\"Recall: {recall:.2f}\")\n",
    "print(f\"F1 Score: {f1_score:.2f}\")\n",
    "\n",
    "_ = plt.figure(figsize=(fig_size[0] * 1.5, fig_size[1] * 1.5))\n",
    "ax = sns.heatmap(conf_matrix, annot=True, fmt='d')\n",
    "_ = ax.set_xticklabels([\"negative\", \"positive\"], fontsize=13)\n",
    "_ = ax.set_yticklabels([\"negative\", \"positive\"], fontsize=13)\n",
    "_ = ax.set_xlabel(\"Predicted Labels\", fontsize=15)\n",
    "_ = ax.set_ylabel(\"Actual Labels\", fontsize=15)"
   ]
  }
 ],
 "metadata": {
  "kernelspec": {
   "display_name": "Python 3",
   "language": "python",
   "name": "python3"
  },
  "language_info": {
   "codemirror_mode": {
    "name": "ipython",
    "version": 3
   },
   "file_extension": ".py",
   "mimetype": "text/x-python",
   "name": "python",
   "nbconvert_exporter": "python",
   "pygments_lexer": "ipython3",
   "version": "3.7.6"
  },
  "papermill": {
   "duration": 6236.542397,
   "end_time": "2020-08-26T13:48:06.375403",
   "environment_variables": {},
   "exception": null,
   "input_path": "__notebook__.ipynb",
   "output_path": "__notebook__.ipynb",
   "parameters": {},
   "start_time": "2020-08-26T12:04:09.833006",
   "version": "2.1.0"
  }
 },
 "nbformat": 4,
 "nbformat_minor": 4
}
