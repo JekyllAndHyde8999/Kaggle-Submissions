{
 "cells": [
  {
   "cell_type": "code",
   "execution_count": 1,
   "metadata": {
    "_cell_guid": "b1076dfc-b9ad-4769-8c92-a6c4dae69d19",
    "_uuid": "8f2839f25d086af736a60e9eeb907d3b93b6e0e5",
    "execution": {
     "iopub.execute_input": "2022-03-23T17:43:17.983596Z",
     "iopub.status.busy": "2022-03-23T17:43:17.982867Z",
     "iopub.status.idle": "2022-03-23T17:43:17.999762Z",
     "shell.execute_reply": "2022-03-23T17:43:18.000913Z",
     "shell.execute_reply.started": "2022-03-23T17:24:20.324341Z"
    },
    "papermill": {
     "duration": 0.050034,
     "end_time": "2022-03-23T17:43:18.001160",
     "exception": false,
     "start_time": "2022-03-23T17:43:17.951126",
     "status": "completed"
    },
    "tags": []
   },
   "outputs": [
    {
     "name": "stdout",
     "output_type": "stream",
     "text": [
      "/kaggle/input/names/names/female.txt\n",
      "/kaggle/input/names/names/README\n",
      "/kaggle/input/names/names/male.txt\n"
     ]
    }
   ],
   "source": [
    "# This Python 3 environment comes with many helpful analytics libraries installed\n",
    "# It is defined by the kaggle/python Docker image: https://github.com/kaggle/docker-python\n",
    "# For example, here's several helpful packages to load\n",
    "\n",
    "import numpy as np # linear algebra\n",
    "import pandas as pd # data processing, CSV file I/O (e.g. pd.read_csv)\n",
    "\n",
    "# Input data files are available in the read-only \"../input/\" directory\n",
    "# For example, running this (by clicking run or pressing Shift+Enter) will list all files under the input directory\n",
    "\n",
    "import os\n",
    "for dirname, _, filenames in os.walk('/kaggle/input'):\n",
    "    for filename in filenames:\n",
    "        print(os.path.join(dirname, filename))\n",
    "\n",
    "# You can write up to 5GB to the current directory (/kaggle/working/) that gets preserved as output when you create a version using \"Save & Run All\" \n",
    "# You can also write temporary files to /kaggle/temp/, but they won't be saved outside of the current session"
   ]
  },
  {
   "cell_type": "code",
   "execution_count": 2,
   "metadata": {
    "execution": {
     "iopub.execute_input": "2022-03-23T17:43:18.062086Z",
     "iopub.status.busy": "2022-03-23T17:43:18.061183Z",
     "iopub.status.idle": "2022-03-23T17:43:20.198406Z",
     "shell.execute_reply": "2022-03-23T17:43:20.197225Z",
     "shell.execute_reply.started": "2022-03-23T17:24:20.354843Z"
    },
    "papermill": {
     "duration": 2.173264,
     "end_time": "2022-03-23T17:43:20.198669",
     "exception": false,
     "start_time": "2022-03-23T17:43:18.025405",
     "status": "completed"
    },
    "tags": []
   },
   "outputs": [
    {
     "name": "stdout",
     "output_type": "stream",
     "text": [
      "Torch using Tesla P100-PCIE-16GB\n"
     ]
    }
   ],
   "source": [
    "import torch\n",
    "import warnings\n",
    "import seaborn as sns\n",
    "import matplotlib.pyplot as plt\n",
    "\n",
    "from torch import nn, optim, cuda\n",
    "from torch.nn import functional as F\n",
    "from torch.utils import data as torch_data\n",
    "from sklearn import metrics\n",
    "from sklearn.model_selection import train_test_split\n",
    "\n",
    "from tqdm import tqdm\n",
    "\n",
    "fig_size = plt.rcParams['figure.figsize']\n",
    "device = 'cuda' if cuda.is_available() else 'cpu'\n",
    "if device == 'cuda':\n",
    "    print(f\"Torch using {cuda.get_device_name()}\")\n",
    "else:\n",
    "    print(f\"Torch using {device}\")\n",
    "\n",
    "warnings.filterwarnings('ignore')\n",
    "torch.manual_seed(0)\n",
    "np.random.seed(0)\n",
    "\n",
    "%matplotlib inline"
   ]
  },
  {
   "cell_type": "code",
   "execution_count": 3,
   "metadata": {
    "execution": {
     "iopub.execute_input": "2022-03-23T17:43:20.266560Z",
     "iopub.status.busy": "2022-03-23T17:43:20.252597Z",
     "iopub.status.idle": "2022-03-23T17:43:21.038427Z",
     "shell.execute_reply": "2022-03-23T17:43:21.037575Z",
     "shell.execute_reply.started": "2022-03-23T17:24:22.230308Z"
    },
    "papermill": {
     "duration": 0.815487,
     "end_time": "2022-03-23T17:43:21.038567",
     "exception": false,
     "start_time": "2022-03-23T17:43:20.223080",
     "status": "completed"
    },
    "tags": []
   },
   "outputs": [
    {
     "name": "stdout",
     "output_type": "stream",
     "text": [
      "nvcc: NVIDIA (R) Cuda compiler driver\r\n",
      "Copyright (c) 2005-2019 NVIDIA Corporation\r\n",
      "Built on Sun_Jul_28_19:07:16_PDT_2019\r\n",
      "Cuda compilation tools, release 10.1, V10.1.243\r\n"
     ]
    }
   ],
   "source": [
    "! nvcc --version"
   ]
  },
  {
   "cell_type": "code",
   "execution_count": 4,
   "metadata": {
    "execution": {
     "iopub.execute_input": "2022-03-23T17:43:21.097449Z",
     "iopub.status.busy": "2022-03-23T17:43:21.093019Z",
     "iopub.status.idle": "2022-03-23T17:43:21.889090Z",
     "shell.execute_reply": "2022-03-23T17:43:21.888163Z",
     "shell.execute_reply.started": "2022-03-23T17:24:22.905973Z"
    },
    "papermill": {
     "duration": 0.825882,
     "end_time": "2022-03-23T17:43:21.889282",
     "exception": false,
     "start_time": "2022-03-23T17:43:21.063400",
     "status": "completed"
    },
    "tags": []
   },
   "outputs": [],
   "source": [
    "! export CUDA_LAUNCH_BLOCKING=1"
   ]
  },
  {
   "cell_type": "code",
   "execution_count": 5,
   "metadata": {
    "_cell_guid": "79c7e3d0-c299-4dcb-8224-4455121ee9b0",
    "_uuid": "d629ff2d2480ee46fbb7e2d37f6b5fab8052498a",
    "execution": {
     "iopub.execute_input": "2022-03-23T17:43:21.941819Z",
     "iopub.status.busy": "2022-03-23T17:43:21.941125Z",
     "iopub.status.idle": "2022-03-23T17:43:21.945833Z",
     "shell.execute_reply": "2022-03-23T17:43:21.945002Z",
     "shell.execute_reply.started": "2022-03-23T17:24:23.561947Z"
    },
    "papermill": {
     "duration": 0.03287,
     "end_time": "2022-03-23T17:43:21.945946",
     "exception": false,
     "start_time": "2022-03-23T17:43:21.913076",
     "status": "completed"
    },
    "tags": []
   },
   "outputs": [],
   "source": [
    "MALE_FILE = \"/kaggle/input/names/names/male.txt\"\n",
    "FEMALE_FILE = \"/kaggle/input/names/names/female.txt\""
   ]
  },
  {
   "cell_type": "markdown",
   "metadata": {
    "papermill": {
     "duration": 0.023342,
     "end_time": "2022-03-23T17:43:21.992488",
     "exception": false,
     "start_time": "2022-03-23T17:43:21.969146",
     "status": "completed"
    },
    "tags": []
   },
   "source": [
    "## Creating a dataframe from the text files"
   ]
  },
  {
   "cell_type": "code",
   "execution_count": 6,
   "metadata": {
    "execution": {
     "iopub.execute_input": "2022-03-23T17:43:22.184094Z",
     "iopub.status.busy": "2022-03-23T17:43:22.183336Z",
     "iopub.status.idle": "2022-03-23T17:43:28.774696Z",
     "shell.execute_reply": "2022-03-23T17:43:28.773454Z",
     "shell.execute_reply.started": "2022-03-23T17:24:23.571266Z"
    },
    "papermill": {
     "duration": 6.759306,
     "end_time": "2022-03-23T17:43:28.774834",
     "exception": false,
     "start_time": "2022-03-23T17:43:22.015528",
     "status": "completed"
    },
    "tags": []
   },
   "outputs": [],
   "source": [
    "names_df = pd.DataFrame(columns=[\"name\", \"gender\"])\n",
    "\n",
    "with open(MALE_FILE, mode='r') as f:\n",
    "    for line in f:\n",
    "        name = line[:-1] if line.endswith('\\n') else line        \n",
    "        names_df.loc[names_df.shape[0], :] = (name, \"male\")\n",
    "\n",
    "with open(FEMALE_FILE, mode='r') as f:\n",
    "    for line in f:\n",
    "        name = line[:-1] if line.endswith('\\n') else line        \n",
    "        names_df.loc[names_df.shape[0], :] = (name, \"female\")\n",
    "\n",
    "names_df.name = names_df.name.str.lower()\n",
    "puncts = \"' -\"\n",
    "table = str.maketrans(dict.fromkeys(puncts))\n",
    "names_df.name = names_df.name.str.translate(table)"
   ]
  },
  {
   "cell_type": "code",
   "execution_count": 7,
   "metadata": {
    "execution": {
     "iopub.execute_input": "2022-03-23T17:43:28.838794Z",
     "iopub.status.busy": "2022-03-23T17:43:28.837722Z",
     "iopub.status.idle": "2022-03-23T17:43:28.999628Z",
     "shell.execute_reply": "2022-03-23T17:43:29.000295Z",
     "shell.execute_reply.started": "2022-03-23T17:24:28.603789Z"
    },
    "papermill": {
     "duration": 0.201347,
     "end_time": "2022-03-23T17:43:29.000466",
     "exception": false,
     "start_time": "2022-03-23T17:43:28.799119",
     "status": "completed"
    },
    "tags": []
   },
   "outputs": [
    {
     "name": "stdout",
     "output_type": "stream",
     "text": [
      "female    5001\n",
      "male      2943\n",
      "Name: gender, dtype: int64\n"
     ]
    },
    {
     "data": {
      "image/png": "[encoded data removed]",
      "text/plain": [
       "<Figure size 432x288 with 1 Axes>"
      ]
     },
     "metadata": {
      "needs_background": "light"
     },
     "output_type": "display_data"
    }
   ],
   "source": [
    "female_count = names_df.gender.value_counts().female\n",
    "male_count = names_df.gender.value_counts().male\n",
    "\n",
    "# print(f\"Female Count: {female_count}\\nMale Count: {male_count}\")\n",
    "print(names_df.gender.value_counts())\n",
    "_ = sns.countplot(x='gender', data=names_df)"
   ]
  },
  {
   "cell_type": "markdown",
   "metadata": {
    "papermill": {
     "duration": 0.024238,
     "end_time": "2022-03-23T17:43:29.049638",
     "exception": false,
     "start_time": "2022-03-23T17:43:29.025400",
     "status": "completed"
    },
    "tags": []
   },
   "source": [
    "We see that the number of male names and female names are imbalanced. To keep the classes balanced, I will randomly select names from each class to balance the class distribution."
   ]
  },
  {
   "cell_type": "code",
   "execution_count": 8,
   "metadata": {
    "execution": {
     "iopub.execute_input": "2022-03-23T17:43:29.107973Z",
     "iopub.status.busy": "2022-03-23T17:43:29.107031Z",
     "iopub.status.idle": "2022-03-23T17:43:29.254205Z",
     "shell.execute_reply": "2022-03-23T17:43:29.252940Z",
     "shell.execute_reply.started": "2022-03-23T17:24:28.745988Z"
    },
    "papermill": {
     "duration": 0.180342,
     "end_time": "2022-03-23T17:43:29.254404",
     "exception": false,
     "start_time": "2022-03-23T17:43:29.074062",
     "status": "completed"
    },
    "tags": []
   },
   "outputs": [
    {
     "name": "stdout",
     "output_type": "stream",
     "text": [
      "female    0.629532\n",
      "male      0.370468\n",
      "Name: gender, dtype: float64\n"
     ]
    },
    {
     "data": {
      "image/png": "[encoded data removed]",
      "text/plain": [
       "<Figure size 432x288 with 1 Axes>"
      ]
     },
     "metadata": {
      "needs_background": "light"
     },
     "output_type": "display_data"
    }
   ],
   "source": [
    "min_count = min(female_count, male_count)\n",
    "male_df = names_df.loc[names_df.gender == 'male'].sample(n=min_count)\n",
    "female_df = names_df.loc[names_df.gender == 'female'].sample(n=min_count)\n",
    "\n",
    "# names_balanced = pd.concat([male_df, female_df]).sample(frac=1).reset_index().drop([\"index\"], axis=1)\n",
    "names_balanced = names_df.copy()\n",
    "print(names_balanced.gender.value_counts(normalize=True))\n",
    "_ = sns.countplot(x='gender', data=names_balanced)"
   ]
  },
  {
   "cell_type": "markdown",
   "metadata": {
    "papermill": {
     "duration": 0.025772,
     "end_time": "2022-03-23T17:43:29.306628",
     "exception": false,
     "start_time": "2022-03-23T17:43:29.280856",
     "status": "completed"
    },
    "tags": []
   },
   "source": [
    "## Utilities"
   ]
  },
  {
   "cell_type": "code",
   "execution_count": 9,
   "metadata": {
    "execution": {
     "iopub.execute_input": "2022-03-23T17:43:29.381028Z",
     "iopub.status.busy": "2022-03-23T17:43:29.380038Z",
     "iopub.status.idle": "2022-03-23T17:43:29.383847Z",
     "shell.execute_reply": "2022-03-23T17:43:29.383174Z",
     "shell.execute_reply.started": "2022-03-23T17:24:28.869329Z"
    },
    "papermill": {
     "duration": 0.051479,
     "end_time": "2022-03-23T17:43:29.383960",
     "exception": false,
     "start_time": "2022-03-23T17:43:29.332481",
     "status": "completed"
    },
    "tags": []
   },
   "outputs": [],
   "source": [
    "class_dict = {\n",
    "    'female': 0,\n",
    "    'male': 1\n",
    "}\n",
    "\n",
    "rev_class_dict = {val: key for key, val in class_dict.items()}\n",
    "\n",
    "\n",
    "class History:\n",
    "    def __init__(self, losses, accs, val_losses=None, val_accs=None):\n",
    "        self.loss = losses\n",
    "        self.accuracy = accs\n",
    "        self.val_loss = val_losses\n",
    "        self.val_accuracy = val_accs\n",
    "    \n",
    "    def __getitem__(self, val):\n",
    "        return getattr(self, val)\n",
    "\n",
    "\n",
    "def get_vocab(names):\n",
    "    vocab = set()\n",
    "    maxlen = 0\n",
    "    for name in names:\n",
    "        vocab.update(name)\n",
    "        maxlen = max(maxlen, len(name))\n",
    "    \n",
    "    vocab.add('<PAD>')\n",
    "    return sorted(vocab), maxlen\n",
    "\n",
    "\n",
    "def pad_and_index(mapping, max_len):\n",
    "    def inner(x):\n",
    "        pad_length = max_len - len(x)\n",
    "        new_name = [mapping['<PAD>']] * pad_length\n",
    "#         new_name = []\n",
    "        \n",
    "        for char in x:\n",
    "            new_name.append(mapping[char])\n",
    "        \n",
    "        return new_name\n",
    "    return inner\n",
    "\n",
    "\n",
    "def preprocess(df, mapping, max_len, test_size=0.2):\n",
    "    df = df.copy().sample(frac=1)\n",
    "    df[\"name_indexed\"] = df.name.apply(pad_and_index(mapping, max_len))\n",
    "    df[\"gender_labelled\"] = df.gender.apply(lambda x: 0 if x == 'female' else 1)\n",
    "    \n",
    "    if not (0 <= test_size <= 1):\n",
    "        raise ValueError(f\"test_size must be float between 0 and 1. Got {test_size}\")\n",
    "    \n",
    "    # split into train and test\n",
    "    X = df.name_indexed.values\n",
    "    y = df.gender_labelled.values\n",
    "    X_train, X_test, y_train, y_test = train_test_split(X, y, stratify=y, test_size=test_size)\n",
    "    \n",
    "    # calculate class weights\n",
    "    class_weights = [(y_train == 0).sum(), (y_train == 1).sum()]\n",
    "    class_weights = [sum(class_weights) / weight for weight in class_weights]\n",
    "    \n",
    "    train_df = pd.DataFrame({\n",
    "        'name_indexed': X_train,\n",
    "        'gender_labelled': y_train\n",
    "    })\n",
    "    \n",
    "    test_df = pd.DataFrame({\n",
    "        'name_indexed': X_test,\n",
    "        'gender_labelled': y_test\n",
    "    })\n",
    "    \n",
    "    return train_df, test_df, class_weights\n",
    "\n",
    "\n",
    "def fix_array(arr):\n",
    "    x_ = []\n",
    "    for row in arr:\n",
    "        x_.append(row)\n",
    "\n",
    "    return np.array(x_)"
   ]
  },
  {
   "cell_type": "code",
   "execution_count": 10,
   "metadata": {
    "execution": {
     "iopub.execute_input": "2022-03-23T17:43:29.459153Z",
     "iopub.status.busy": "2022-03-23T17:43:29.451448Z",
     "iopub.status.idle": "2022-03-23T17:43:29.462642Z",
     "shell.execute_reply": "2022-03-23T17:43:29.461944Z",
     "shell.execute_reply.started": "2022-03-23T17:24:28.890694Z"
    },
    "papermill": {
     "duration": 0.053179,
     "end_time": "2022-03-23T17:43:29.462775",
     "exception": false,
     "start_time": "2022-03-23T17:43:29.409596",
     "status": "completed"
    },
    "tags": []
   },
   "outputs": [],
   "source": [
    "def train_epoch(model, optimizer, loss_func, loader, return_attention):\n",
    "    model.train()\n",
    "    epoch_loss = 0\n",
    "    epoch_acc = 0\n",
    "    total = 0\n",
    "    \n",
    "    for i, (features, labels) in enumerate(loader):\n",
    "        total += labels.size(0)\n",
    "        \n",
    "        features = features.to(device)\n",
    "        labels = labels.to(device)\n",
    "        \n",
    "        optimizer.zero_grad()\n",
    "        \n",
    "        if return_attention:\n",
    "            output, _ = model(features)\n",
    "        else:\n",
    "            output = model(features)\n",
    "\n",
    "        loss = loss_func(output, labels)\n",
    "\n",
    "        _, predicted = torch.max(output, axis=-1)\n",
    "        \n",
    "        epoch_acc += (predicted == labels).sum().item()\n",
    "        epoch_loss += loss.item()\n",
    "        \n",
    "        loss.backward()\n",
    "        optimizer.step()\n",
    "\n",
    "    return epoch_loss / total, epoch_acc / total\n",
    "\n",
    "\n",
    "def eval_epoch(model, loss_func, loader, return_attention):\n",
    "    model.eval()\n",
    "    epoch_loss = 0\n",
    "    epoch_acc = 0\n",
    "    total = 0\n",
    "    \n",
    "    with torch.no_grad():\n",
    "        for i, (features, labels) in enumerate(loader):\n",
    "            total += labels.size(0)\n",
    "\n",
    "            features = features.to(device)\n",
    "            labels = labels.to(device)\n",
    "\n",
    "            if return_attention:\n",
    "                output, _ = model(features)\n",
    "            else:\n",
    "                output = model(features)\n",
    "            loss = loss_func(output, labels)\n",
    "\n",
    "            _, predicted = torch.max(output, axis=-1)\n",
    "\n",
    "            epoch_acc += (predicted == labels).sum().item()\n",
    "            epoch_loss += loss.item()\n",
    "    \n",
    "    return epoch_loss / total, epoch_acc / total\n",
    "\n",
    "\n",
    "def train(model, optimizer, loss, train_loader, val_loader=None, epochs=1, return_attention=False):\n",
    "    losses = []\n",
    "    accs = []\n",
    "    val_losses = [] if val_loader else None\n",
    "    val_accs = [] if val_loader else None\n",
    "    \n",
    "    for epoch in range(1, epochs + 1):\n",
    "        l, a = train_epoch(model, optimizer, loss, train_loader, return_attention)\n",
    "        losses.append(l)\n",
    "        accs.append(a)\n",
    "        \n",
    "        if val_loader:\n",
    "            val_l, val_a = eval_epoch(model, loss, val_loader, return_attention)\n",
    "            val_losses.append(val_l)\n",
    "            val_accs.append(val_a)\n",
    "\n",
    "        print(f\"Epoch: {epoch}\")\n",
    "        print(f\"\\tLoss: {l:.3f}\")\n",
    "        if val_loader:\n",
    "            print(f\"\\tVal Loss: {val_l:.3f}\")\n",
    "        print(f\"\\tAccuracy: {a * 100:.2f}%\")\n",
    "        if val_loader:\n",
    "            print(f\"\\tVal Accuracy: {val_a * 100:.2f}%\")\n",
    "\n",
    "    return History(losses, accs, val_losses=val_losses, val_accs=val_accs)"
   ]
  },
  {
   "cell_type": "markdown",
   "metadata": {
    "papermill": {
     "duration": 0.025471,
     "end_time": "2022-03-23T17:43:29.514235",
     "exception": false,
     "start_time": "2022-03-23T17:43:29.488764",
     "status": "completed"
    },
    "tags": []
   },
   "source": [
    "## Build vocabulary and char-int mappings"
   ]
  },
  {
   "cell_type": "code",
   "execution_count": 11,
   "metadata": {
    "execution": {
     "iopub.execute_input": "2022-03-23T17:43:29.580186Z",
     "iopub.status.busy": "2022-03-23T17:43:29.579328Z",
     "iopub.status.idle": "2022-03-23T17:43:29.585611Z",
     "shell.execute_reply": "2022-03-23T17:43:29.584832Z",
     "shell.execute_reply.started": "2022-03-23T17:24:28.915727Z"
    },
    "papermill": {
     "duration": 0.045066,
     "end_time": "2022-03-23T17:43:29.585806",
     "exception": false,
     "start_time": "2022-03-23T17:43:29.540740",
     "status": "completed"
    },
    "tags": []
   },
   "outputs": [
    {
     "name": "stdout",
     "output_type": "stream",
     "text": [
      "252\n"
     ]
    }
   ],
   "source": [
    "vocab, maxlen = get_vocab(names_balanced.name)\n",
    "\n",
    "# integer to string\n",
    "char_itos = dict(enumerate(vocab))\n",
    "\n",
    "# string to integer\n",
    "char_stoi = {val: key for key, val in char_itos.items()}\n",
    "\n",
    "hidden_nodes = int(2 / 3 * (maxlen * len(char_itos.keys())))\n",
    "print(hidden_nodes)"
   ]
  },
  {
   "cell_type": "code",
   "execution_count": 12,
   "metadata": {
    "execution": {
     "iopub.execute_input": "2022-03-23T17:43:29.644706Z",
     "iopub.status.busy": "2022-03-23T17:43:29.643866Z",
     "iopub.status.idle": "2022-03-23T17:43:29.650244Z",
     "shell.execute_reply": "2022-03-23T17:43:29.649610Z",
     "shell.execute_reply.started": "2022-03-23T17:24:28.935991Z"
    },
    "papermill": {
     "duration": 0.038158,
     "end_time": "2022-03-23T17:43:29.650397",
     "exception": false,
     "start_time": "2022-03-23T17:43:29.612239",
     "status": "completed"
    },
    "tags": []
   },
   "outputs": [
    {
     "data": {
      "text/plain": [
       "{'<PAD>': 0,\n",
       " 'a': 1,\n",
       " 'b': 2,\n",
       " 'c': 3,\n",
       " 'd': 4,\n",
       " 'e': 5,\n",
       " 'f': 6,\n",
       " 'g': 7,\n",
       " 'h': 8,\n",
       " 'i': 9,\n",
       " 'j': 10,\n",
       " 'k': 11,\n",
       " 'l': 12,\n",
       " 'm': 13,\n",
       " 'n': 14,\n",
       " 'o': 15,\n",
       " 'p': 16,\n",
       " 'q': 17,\n",
       " 'r': 18,\n",
       " 's': 19,\n",
       " 't': 20,\n",
       " 'u': 21,\n",
       " 'v': 22,\n",
       " 'w': 23,\n",
       " 'x': 24,\n",
       " 'y': 25,\n",
       " 'z': 26}"
      ]
     },
     "execution_count": 12,
     "metadata": {},
     "output_type": "execute_result"
    }
   ],
   "source": [
    "char_stoi"
   ]
  },
  {
   "cell_type": "markdown",
   "metadata": {
    "papermill": {
     "duration": 0.026545,
     "end_time": "2022-03-23T17:43:29.704042",
     "exception": false,
     "start_time": "2022-03-23T17:43:29.677497",
     "status": "completed"
    },
    "tags": []
   },
   "source": [
    "## Preprocess the dataframe"
   ]
  },
  {
   "cell_type": "code",
   "execution_count": 13,
   "metadata": {
    "execution": {
     "iopub.execute_input": "2022-03-23T17:43:29.764399Z",
     "iopub.status.busy": "2022-03-23T17:43:29.763248Z",
     "iopub.status.idle": "2022-03-23T17:43:29.803954Z",
     "shell.execute_reply": "2022-03-23T17:43:29.803441Z",
     "shell.execute_reply.started": "2022-03-23T17:24:28.946194Z"
    },
    "papermill": {
     "duration": 0.072861,
     "end_time": "2022-03-23T17:43:29.804089",
     "exception": false,
     "start_time": "2022-03-23T17:43:29.731228",
     "status": "completed"
    },
    "tags": []
   },
   "outputs": [
    {
     "name": "stdout",
     "output_type": "stream",
     "text": [
      "0    3751\n",
      "1    2207\n",
      "Name: gender_labelled, dtype: int64\n",
      "0    1250\n",
      "1     736\n",
      "Name: gender_labelled, dtype: int64\n"
     ]
    }
   ],
   "source": [
    "train_df, test_df, class_weights = preprocess(names_df, char_stoi, maxlen, test_size=0.25)\n",
    "print(train_df.gender_labelled.value_counts())\n",
    "print(test_df.gender_labelled.value_counts())"
   ]
  },
  {
   "cell_type": "code",
   "execution_count": 14,
   "metadata": {
    "execution": {
     "iopub.execute_input": "2022-03-23T17:43:29.870558Z",
     "iopub.status.busy": "2022-03-23T17:43:29.869480Z",
     "iopub.status.idle": "2022-03-23T17:43:29.882291Z",
     "shell.execute_reply": "2022-03-23T17:43:29.881642Z",
     "shell.execute_reply.started": "2022-03-23T17:24:28.986787Z"
    },
    "papermill": {
     "duration": 0.051091,
     "end_time": "2022-03-23T17:43:29.882467",
     "exception": false,
     "start_time": "2022-03-23T17:43:29.831376",
     "status": "completed"
    },
    "tags": []
   },
   "outputs": [
    {
     "data": {
      "text/html": [
       "<div>\n",
       "<style scoped>\n",
       "    .dataframe tbody tr th:only-of-type {\n",
       "        vertical-align: middle;\n",
       "    }\n",
       "\n",
       "    .dataframe tbody tr th {\n",
       "        vertical-align: top;\n",
       "    }\n",
       "\n",
       "    .dataframe thead th {\n",
       "        text-align: right;\n",
       "    }\n",
       "</style>\n",
       "<table border=\"1\" class=\"dataframe\">\n",
       "  <thead>\n",
       "    <tr style=\"text-align: right;\">\n",
       "      <th></th>\n",
       "      <th>name_indexed</th>\n",
       "      <th>gender_labelled</th>\n",
       "    </tr>\n",
       "  </thead>\n",
       "  <tbody>\n",
       "    <tr>\n",
       "      <th>0</th>\n",
       "      <td>[0, 0, 0, 0, 0, 0, 0, 0, 11, 9, 18, 2, 5, 5]</td>\n",
       "      <td>0</td>\n",
       "    </tr>\n",
       "    <tr>\n",
       "      <th>1</th>\n",
       "      <td>[0, 0, 0, 0, 0, 0, 0, 0, 0, 7, 1, 25, 12, 5]</td>\n",
       "      <td>0</td>\n",
       "    </tr>\n",
       "    <tr>\n",
       "      <th>2</th>\n",
       "      <td>[0, 0, 0, 0, 0, 0, 13, 1, 18, 18, 9, 12, 5, 5]</td>\n",
       "      <td>0</td>\n",
       "    </tr>\n",
       "    <tr>\n",
       "      <th>3</th>\n",
       "      <td>[0, 0, 0, 0, 0, 0, 0, 0, 2, 18, 9, 20, 14, 9]</td>\n",
       "      <td>0</td>\n",
       "    </tr>\n",
       "    <tr>\n",
       "      <th>4</th>\n",
       "      <td>[0, 0, 0, 0, 0, 0, 0, 0, 7, 21, 19, 20, 9, 5]</td>\n",
       "      <td>0</td>\n",
       "    </tr>\n",
       "    <tr>\n",
       "      <th>...</th>\n",
       "      <td>...</td>\n",
       "      <td>...</td>\n",
       "    </tr>\n",
       "    <tr>\n",
       "      <th>5953</th>\n",
       "      <td>[0, 0, 0, 0, 0, 0, 0, 0, 0, 5, 12, 9, 8, 21]</td>\n",
       "      <td>1</td>\n",
       "    </tr>\n",
       "    <tr>\n",
       "      <th>5954</th>\n",
       "      <td>[0, 0, 0, 0, 0, 0, 0, 1, 5, 18, 9, 5, 12, 1]</td>\n",
       "      <td>0</td>\n",
       "    </tr>\n",
       "    <tr>\n",
       "      <th>5955</th>\n",
       "      <td>[0, 0, 0, 0, 0, 0, 0, 16, 1, 20, 18, 9, 3, 11]</td>\n",
       "      <td>1</td>\n",
       "    </tr>\n",
       "    <tr>\n",
       "      <th>5956</th>\n",
       "      <td>[0, 0, 0, 0, 0, 0, 0, 0, 16, 9, 5, 18, 3, 5]</td>\n",
       "      <td>1</td>\n",
       "    </tr>\n",
       "    <tr>\n",
       "      <th>5957</th>\n",
       "      <td>[0, 0, 0, 0, 0, 0, 0, 0, 0, 13, 1, 2, 12, 5]</td>\n",
       "      <td>0</td>\n",
       "    </tr>\n",
       "  </tbody>\n",
       "</table>\n",
       "<p>5958 rows × 2 columns</p>\n",
       "</div>"
      ],
      "text/plain": [
       "                                        name_indexed  gender_labelled\n",
       "0       [0, 0, 0, 0, 0, 0, 0, 0, 11, 9, 18, 2, 5, 5]                0\n",
       "1       [0, 0, 0, 0, 0, 0, 0, 0, 0, 7, 1, 25, 12, 5]                0\n",
       "2     [0, 0, 0, 0, 0, 0, 13, 1, 18, 18, 9, 12, 5, 5]                0\n",
       "3      [0, 0, 0, 0, 0, 0, 0, 0, 2, 18, 9, 20, 14, 9]                0\n",
       "4      [0, 0, 0, 0, 0, 0, 0, 0, 7, 21, 19, 20, 9, 5]                0\n",
       "...                                              ...              ...\n",
       "5953    [0, 0, 0, 0, 0, 0, 0, 0, 0, 5, 12, 9, 8, 21]                1\n",
       "5954    [0, 0, 0, 0, 0, 0, 0, 1, 5, 18, 9, 5, 12, 1]                0\n",
       "5955  [0, 0, 0, 0, 0, 0, 0, 16, 1, 20, 18, 9, 3, 11]                1\n",
       "5956    [0, 0, 0, 0, 0, 0, 0, 0, 16, 9, 5, 18, 3, 5]                1\n",
       "5957    [0, 0, 0, 0, 0, 0, 0, 0, 0, 13, 1, 2, 12, 5]                0\n",
       "\n",
       "[5958 rows x 2 columns]"
      ]
     },
     "execution_count": 14,
     "metadata": {},
     "output_type": "execute_result"
    }
   ],
   "source": [
    "train_df"
   ]
  },
  {
   "cell_type": "code",
   "execution_count": 15,
   "metadata": {
    "execution": {
     "iopub.execute_input": "2022-03-23T17:43:29.955023Z",
     "iopub.status.busy": "2022-03-23T17:43:29.953849Z",
     "iopub.status.idle": "2022-03-23T17:43:29.959158Z",
     "shell.execute_reply": "2022-03-23T17:43:29.958651Z",
     "shell.execute_reply.started": "2022-03-23T17:24:29.008204Z"
    },
    "papermill": {
     "duration": 0.049614,
     "end_time": "2022-03-23T17:43:29.959282",
     "exception": false,
     "start_time": "2022-03-23T17:43:29.909668",
     "status": "completed"
    },
    "tags": []
   },
   "outputs": [
    {
     "data": {
      "text/html": [
       "<div>\n",
       "<style scoped>\n",
       "    .dataframe tbody tr th:only-of-type {\n",
       "        vertical-align: middle;\n",
       "    }\n",
       "\n",
       "    .dataframe tbody tr th {\n",
       "        vertical-align: top;\n",
       "    }\n",
       "\n",
       "    .dataframe thead th {\n",
       "        text-align: right;\n",
       "    }\n",
       "</style>\n",
       "<table border=\"1\" class=\"dataframe\">\n",
       "  <thead>\n",
       "    <tr style=\"text-align: right;\">\n",
       "      <th></th>\n",
       "      <th>name_indexed</th>\n",
       "      <th>gender_labelled</th>\n",
       "    </tr>\n",
       "  </thead>\n",
       "  <tbody>\n",
       "    <tr>\n",
       "      <th>0</th>\n",
       "      <td>[0, 0, 0, 0, 0, 0, 0, 11, 18, 9, 19, 20, 1, 12]</td>\n",
       "      <td>0</td>\n",
       "    </tr>\n",
       "    <tr>\n",
       "      <th>1</th>\n",
       "      <td>[0, 0, 0, 0, 0, 0, 0, 0, 8, 9, 12, 12, 5, 12]</td>\n",
       "      <td>1</td>\n",
       "    </tr>\n",
       "    <tr>\n",
       "      <th>2</th>\n",
       "      <td>[0, 0, 0, 0, 0, 0, 0, 0, 11, 1, 12, 22, 9, 14]</td>\n",
       "      <td>1</td>\n",
       "    </tr>\n",
       "    <tr>\n",
       "      <th>3</th>\n",
       "      <td>[0, 0, 0, 0, 0, 0, 0, 0, 0, 0, 19, 21, 19, 25]</td>\n",
       "      <td>0</td>\n",
       "    </tr>\n",
       "    <tr>\n",
       "      <th>4</th>\n",
       "      <td>[0, 0, 0, 0, 0, 0, 13, 1, 18, 19, 8, 1, 12, 12]</td>\n",
       "      <td>1</td>\n",
       "    </tr>\n",
       "    <tr>\n",
       "      <th>...</th>\n",
       "      <td>...</td>\n",
       "      <td>...</td>\n",
       "    </tr>\n",
       "    <tr>\n",
       "      <th>1981</th>\n",
       "      <td>[0, 0, 0, 0, 0, 0, 0, 0, 0, 12, 5, 12, 1, 8]</td>\n",
       "      <td>0</td>\n",
       "    </tr>\n",
       "    <tr>\n",
       "      <th>1982</th>\n",
       "      <td>[0, 0, 0, 0, 0, 0, 0, 0, 11, 15, 18, 14, 5, 25]</td>\n",
       "      <td>0</td>\n",
       "    </tr>\n",
       "    <tr>\n",
       "      <th>1983</th>\n",
       "      <td>[0, 0, 0, 0, 0, 0, 0, 1, 2, 5, 12, 1, 18, 4]</td>\n",
       "      <td>1</td>\n",
       "    </tr>\n",
       "    <tr>\n",
       "      <th>1984</th>\n",
       "      <td>[0, 0, 0, 0, 0, 11, 1, 19, 19, 1, 14, 4, 18, 1]</td>\n",
       "      <td>0</td>\n",
       "    </tr>\n",
       "    <tr>\n",
       "      <th>1985</th>\n",
       "      <td>[0, 0, 0, 0, 0, 0, 0, 16, 8, 9, 12, 9, 16, 1]</td>\n",
       "      <td>0</td>\n",
       "    </tr>\n",
       "  </tbody>\n",
       "</table>\n",
       "<p>1986 rows × 2 columns</p>\n",
       "</div>"
      ],
      "text/plain": [
       "                                         name_indexed  gender_labelled\n",
       "0     [0, 0, 0, 0, 0, 0, 0, 11, 18, 9, 19, 20, 1, 12]                0\n",
       "1       [0, 0, 0, 0, 0, 0, 0, 0, 8, 9, 12, 12, 5, 12]                1\n",
       "2      [0, 0, 0, 0, 0, 0, 0, 0, 11, 1, 12, 22, 9, 14]                1\n",
       "3      [0, 0, 0, 0, 0, 0, 0, 0, 0, 0, 19, 21, 19, 25]                0\n",
       "4     [0, 0, 0, 0, 0, 0, 13, 1, 18, 19, 8, 1, 12, 12]                1\n",
       "...                                               ...              ...\n",
       "1981     [0, 0, 0, 0, 0, 0, 0, 0, 0, 12, 5, 12, 1, 8]                0\n",
       "1982  [0, 0, 0, 0, 0, 0, 0, 0, 11, 15, 18, 14, 5, 25]                0\n",
       "1983     [0, 0, 0, 0, 0, 0, 0, 1, 2, 5, 12, 1, 18, 4]                1\n",
       "1984  [0, 0, 0, 0, 0, 11, 1, 19, 19, 1, 14, 4, 18, 1]                0\n",
       "1985    [0, 0, 0, 0, 0, 0, 0, 16, 8, 9, 12, 9, 16, 1]                0\n",
       "\n",
       "[1986 rows x 2 columns]"
      ]
     },
     "execution_count": 15,
     "metadata": {},
     "output_type": "execute_result"
    }
   ],
   "source": [
    "test_df"
   ]
  },
  {
   "cell_type": "markdown",
   "metadata": {
    "papermill": {
     "duration": 0.028757,
     "end_time": "2022-03-23T17:43:30.016509",
     "exception": false,
     "start_time": "2022-03-23T17:43:29.987752",
     "status": "completed"
    },
    "tags": []
   },
   "source": [
    "## Create a Dataset and DataLoader"
   ]
  },
  {
   "cell_type": "code",
   "execution_count": 16,
   "metadata": {
    "execution": {
     "iopub.execute_input": "2022-03-23T17:43:30.081739Z",
     "iopub.status.busy": "2022-03-23T17:43:30.080724Z",
     "iopub.status.idle": "2022-03-23T17:43:30.084367Z",
     "shell.execute_reply": "2022-03-23T17:43:30.083796Z",
     "shell.execute_reply.started": "2022-03-23T17:24:29.027302Z"
    },
    "papermill": {
     "duration": 0.039962,
     "end_time": "2022-03-23T17:43:30.084484",
     "exception": false,
     "start_time": "2022-03-23T17:43:30.044522",
     "status": "completed"
    },
    "tags": []
   },
   "outputs": [],
   "source": [
    "# Creating a Dataset class for the dataset\n",
    "class NamesDataset(torch_data.Dataset):\n",
    "    def __init__(self, df):\n",
    "        self.df = df\n",
    "    \n",
    "    def __len__(self):\n",
    "        return self.df.shape[0]\n",
    "    \n",
    "    def __getitem__(self, idx):\n",
    "        input_seq = self.df.name_indexed[idx]\n",
    "        return torch.tensor(input_seq), torch.tensor(self.df.gender_labelled[idx])\n",
    "\n",
    "\n",
    "# Creating a data loader to feed to the model\n",
    "names_loader_train = torch_data.DataLoader(NamesDataset(train_df), batch_size=32, shuffle=True)\n",
    "names_loader_test = torch_data.DataLoader(NamesDataset(test_df), batch_size=32, shuffle=True)"
   ]
  },
  {
   "cell_type": "markdown",
   "metadata": {
    "papermill": {
     "duration": 0.02801,
     "end_time": "2022-03-23T17:43:30.140099",
     "exception": false,
     "start_time": "2022-03-23T17:43:30.112089",
     "status": "completed"
    },
    "tags": []
   },
   "source": [
    "### Building the LSTM+Attention model\n",
    "This attention layer was devised by Winata et. al. in this [paper](https://arxiv.org/pdf/1805.12307.pdf)."
   ]
  },
  {
   "cell_type": "code",
   "execution_count": 17,
   "metadata": {
    "execution": {
     "iopub.execute_input": "2022-03-23T17:43:30.208141Z",
     "iopub.status.busy": "2022-03-23T17:43:30.207181Z",
     "iopub.status.idle": "2022-03-23T17:43:30.210986Z",
     "shell.execute_reply": "2022-03-23T17:43:30.210418Z",
     "shell.execute_reply.started": "2022-03-23T17:24:29.037791Z"
    },
    "papermill": {
     "duration": 0.04223,
     "end_time": "2022-03-23T17:43:30.211103",
     "exception": false,
     "start_time": "2022-03-23T17:43:30.168873",
     "status": "completed"
    },
    "tags": []
   },
   "outputs": [],
   "source": [
    "class Attention(nn.Module):\n",
    "    def __init__(self, in_features, *args, bias=True, **kwargs):\n",
    "        super(Attention, self).__init__(*args, **kwargs)\n",
    "        self.bias = bias\n",
    "        self.W = nn.Parameter(torch.randn(in_features, in_features))\n",
    "        if self.bias:\n",
    "            self.b = nn.Parameter(torch.randn(in_features))\n",
    "        self.u = nn.Parameter(torch.randn(in_features))\n",
    "        self.tanh = nn.Tanh()\n",
    "        self.softmax = nn.Softmax(dim=-1)\n",
    "    \n",
    "    def forward(self, x):\n",
    "        uit = torch.matmul(x, self.W)\n",
    "        if self.bias:\n",
    "            uit += self.b\n",
    "        ait = torch.matmul(self.tanh(uit), self.u)\n",
    "        attention = self.softmax(ait)\n",
    "        return attention"
   ]
  },
  {
   "cell_type": "code",
   "execution_count": 18,
   "metadata": {
    "execution": {
     "iopub.execute_input": "2022-03-23T17:43:30.285277Z",
     "iopub.status.busy": "2022-03-23T17:43:30.281559Z",
     "iopub.status.idle": "2022-03-23T17:43:30.289302Z",
     "shell.execute_reply": "2022-03-23T17:43:30.288746Z",
     "shell.execute_reply.started": "2022-03-23T17:24:29.050493Z"
    },
    "papermill": {
     "duration": 0.050045,
     "end_time": "2022-03-23T17:43:30.289451",
     "exception": false,
     "start_time": "2022-03-23T17:43:30.239406",
     "status": "completed"
    },
    "tags": []
   },
   "outputs": [],
   "source": [
    "class GenderClassifierWithAttention(nn.Module):\n",
    "    def __init__(self, input_size, hidden_size, embed_size, *args, **kwargs):\n",
    "        super(GenderClassifierWithAttention, self).__init__(*args, **kwargs)\n",
    "        self.hid_dim = hidden_size\n",
    "        \n",
    "        # embedding layer\n",
    "        self.embedding = nn.Embedding(num_embeddings=input_size, embedding_dim=embed_size)\n",
    "        \n",
    "        # attention layer\n",
    "        self.attention = Attention(self.hid_dim * 2)\n",
    "        \n",
    "        # LSTM layer\n",
    "        self.lstm = nn.LSTM(embed_size, hidden_size=self.hid_dim, num_layers=2, bidirectional=True, batch_first=True)\n",
    "        \n",
    "        # dropout layers\n",
    "        self.dropout1 = nn.Dropout(p=0.4)\n",
    "        self.dropout2 = nn.Dropout(p=0.4)\n",
    "        \n",
    "        # normalization layers\n",
    "        self.batch_norm1 = nn.BatchNorm1d(num_features=15)\n",
    "        self.batch_norm2 = nn.BatchNorm1d(num_features=7)\n",
    "        self.layer_norm = nn.LayerNorm(40)\n",
    "        \n",
    "        # linear layers\n",
    "        self.fc1 = nn.Linear(in_features=self.hid_dim * 2, out_features=15)\n",
    "        self.fc2 = nn.Linear(in_features=15, out_features=7)\n",
    "        self.fc3 = nn.Linear(in_features=7, out_features=2)\n",
    "        \n",
    "        # activation functions\n",
    "        self.tanh = nn.Tanh()\n",
    "        self.relu = nn.ReLU()\n",
    "    \n",
    "    def forward(self, x):\n",
    "        x = self.embedding(x).float()\n",
    "        \n",
    "        out, (h, c) = self.lstm(x)\n",
    "        out = self.layer_norm(out)\n",
    "        attention = self.attention(self.tanh(out))\n",
    "        x = torch.einsum('ijk,ij->ik', out, attention)\n",
    "        \n",
    "        x = self.tanh(self.fc1(x))\n",
    "        x = self.batch_norm1(x)\n",
    "        x = self.dropout1(x)\n",
    "        \n",
    "        x = self.tanh(self.fc2(x))\n",
    "        x = self.batch_norm2(x)\n",
    "        x = self.dropout2(x)\n",
    "        \n",
    "        x = self.fc3(x)\n",
    "        return x, attention"
   ]
  },
  {
   "cell_type": "code",
   "execution_count": 19,
   "metadata": {
    "execution": {
     "iopub.execute_input": "2022-03-23T17:43:30.353204Z",
     "iopub.status.busy": "2022-03-23T17:43:30.352244Z",
     "iopub.status.idle": "2022-03-23T17:48:40.997326Z",
     "shell.execute_reply": "2022-03-23T17:48:40.998814Z",
     "shell.execute_reply.started": "2022-03-23T17:24:29.069830Z"
    },
    "papermill": {
     "duration": 310.68233,
     "end_time": "2022-03-23T17:48:40.999069",
     "exception": false,
     "start_time": "2022-03-23T17:43:30.316739",
     "status": "completed"
    },
    "tags": []
   },
   "outputs": [
    {
     "name": "stdout",
     "output_type": "stream",
     "text": [
      "Epoch: 1\n",
      "\tLoss: 0.024\n",
      "\tVal Loss: 0.020\n",
      "\tAccuracy: 58.71%\n",
      "\tVal Accuracy: 70.04%\n",
      "Epoch: 2\n",
      "\tLoss: 0.023\n",
      "\tVal Loss: 0.019\n",
      "\tAccuracy: 61.28%\n",
      "\tVal Accuracy: 71.55%\n",
      "Epoch: 3\n",
      "\tLoss: 0.021\n",
      "\tVal Loss: 0.018\n",
      "\tAccuracy: 64.99%\n",
      "\tVal Accuracy: 74.12%\n",
      "Epoch: 4\n",
      "\tLoss: 0.020\n",
      "\tVal Loss: 0.017\n",
      "\tAccuracy: 67.07%\n",
      "\tVal Accuracy: 75.73%\n",
      "Epoch: 5\n",
      "\tLoss: 0.018\n",
      "\tVal Loss: 0.016\n",
      "\tAccuracy: 71.38%\n",
      "\tVal Accuracy: 77.09%\n",
      "Epoch: 6\n",
      "\tLoss: 0.018\n",
      "\tVal Loss: 0.015\n",
      "\tAccuracy: 72.68%\n",
      "\tVal Accuracy: 77.84%\n",
      "Epoch: 7\n",
      "\tLoss: 0.017\n",
      "\tVal Loss: 0.015\n",
      "\tAccuracy: 73.90%\n",
      "\tVal Accuracy: 77.84%\n",
      "Epoch: 8\n",
      "\tLoss: 0.016\n",
      "\tVal Loss: 0.015\n",
      "\tAccuracy: 76.02%\n",
      "\tVal Accuracy: 77.19%\n",
      "Epoch: 9\n",
      "\tLoss: 0.016\n",
      "\tVal Loss: 0.015\n",
      "\tAccuracy: 77.32%\n",
      "\tVal Accuracy: 78.05%\n",
      "Epoch: 10\n",
      "\tLoss: 0.016\n",
      "\tVal Loss: 0.014\n",
      "\tAccuracy: 77.14%\n",
      "\tVal Accuracy: 77.19%\n",
      "Epoch: 11\n",
      "\tLoss: 0.015\n",
      "\tVal Loss: 0.014\n",
      "\tAccuracy: 77.29%\n",
      "\tVal Accuracy: 78.30%\n",
      "Epoch: 12\n",
      "\tLoss: 0.015\n",
      "\tVal Loss: 0.015\n",
      "\tAccuracy: 78.13%\n",
      "\tVal Accuracy: 77.95%\n",
      "Epoch: 13\n",
      "\tLoss: 0.015\n",
      "\tVal Loss: 0.014\n",
      "\tAccuracy: 78.99%\n",
      "\tVal Accuracy: 78.45%\n",
      "Epoch: 14\n",
      "\tLoss: 0.015\n",
      "\tVal Loss: 0.014\n",
      "\tAccuracy: 78.57%\n",
      "\tVal Accuracy: 78.50%\n",
      "Epoch: 15\n",
      "\tLoss: 0.015\n",
      "\tVal Loss: 0.014\n",
      "\tAccuracy: 78.94%\n",
      "\tVal Accuracy: 79.10%\n",
      "Epoch: 16\n",
      "\tLoss: 0.015\n",
      "\tVal Loss: 0.014\n",
      "\tAccuracy: 78.90%\n",
      "\tVal Accuracy: 79.36%\n",
      "Epoch: 17\n",
      "\tLoss: 0.014\n",
      "\tVal Loss: 0.013\n",
      "\tAccuracy: 79.44%\n",
      "\tVal Accuracy: 79.36%\n",
      "Epoch: 18\n",
      "\tLoss: 0.014\n",
      "\tVal Loss: 0.013\n",
      "\tAccuracy: 79.34%\n",
      "\tVal Accuracy: 79.76%\n",
      "Epoch: 19\n",
      "\tLoss: 0.014\n",
      "\tVal Loss: 0.014\n",
      "\tAccuracy: 79.10%\n",
      "\tVal Accuracy: 79.76%\n",
      "Epoch: 20\n",
      "\tLoss: 0.014\n",
      "\tVal Loss: 0.013\n",
      "\tAccuracy: 80.72%\n",
      "\tVal Accuracy: 79.25%\n",
      "Epoch: 21\n",
      "\tLoss: 0.014\n",
      "\tVal Loss: 0.013\n",
      "\tAccuracy: 80.14%\n",
      "\tVal Accuracy: 79.00%\n",
      "Epoch: 22\n",
      "\tLoss: 0.014\n",
      "\tVal Loss: 0.014\n",
      "\tAccuracy: 81.08%\n",
      "\tVal Accuracy: 78.75%\n",
      "Epoch: 23\n",
      "\tLoss: 0.014\n",
      "\tVal Loss: 0.013\n",
      "\tAccuracy: 81.10%\n",
      "\tVal Accuracy: 79.86%\n",
      "Epoch: 24\n",
      "\tLoss: 0.014\n",
      "\tVal Loss: 0.013\n",
      "\tAccuracy: 80.25%\n",
      "\tVal Accuracy: 79.86%\n",
      "Epoch: 25\n",
      "\tLoss: 0.014\n",
      "\tVal Loss: 0.014\n",
      "\tAccuracy: 80.65%\n",
      "\tVal Accuracy: 79.66%\n",
      "Epoch: 26\n",
      "\tLoss: 0.014\n",
      "\tVal Loss: 0.014\n",
      "\tAccuracy: 80.98%\n",
      "\tVal Accuracy: 81.17%\n",
      "Epoch: 27\n",
      "\tLoss: 0.013\n",
      "\tVal Loss: 0.013\n",
      "\tAccuracy: 81.30%\n",
      "\tVal Accuracy: 80.51%\n",
      "Epoch: 28\n",
      "\tLoss: 0.013\n",
      "\tVal Loss: 0.013\n",
      "\tAccuracy: 81.52%\n",
      "\tVal Accuracy: 80.61%\n",
      "Epoch: 29\n",
      "\tLoss: 0.013\n",
      "\tVal Loss: 0.014\n",
      "\tAccuracy: 81.47%\n",
      "\tVal Accuracy: 78.20%\n",
      "Epoch: 30\n",
      "\tLoss: 0.013\n",
      "\tVal Loss: 0.014\n",
      "\tAccuracy: 82.06%\n",
      "\tVal Accuracy: 80.51%\n",
      "Epoch: 31\n",
      "\tLoss: 0.013\n",
      "\tVal Loss: 0.013\n",
      "\tAccuracy: 81.99%\n",
      "\tVal Accuracy: 81.52%\n",
      "Epoch: 32\n",
      "\tLoss: 0.013\n",
      "\tVal Loss: 0.014\n",
      "\tAccuracy: 81.89%\n",
      "\tVal Accuracy: 79.86%\n",
      "Epoch: 33\n",
      "\tLoss: 0.013\n",
      "\tVal Loss: 0.013\n",
      "\tAccuracy: 81.89%\n",
      "\tVal Accuracy: 80.21%\n",
      "Epoch: 34\n",
      "\tLoss: 0.013\n",
      "\tVal Loss: 0.013\n",
      "\tAccuracy: 82.44%\n",
      "\tVal Accuracy: 80.46%\n",
      "Epoch: 35\n",
      "\tLoss: 0.013\n",
      "\tVal Loss: 0.013\n",
      "\tAccuracy: 82.88%\n",
      "\tVal Accuracy: 81.47%\n",
      "Epoch: 36\n",
      "\tLoss: 0.013\n",
      "\tVal Loss: 0.014\n",
      "\tAccuracy: 82.26%\n",
      "\tVal Accuracy: 80.82%\n",
      "Epoch: 37\n",
      "\tLoss: 0.013\n",
      "\tVal Loss: 0.013\n",
      "\tAccuracy: 82.39%\n",
      "\tVal Accuracy: 80.36%\n",
      "Epoch: 38\n",
      "\tLoss: 0.013\n",
      "\tVal Loss: 0.013\n",
      "\tAccuracy: 82.95%\n",
      "\tVal Accuracy: 81.47%\n",
      "Epoch: 39\n",
      "\tLoss: 0.013\n",
      "\tVal Loss: 0.014\n",
      "\tAccuracy: 83.06%\n",
      "\tVal Accuracy: 80.41%\n",
      "Epoch: 40\n",
      "\tLoss: 0.013\n",
      "\tVal Loss: 0.013\n",
      "\tAccuracy: 82.51%\n",
      "\tVal Accuracy: 80.31%\n",
      "Epoch: 41\n",
      "\tLoss: 0.013\n",
      "\tVal Loss: 0.014\n",
      "\tAccuracy: 83.50%\n",
      "\tVal Accuracy: 81.57%\n",
      "Epoch: 42\n",
      "\tLoss: 0.013\n",
      "\tVal Loss: 0.013\n",
      "\tAccuracy: 82.23%\n",
      "\tVal Accuracy: 80.46%\n",
      "Epoch: 43\n",
      "\tLoss: 0.013\n",
      "\tVal Loss: 0.013\n",
      "\tAccuracy: 83.00%\n",
      "\tVal Accuracy: 81.47%\n",
      "Epoch: 44\n",
      "\tLoss: 0.013\n",
      "\tVal Loss: 0.014\n",
      "\tAccuracy: 82.73%\n",
      "\tVal Accuracy: 79.86%\n",
      "Epoch: 45\n",
      "\tLoss: 0.012\n",
      "\tVal Loss: 0.013\n",
      "\tAccuracy: 83.37%\n",
      "\tVal Accuracy: 81.12%\n",
      "Epoch: 46\n",
      "\tLoss: 0.012\n",
      "\tVal Loss: 0.014\n",
      "\tAccuracy: 83.22%\n",
      "\tVal Accuracy: 81.17%\n",
      "Epoch: 47\n",
      "\tLoss: 0.012\n",
      "\tVal Loss: 0.013\n",
      "\tAccuracy: 83.74%\n",
      "\tVal Accuracy: 80.31%\n",
      "Epoch: 48\n",
      "\tLoss: 0.013\n",
      "\tVal Loss: 0.013\n",
      "\tAccuracy: 83.13%\n",
      "\tVal Accuracy: 81.37%\n",
      "Epoch: 49\n",
      "\tLoss: 0.012\n",
      "\tVal Loss: 0.013\n",
      "\tAccuracy: 83.57%\n",
      "\tVal Accuracy: 80.21%\n",
      "Epoch: 50\n",
      "\tLoss: 0.012\n",
      "\tVal Loss: 0.013\n",
      "\tAccuracy: 83.87%\n",
      "\tVal Accuracy: 79.96%\n",
      "Epoch: 51\n",
      "\tLoss: 0.012\n",
      "\tVal Loss: 0.013\n",
      "\tAccuracy: 83.75%\n",
      "\tVal Accuracy: 81.82%\n",
      "Epoch: 52\n",
      "\tLoss: 0.012\n",
      "\tVal Loss: 0.014\n",
      "\tAccuracy: 83.45%\n",
      "\tVal Accuracy: 81.52%\n",
      "Epoch: 53\n",
      "\tLoss: 0.012\n",
      "\tVal Loss: 0.013\n",
      "\tAccuracy: 84.37%\n",
      "\tVal Accuracy: 80.82%\n",
      "Epoch: 54\n",
      "\tLoss: 0.012\n",
      "\tVal Loss: 0.013\n",
      "\tAccuracy: 83.52%\n",
      "\tVal Accuracy: 81.12%\n",
      "Epoch: 55\n",
      "\tLoss: 0.012\n",
      "\tVal Loss: 0.013\n",
      "\tAccuracy: 83.85%\n",
      "\tVal Accuracy: 80.16%\n",
      "Epoch: 56\n",
      "\tLoss: 0.012\n",
      "\tVal Loss: 0.013\n",
      "\tAccuracy: 83.72%\n",
      "\tVal Accuracy: 80.26%\n",
      "Epoch: 57\n",
      "\tLoss: 0.012\n",
      "\tVal Loss: 0.013\n",
      "\tAccuracy: 83.65%\n",
      "\tVal Accuracy: 81.27%\n",
      "Epoch: 58\n",
      "\tLoss: 0.012\n",
      "\tVal Loss: 0.013\n",
      "\tAccuracy: 84.41%\n",
      "\tVal Accuracy: 82.02%\n",
      "Epoch: 59\n",
      "\tLoss: 0.012\n",
      "\tVal Loss: 0.013\n",
      "\tAccuracy: 84.34%\n",
      "\tVal Accuracy: 81.42%\n",
      "Epoch: 60\n",
      "\tLoss: 0.012\n",
      "\tVal Loss: 0.013\n",
      "\tAccuracy: 83.92%\n",
      "\tVal Accuracy: 80.87%\n",
      "Epoch: 61\n",
      "\tLoss: 0.012\n",
      "\tVal Loss: 0.013\n",
      "\tAccuracy: 84.22%\n",
      "\tVal Accuracy: 80.56%\n",
      "Epoch: 62\n",
      "\tLoss: 0.012\n",
      "\tVal Loss: 0.013\n",
      "\tAccuracy: 84.53%\n",
      "\tVal Accuracy: 82.12%\n",
      "Epoch: 63\n",
      "\tLoss: 0.012\n",
      "\tVal Loss: 0.013\n",
      "\tAccuracy: 84.51%\n",
      "\tVal Accuracy: 81.12%\n",
      "Epoch: 64\n",
      "\tLoss: 0.012\n",
      "\tVal Loss: 0.013\n",
      "\tAccuracy: 84.64%\n",
      "\tVal Accuracy: 80.87%\n",
      "Epoch: 65\n",
      "\tLoss: 0.012\n",
      "\tVal Loss: 0.013\n",
      "\tAccuracy: 84.26%\n",
      "\tVal Accuracy: 80.72%\n",
      "Epoch: 66\n",
      "\tLoss: 0.012\n",
      "\tVal Loss: 0.013\n",
      "\tAccuracy: 84.59%\n",
      "\tVal Accuracy: 81.17%\n",
      "Epoch: 67\n",
      "\tLoss: 0.012\n",
      "\tVal Loss: 0.013\n",
      "\tAccuracy: 84.81%\n",
      "\tVal Accuracy: 81.67%\n",
      "Epoch: 68\n",
      "\tLoss: 0.011\n",
      "\tVal Loss: 0.013\n",
      "\tAccuracy: 84.79%\n",
      "\tVal Accuracy: 80.46%\n",
      "Epoch: 69\n",
      "\tLoss: 0.011\n",
      "\tVal Loss: 0.013\n",
      "\tAccuracy: 85.31%\n",
      "\tVal Accuracy: 81.77%\n",
      "Epoch: 70\n",
      "\tLoss: 0.012\n",
      "\tVal Loss: 0.013\n",
      "\tAccuracy: 84.44%\n",
      "\tVal Accuracy: 80.56%\n",
      "Epoch: 71\n",
      "\tLoss: 0.011\n",
      "\tVal Loss: 0.013\n",
      "\tAccuracy: 85.15%\n",
      "\tVal Accuracy: 81.12%\n",
      "Epoch: 72\n",
      "\tLoss: 0.011\n",
      "\tVal Loss: 0.013\n",
      "\tAccuracy: 84.98%\n",
      "\tVal Accuracy: 81.92%\n",
      "Epoch: 73\n",
      "\tLoss: 0.011\n",
      "\tVal Loss: 0.013\n",
      "\tAccuracy: 85.40%\n",
      "\tVal Accuracy: 80.72%\n",
      "Epoch: 74\n",
      "\tLoss: 0.011\n",
      "\tVal Loss: 0.013\n",
      "\tAccuracy: 85.08%\n",
      "\tVal Accuracy: 80.51%\n",
      "Epoch: 75\n",
      "\tLoss: 0.011\n",
      "\tVal Loss: 0.013\n",
      "\tAccuracy: 85.36%\n",
      "\tVal Accuracy: 81.92%\n",
      "Epoch: 76\n",
      "\tLoss: 0.012\n",
      "\tVal Loss: 0.013\n",
      "\tAccuracy: 84.31%\n",
      "\tVal Accuracy: 81.32%\n",
      "Epoch: 77\n",
      "\tLoss: 0.012\n",
      "\tVal Loss: 0.013\n",
      "\tAccuracy: 85.21%\n",
      "\tVal Accuracy: 81.02%\n",
      "Epoch: 78\n",
      "\tLoss: 0.011\n",
      "\tVal Loss: 0.013\n",
      "\tAccuracy: 85.38%\n",
      "\tVal Accuracy: 80.61%\n",
      "Epoch: 79\n",
      "\tLoss: 0.011\n",
      "\tVal Loss: 0.013\n",
      "\tAccuracy: 85.50%\n",
      "\tVal Accuracy: 81.12%\n",
      "Epoch: 80\n",
      "\tLoss: 0.011\n",
      "\tVal Loss: 0.013\n",
      "\tAccuracy: 85.80%\n",
      "\tVal Accuracy: 81.87%\n",
      "Epoch: 81\n",
      "\tLoss: 0.011\n",
      "\tVal Loss: 0.013\n",
      "\tAccuracy: 85.41%\n",
      "\tVal Accuracy: 81.92%\n",
      "Epoch: 82\n",
      "\tLoss: 0.011\n",
      "\tVal Loss: 0.013\n",
      "\tAccuracy: 85.85%\n",
      "\tVal Accuracy: 80.87%\n",
      "Epoch: 83\n",
      "\tLoss: 0.011\n",
      "\tVal Loss: 0.013\n",
      "\tAccuracy: 85.55%\n",
      "\tVal Accuracy: 81.87%\n",
      "Epoch: 84\n",
      "\tLoss: 0.011\n",
      "\tVal Loss: 0.013\n",
      "\tAccuracy: 86.02%\n",
      "\tVal Accuracy: 81.52%\n",
      "Epoch: 85\n",
      "\tLoss: 0.011\n",
      "\tVal Loss: 0.013\n",
      "\tAccuracy: 86.15%\n",
      "\tVal Accuracy: 81.27%\n",
      "Epoch: 86\n",
      "\tLoss: 0.011\n",
      "\tVal Loss: 0.013\n",
      "\tAccuracy: 85.68%\n",
      "\tVal Accuracy: 81.77%\n",
      "Epoch: 87\n",
      "\tLoss: 0.011\n",
      "\tVal Loss: 0.013\n",
      "\tAccuracy: 86.66%\n",
      "\tVal Accuracy: 82.02%\n",
      "Epoch: 88\n",
      "\tLoss: 0.011\n",
      "\tVal Loss: 0.013\n",
      "\tAccuracy: 86.09%\n",
      "\tVal Accuracy: 81.47%\n",
      "Epoch: 89\n",
      "\tLoss: 0.011\n",
      "\tVal Loss: 0.013\n",
      "\tAccuracy: 85.99%\n",
      "\tVal Accuracy: 81.42%\n",
      "Epoch: 90\n",
      "\tLoss: 0.011\n",
      "\tVal Loss: 0.014\n",
      "\tAccuracy: 85.82%\n",
      "\tVal Accuracy: 81.47%\n",
      "Epoch: 91\n",
      "\tLoss: 0.011\n",
      "\tVal Loss: 0.013\n",
      "\tAccuracy: 85.87%\n",
      "\tVal Accuracy: 80.87%\n",
      "Epoch: 92\n",
      "\tLoss: 0.011\n",
      "\tVal Loss: 0.013\n",
      "\tAccuracy: 86.74%\n",
      "\tVal Accuracy: 80.77%\n",
      "Epoch: 93\n",
      "\tLoss: 0.011\n",
      "\tVal Loss: 0.013\n",
      "\tAccuracy: 86.30%\n",
      "\tVal Accuracy: 80.92%\n",
      "Epoch: 94\n",
      "\tLoss: 0.011\n",
      "\tVal Loss: 0.013\n",
      "\tAccuracy: 86.39%\n",
      "\tVal Accuracy: 80.51%\n",
      "Epoch: 95\n",
      "\tLoss: 0.011\n",
      "\tVal Loss: 0.014\n",
      "\tAccuracy: 86.61%\n",
      "\tVal Accuracy: 81.92%\n",
      "Epoch: 96\n",
      "\tLoss: 0.011\n",
      "\tVal Loss: 0.014\n",
      "\tAccuracy: 86.35%\n",
      "\tVal Accuracy: 81.52%\n",
      "Epoch: 97\n",
      "\tLoss: 0.010\n",
      "\tVal Loss: 0.014\n",
      "\tAccuracy: 86.87%\n",
      "\tVal Accuracy: 80.92%\n",
      "Epoch: 98\n",
      "\tLoss: 0.010\n",
      "\tVal Loss: 0.013\n",
      "\tAccuracy: 86.61%\n",
      "\tVal Accuracy: 81.02%\n",
      "Epoch: 99\n",
      "\tLoss: 0.011\n",
      "\tVal Loss: 0.013\n",
      "\tAccuracy: 85.99%\n",
      "\tVal Accuracy: 81.72%\n",
      "Epoch: 100\n",
      "\tLoss: 0.010\n",
      "\tVal Loss: 0.013\n",
      "\tAccuracy: 86.93%\n",
      "\tVal Accuracy: 81.37%\n"
     ]
    }
   ],
   "source": [
    "lstm_attention = GenderClassifierWithAttention(input_size=len(char_stoi.keys()), hidden_size=20, embed_size=30).to(device)\n",
    "# print(sum(p.numel() for p in lstm_attention.parameters()))\n",
    "optim_adam = optim.Adam(lstm_attention.parameters(), lr=1e-4, weight_decay=1e-3)\n",
    "criterion = nn.CrossEntropyLoss(weight=torch.tensor(class_weights, dtype=torch.float32).to(device))\n",
    "history = train(lstm_attention, optim_adam, criterion, names_loader_train, val_loader=names_loader_test, epochs=100, return_attention=True)\n",
    "torch.save(lstm_attention, 'lstm_attention.pt')"
   ]
  },
  {
   "cell_type": "code",
   "execution_count": 20,
   "metadata": {
    "execution": {
     "iopub.execute_input": "2022-03-23T17:48:41.248636Z",
     "iopub.status.busy": "2022-03-23T17:48:41.247557Z",
     "iopub.status.idle": "2022-03-23T17:48:41.944042Z",
     "shell.execute_reply": "2022-03-23T17:48:41.945378Z",
     "shell.execute_reply.started": "2022-03-23T17:28:01.531316Z"
    },
    "papermill": {
     "duration": 0.82566,
     "end_time": "2022-03-23T17:48:41.945585",
     "exception": false,
     "start_time": "2022-03-23T17:48:41.119925",
     "status": "completed"
    },
    "tags": []
   },
   "outputs": [
    {
     "data": {
      "image/png": "[encoded data removed]",
      "text/plain": [
       "<Figure size 864x288 with 2 Axes>"
      ]
     },
     "metadata": {
      "needs_background": "light"
     },
     "output_type": "display_data"
    }
   ],
   "source": [
    "nrows = 1\n",
    "ncols = 2\n",
    "fig, ax = plt.subplots(nrows, ncols, figsize=(fig_size[0] * ncols, fig_size[1] * nrows))\n",
    "\n",
    "_ = ax[0].plot(range(len(history.loss)), history.loss)\n",
    "if history.val_loss:\n",
    "    _ = ax[0].plot(range(len(history.val_loss)), history.val_loss)\n",
    "    _ = ax[0].legend(['Training', 'Validation'])\n",
    "_ = ax[0].set(xlabel=\"Epoch\", ylabel=\"Loss\", title=\"Loss Curve\")\n",
    "_ = ax[1].plot(range(len(history.accuracy)), history.accuracy)\n",
    "if history.val_accuracy:\n",
    "    _ = ax[1].plot(range(len(history.val_accuracy)), history.val_accuracy)\n",
    "    _ = ax[1].legend(['Training', 'Validation'])\n",
    "_ = ax[1].set(xlabel=\"Epoch\", ylabel=\"Accuracy\", title=\"Accuracy Curve\")\n",
    "_ = plt.tight_layout()"
   ]
  },
  {
   "cell_type": "markdown",
   "metadata": {
    "papermill": {
     "duration": 0.105631,
     "end_time": "2022-03-23T17:48:42.157305",
     "exception": false,
     "start_time": "2022-03-23T17:48:42.051674",
     "status": "completed"
    },
    "tags": []
   },
   "source": [
    "## Evaluate and compute metrics on test set"
   ]
  },
  {
   "cell_type": "code",
   "execution_count": 21,
   "metadata": {
    "execution": {
     "iopub.execute_input": "2022-03-23T17:48:42.375517Z",
     "iopub.status.busy": "2022-03-23T17:48:42.367931Z",
     "iopub.status.idle": "2022-03-23T17:48:55.846978Z",
     "shell.execute_reply": "2022-03-23T17:48:55.847536Z",
     "shell.execute_reply.started": "2022-03-23T17:28:01.864155Z"
    },
    "papermill": {
     "duration": 13.583387,
     "end_time": "2022-03-23T17:48:55.847693",
     "exception": false,
     "start_time": "2022-03-23T17:48:42.264306",
     "status": "completed"
    },
    "tags": []
   },
   "outputs": [
    {
     "name": "stdout",
     "output_type": "stream",
     "text": [
      "Accuracy: 81.37%\n",
      "Precision: 0.725\n",
      "Recall: 0.800\n",
      "F1 Score: 0.761\n",
      "AUC: 0.903\n"
     ]
    },
    {
     "data": {
      "image/png": "[encoded data removed]",
      "text/plain": [
       "<Figure size 1296x432 with 3 Axes>"
      ]
     },
     "metadata": {
      "needs_background": "light"
     },
     "output_type": "display_data"
    }
   ],
   "source": [
    "lstm_attention.eval()\n",
    "y_true = test_df.gender_labelled.values\n",
    "\n",
    "y_outputs = [\n",
    "    F.softmax(\n",
    "        lstm_attention(\n",
    "            torch.reshape(torch.tensor(test_df.name_indexed.values[i]).to(device), (1, -1))\n",
    "        )[0].detach(), dim=-1) for i in range(test_df.shape[0])\n",
    "]\n",
    "\n",
    "y_pred_proba = [\n",
    "    vec.squeeze().cpu().detach().numpy().tolist()[1] for vec in y_outputs\n",
    "]\n",
    "\n",
    "y_pred = torch.tensor([\n",
    "    torch.max(vec, axis=-1)[1] for vec in y_outputs\n",
    "])\n",
    "\n",
    "# compute metrics on test set\n",
    "accuracy = (y_pred == torch.tensor(y_true)).sum().item() / test_df.shape[0]\n",
    "conf_matrix = metrics.confusion_matrix(y_true, y_pred)\n",
    "precision = metrics.precision_score(y_true, y_pred)\n",
    "recall = metrics.recall_score(y_true, y_pred)\n",
    "f1_score = metrics.f1_score(y_true, y_pred)\n",
    "fpr, tpr, thresholds = metrics.roc_curve(y_true, y_pred_proba)\n",
    "auc_score = metrics.auc(fpr, tpr)\n",
    "\n",
    "print(f\"Accuracy: {accuracy * 100:.2f}%\")\n",
    "print(f\"Precision: {precision:.3f}\")\n",
    "print(f\"Recall: {recall:.3f}\")\n",
    "print(f\"F1 Score: {f1_score:.3f}\")\n",
    "print(f\"AUC: {auc_score:.3f}\")\n",
    "\n",
    "nrows = 1\n",
    "ncols = 2\n",
    "fig, ax = plt.subplots(nrows, ncols, figsize=(fig_size[0] * 1.5 * ncols, fig_size[1] * 1.5 * nrows))\n",
    "_ = sns.heatmap(conf_matrix, annot=True, fmt='d', ax=ax[0])\n",
    "_ = ax[0].set_xticklabels([\"female\", \"male\"], fontsize=13)\n",
    "_ = ax[0].set_yticklabels([\"female\", \"male\"], fontsize=13)\n",
    "_ = ax[0].set_xlabel(\"Predicted Labels\", fontsize=15)\n",
    "_ = ax[0].set_ylabel(\"Actual Labels\", fontsize=15)\n",
    "_ = sns.lineplot(fpr, tpr, ax=ax[1], label=f\"AUC: {auc_score:.3f}\")\n",
    "_ = ax[1].set_xlabel(\"False Positive Rate\", fontsize=13)\n",
    "_ = ax[1].set_ylabel(\"True Positive Rate\", fontsize=13)\n",
    "_ = plt.tight_layout()"
   ]
  },
  {
   "cell_type": "markdown",
   "metadata": {
    "papermill": {
     "duration": 0.065372,
     "end_time": "2022-03-23T17:48:55.980269",
     "exception": false,
     "start_time": "2022-03-23T17:48:55.914897",
     "status": "completed"
    },
    "tags": []
   },
   "source": [
    "Plotting the attention components of randomly sampled examples"
   ]
  },
  {
   "cell_type": "code",
   "execution_count": 22,
   "metadata": {
    "execution": {
     "iopub.execute_input": "2022-03-23T17:48:56.127107Z",
     "iopub.status.busy": "2022-03-23T17:48:56.125944Z",
     "iopub.status.idle": "2022-03-23T17:48:57.336705Z",
     "shell.execute_reply": "2022-03-23T17:48:57.335976Z",
     "shell.execute_reply.started": "2022-03-23T17:28:11.898216Z"
    },
    "papermill": {
     "duration": 1.292582,
     "end_time": "2022-03-23T17:48:57.336827",
     "exception": false,
     "start_time": "2022-03-23T17:48:56.044245",
     "status": "completed"
    },
    "tags": []
   },
   "outputs": [
    {
     "data": {
      "image/png": "[encoded data removed]",
      "text/plain": [
       "<Figure size 1296x576 with 6 Axes>"
      ]
     },
     "metadata": {
      "needs_background": "light"
     },
     "output_type": "display_data"
    }
   ],
   "source": [
    "# randomly sample names from each gender\n",
    "samples_per_gender = 3\n",
    "male_sample_names = names_df.loc[names_df.gender == 'male', :].sample(n=samples_per_gender).name.values.tolist()\n",
    "female_sample_names = names_df.loc[names_df.gender == 'female', :].sample(n=samples_per_gender).name.values.tolist()\n",
    "sample_names = male_sample_names + female_sample_names\n",
    "names_indexed = [list(map(lambda x: char_stoi[x], name)) for name in sample_names]\n",
    "\n",
    "# set model to evaluation mode\n",
    "lstm_attention.eval()\n",
    "\n",
    "# inference on samples\n",
    "outs = [lstm_attention(torch.tensor([name]).to(device)) for name in names_indexed]\n",
    "probs = [out[0] for out in outs]\n",
    "att_vecs = [out[1] for out in outs]\n",
    "\n",
    "# plot attention weights for each sample\n",
    "colors = {\n",
    "    'xanadu': '#738678',\n",
    "    'sarcoline': '#FFDDAA',\n",
    "    'fulvous': '#E48400',\n",
    "    'falu': '#801818',\n",
    "    'yale blue': '#0F4D92',\n",
    "    'robins blue': '#1FCECB'\n",
    "}\n",
    "nrows = 2\n",
    "ncols = samples_per_gender\n",
    "fig, ax = plt.subplots(nrows=nrows, ncols=ncols, figsize=(fig_size[0] * ncols, fig_size[1] * nrows))\n",
    "for i, axis in enumerate(ax.flatten()):\n",
    "    _ = sns.barplot(x=list(range(att_vecs[i].shape[1])), y=att_vecs[i].squeeze().cpu().detach().numpy(), color=colors['robins blue'], ax=axis)\n",
    "    _ = axis.set_xticklabels(list(sample_names[i]))\n",
    "    _ = axis.set_title(f\"Name: {sample_names[i]}\\nPrediction: {'female' if torch.argmax(probs[i], dim=-1).item() == 0 else 'male'}\\nTrue: {'female' if i // samples_per_gender else 'male'}\")\n",
    "plt.tight_layout()"
   ]
  }
 ],
 "metadata": {
  "kernelspec": {
   "display_name": "Python 3",
   "language": "python",
   "name": "python3"
  },
  "language_info": {
   "codemirror_mode": {
    "name": "ipython",
    "version": 3
   },
   "file_extension": ".py",
   "mimetype": "text/x-python",
   "name": "python",
   "nbconvert_exporter": "python",
   "pygments_lexer": "ipython3",
   "version": "3.7.6"
  },
  "papermill": {
   "duration": 343.861699,
   "end_time": "2022-03-23T17:48:57.609951",
   "environment_variables": {},
   "exception": null,
   "input_path": "__notebook__.ipynb",
   "output_path": "__notebook__.ipynb",
   "parameters": {},
   "start_time": "2022-03-23T17:43:13.748252",
   "version": "2.1.0"
  }
 },
 "nbformat": 4,
 "nbformat_minor": 4
}
